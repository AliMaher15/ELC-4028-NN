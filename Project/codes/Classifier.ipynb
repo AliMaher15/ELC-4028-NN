{
  "cells": [
    {
      "attachments": {},
      "cell_type": "markdown",
      "metadata": {
        "id": "xr0pMIcD1RAw"
      },
      "source": [
        "# 1. Import Libraries and Set Directory\n",
        "---"
      ]
    },
    {
      "attachments": {},
      "cell_type": "markdown",
      "metadata": {
        "id": "ITaSzDbZvD_3"
      },
      "source": [
        "Import Libraries"
      ]
    },
    {
      "cell_type": "code",
      "execution_count": 1,
      "metadata": {
        "id": "xagm99P8BsB6"
      },
      "outputs": [],
      "source": [
        "is_drive = 0"
      ]
    },
    {
      "cell_type": "code",
      "execution_count": 2,
      "metadata": {
        "id": "x6NxANuJ1RA0"
      },
      "outputs": [],
      "source": [
        "if is_drive==1 :\n",
        "    from google.colab import drive\n",
        "    drive.mount('/content/drive')"
      ]
    },
    {
      "cell_type": "code",
      "execution_count": 19,
      "metadata": {
        "id": "6jlUf8k3vD_6"
      },
      "outputs": [],
      "source": [
        "# directory management\n",
        "import os\n",
        "from glob import glob\n",
        "# regular imports\n",
        "import pandas as pd\n",
        "import numpy as np\n",
        "from matplotlib import pyplot as plt\n",
        "from sklearn import metrics\n",
        "\n",
        "# imports for NN\n",
        "import tensorflow as tf\n",
        "from tensorflow import keras\n",
        "import time"
      ]
    },
    {
      "attachments": {},
      "cell_type": "markdown",
      "metadata": {
        "id": "XB2OwBWH1RA5"
      },
      "source": [
        "# 2. Load Dataset\n",
        "---"
      ]
    },
    {
      "cell_type": "code",
      "execution_count": 4,
      "metadata": {
        "id": "1f14-Y5NBklQ"
      },
      "outputs": [],
      "source": [
        "# Spectogram Path\n",
        "if is_drive==1 :   \n",
        "    TRAIN_DIR = \"/content/drive/MyDrive/spectogram-dataset/Train/\"\n",
        "    TEST_DIR = \"/content/drive/MyDrive/spectogram-dataset/Test/\"\n",
        "    AE_SPECTROGRAMS_SAVE_DIR1 = \"/content/drive/MyDrive/autoencoder-generations/Generated-Test/\"\n",
        "    E_SPECTROGRAMS_SAVE_DIR1 = \"/content/drive/MyDrive/autoencoder-generations/Compressed-Test/\"\n",
        "    AE_SPECTROGRAMS_SAVE_DIR2 = \"/content/drive/MyDrive/autoencoder-generations/Generated-Train/\"\n",
        "    E_SPECTROGRAMS_SAVE_DIR2 = \"/content/drive/MyDrive/autoencoder-generations/Compressed-Train/\"\n",
        "else :\n",
        "    TRAIN_DIR = \"../Project/spectogram-dataset/Train/\"\n",
        "    TEST_DIR = \"../Project/spectogram-dataset/Test/\"\n",
        "    AE_SPECTROGRAMS_SAVE_DIR1 = \"../Project/autoencoder-generations/Generated-Test/\"\n",
        "    E_SPECTROGRAMS_SAVE_DIR1 = \"../Project/autoencoder-generations/Compressed-Test/\"\n",
        "    AE_SPECTROGRAMS_SAVE_DIR2 = \"../Project/autoencoder-generations/Generated-Train/\"\n",
        "    E_SPECTROGRAMS_SAVE_DIR2 = \"../Project/autoencoder-generations/Compressed-Train/\""
      ]
    },
    {
      "cell_type": "code",
      "execution_count": 5,
      "metadata": {
        "id": "-qUmHgZk1RA5"
      },
      "outputs": [],
      "source": [
        "def load_fsdd(the_path):\n",
        "    x_train = []\n",
        "    for root, _, file_names in os.walk(the_path):\n",
        "        for file_name in file_names:\n",
        "            file_path = os.path.join(root, file_name)\n",
        "            spectrogram = np.load(file_path) # (n_bins, n_frames)\n",
        "            x_train.append(spectrogram)\n",
        "    x_train = np.array(x_train)        # -> (n_samples, n_bins, n_frames)\n",
        "    x_train = x_train[..., np.newaxis] # -> (1200, 800, 32, 1)\n",
        "    \n",
        "    return x_train"
      ]
    },
    {
      "cell_type": "code",
      "execution_count": 6,
      "metadata": {
        "id": "iKKWiuGDBklT"
      },
      "outputs": [],
      "source": [
        "x_train_raw = load_fsdd(TRAIN_DIR)\n",
        "x_test_raw  = load_fsdd(TEST_DIR)\n",
        "\n",
        "AE_test = load_fsdd(AE_SPECTROGRAMS_SAVE_DIR1)\n",
        "E_test = load_fsdd(E_SPECTROGRAMS_SAVE_DIR1)\n",
        "\n",
        "AE_train = load_fsdd(AE_SPECTROGRAMS_SAVE_DIR2)\n",
        "E_train = load_fsdd(E_SPECTROGRAMS_SAVE_DIR2)\n",
        "\n",
        "AE_test = AE_test[:, :, :, :, 0]\n",
        "AE_train = AE_train[:, :, :, :, 0]"
      ]
    },
    {
      "cell_type": "code",
      "execution_count": 7,
      "metadata": {},
      "outputs": [
        {
          "name": "stdout",
          "output_type": "stream",
          "text": [
            "x_train_raw (1200, 160, 84, 1)\n",
            "x_test_raw (300, 160, 84, 1)\n",
            "\n",
            "\n",
            "AE_test (300, 160, 84, 1)\n",
            "E_test (300, 16, 1)\n",
            "\n",
            "\n",
            "AE_train (1200, 160, 84, 1)\n",
            "E_train (1200, 16, 1)\n"
          ]
        }
      ],
      "source": [
        "print(\"x_train_raw\" , x_train_raw.shape)\n",
        "print(\"x_test_raw\" , x_test_raw.shape)\n",
        "print(\"\\n\")\n",
        "print(\"AE_test\" , AE_test.shape)\n",
        "print(\"E_test\" , E_test.shape)\n",
        "print(\"\\n\")\n",
        "print(\"AE_train\" , AE_train.shape)\n",
        "print(\"E_train\" , E_train.shape)"
      ]
    },
    {
      "cell_type": "code",
      "execution_count": 8,
      "metadata": {},
      "outputs": [],
      "source": [
        "num_classes = 10\n",
        "iterations = 0\n",
        "i = 0\n",
        "y_train = []\n",
        "while iterations!=len(x_train_raw):\n",
        "    iterations +=1\n",
        "    y_train.append(i)\n",
        "    i += 1\n",
        "    if i == num_classes :\n",
        "        i = 0\n",
        "y_train = np.array(y_train)\n",
        "#---------------------------------------------------------------#\n",
        "iterations = 0\n",
        "i = 0\n",
        "y_test =[]\n",
        "while iterations!=len(x_test_raw):\n",
        "    iterations +=1\n",
        "    y_test.append(i)\n",
        "    i += 1\n",
        "    if i == num_classes :\n",
        "        i = 0\n",
        "y_test = np.array(y_test)"
      ]
    },
    {
      "cell_type": "code",
      "execution_count": 9,
      "metadata": {},
      "outputs": [
        {
          "name": "stdout",
          "output_type": "stream",
          "text": [
            "0 5 9\n"
          ]
        }
      ],
      "source": [
        "print(y_train[0], y_train[5], y_test[9])"
      ]
    },
    {
      "attachments": {},
      "cell_type": "markdown",
      "metadata": {},
      "source": [
        "# 3. Create Classifer"
      ]
    },
    {
      "cell_type": "code",
      "execution_count": 10,
      "metadata": {},
      "outputs": [],
      "source": [
        "import keras\n",
        "from keras import layers\n",
        "from keras import Model"
      ]
    },
    {
      "cell_type": "code",
      "execution_count": 11,
      "metadata": {},
      "outputs": [
        {
          "name": "stdout",
          "output_type": "stream",
          "text": [
            "Model: \"classifier\"\n",
            "_________________________________________________________________\n",
            " Layer (type)                Output Shape              Param #   \n",
            "=================================================================\n",
            " Conv2D_1 (Conv2D)           (None, 16, 1, 16)         32        \n",
            "                                                                 \n",
            " BN_1 (BatchNormalization)   (None, 16, 1, 16)         64        \n",
            "                                                                 \n",
            " Conv2D_2 (Conv2D)           (None, 16, 1, 32)         544       \n",
            "                                                                 \n",
            " BN_2 (BatchNormalization)   (None, 16, 1, 32)         128       \n",
            "                                                                 \n",
            " Flatten_1 (Flatten)         (None, 512)               0         \n",
            "                                                                 \n",
            " Dense_1 (Dense)             (None, 84)                43092     \n",
            "                                                                 \n",
            " Drop_1 (Dropout)            (None, 84)                0         \n",
            "                                                                 \n",
            " Dense_2 (Dense)             (None, 10)                850       \n",
            "                                                                 \n",
            "=================================================================\n",
            "Total params: 44,710\n",
            "Trainable params: 44,614\n",
            "Non-trainable params: 96\n",
            "_________________________________________________________________\n"
          ]
        }
      ],
      "source": [
        "classifier = keras.Sequential(name=\"classifier\")\n",
        "\n",
        "# Convolutional layer 1\n",
        "classifier.add(layers.Conv2D(16, (1, 1), activation='relu', \n",
        "                input_shape=(16, 1, 1), padding='valid', name = 'Conv2D_1'))\n",
        "\n",
        "classifier.add(layers.BatchNormalization(name = 'BN_1'))\n",
        "\n",
        "# Average pooling layer 1\n",
        "#classifier.add(layers.AveragePooling2D(pool_size=(1, 1), strides=(2, 2), padding='valid'))\n",
        "\n",
        "# Convolutional layer 2\n",
        "classifier.add(layers.Conv2D(32, (1, 1), activation='relu', padding='valid', name = 'Conv2D_2'))\n",
        "\n",
        "classifier.add(layers.BatchNormalization(name = 'BN_2'))\n",
        "\n",
        "# Average pooling layer 2\n",
        "#classifier.add(layers.AveragePooling2D(pool_size=(1, 1), strides=(2, 2), padding='valid'))\n",
        "\n",
        "# Flatten layer\n",
        "classifier.add(layers.Flatten(name = 'Flatten_1'))\n",
        "\n",
        "# Fully connected layer 1\n",
        "#classifier.add(layers.Dense(120, activation='relu'))\n",
        "\n",
        "# Fully connected layer 2\n",
        "classifier.add(layers.Dense(84, activation='relu', name = 'Dense_1'))\n",
        "\n",
        "classifier.add(layers.Dropout(0.5, name = 'Drop_1'))\n",
        "\n",
        "# Output layer\n",
        "classifier.add(layers.Dense(10, activation='softmax', name = 'Dense_2'))\n",
        "\n",
        "classifier.summary() "
      ]
    },
    {
      "cell_type": "code",
      "execution_count": 12,
      "metadata": {},
      "outputs": [],
      "source": [
        "LEARNING_RATE = 0.0005\n",
        "BATCH_SIZE = 32\n",
        "EPOCHS = 30"
      ]
    },
    {
      "cell_type": "code",
      "execution_count": 13,
      "metadata": {},
      "outputs": [],
      "source": [
        "optimizer = keras.optimizers.Adam(learning_rate=LEARNING_RATE)\n",
        "mse_loss = keras.losses.SparseCategoricalCrossentropy()\n",
        "classifier.compile(optimizer=optimizer, loss=mse_loss, metrics=['accuracy'])"
      ]
    },
    {
      "cell_type": "code",
      "execution_count": 14,
      "metadata": {},
      "outputs": [
        {
          "name": "stdout",
          "output_type": "stream",
          "text": [
            "Epoch 1/30\n",
            "38/38 [==============================] - 4s 27ms/step - loss: 2.1664 - accuracy: 0.2800 - val_loss: 1.6864 - val_accuracy: 0.4833\n",
            "Epoch 2/30\n",
            "38/38 [==============================] - 0s 11ms/step - loss: 1.2040 - accuracy: 0.6075 - val_loss: 1.3085 - val_accuracy: 0.7067\n",
            "Epoch 3/30\n",
            "38/38 [==============================] - 0s 8ms/step - loss: 0.8611 - accuracy: 0.7325 - val_loss: 1.0520 - val_accuracy: 0.7667\n",
            "Epoch 4/30\n",
            "38/38 [==============================] - 0s 9ms/step - loss: 0.6655 - accuracy: 0.7900 - val_loss: 0.8557 - val_accuracy: 0.8033\n",
            "Epoch 5/30\n",
            "38/38 [==============================] - 0s 7ms/step - loss: 0.5437 - accuracy: 0.8333 - val_loss: 0.6992 - val_accuracy: 0.8367\n",
            "Epoch 6/30\n",
            "38/38 [==============================] - 0s 10ms/step - loss: 0.4842 - accuracy: 0.8542 - val_loss: 0.5919 - val_accuracy: 0.8600\n",
            "Epoch 7/30\n",
            "38/38 [==============================] - 0s 7ms/step - loss: 0.4191 - accuracy: 0.8808 - val_loss: 0.5129 - val_accuracy: 0.8633\n",
            "Epoch 8/30\n",
            "38/38 [==============================] - 0s 8ms/step - loss: 0.4101 - accuracy: 0.8608 - val_loss: 0.4416 - val_accuracy: 0.8933\n",
            "Epoch 9/30\n",
            "38/38 [==============================] - 0s 7ms/step - loss: 0.3749 - accuracy: 0.8775 - val_loss: 0.4060 - val_accuracy: 0.8967\n",
            "Epoch 10/30\n",
            "38/38 [==============================] - 0s 7ms/step - loss: 0.3502 - accuracy: 0.8892 - val_loss: 0.3775 - val_accuracy: 0.8967\n",
            "Epoch 11/30\n",
            "38/38 [==============================] - 0s 7ms/step - loss: 0.3238 - accuracy: 0.9017 - val_loss: 0.3573 - val_accuracy: 0.8933\n",
            "Epoch 12/30\n",
            "38/38 [==============================] - 0s 7ms/step - loss: 0.2948 - accuracy: 0.9083 - val_loss: 0.3408 - val_accuracy: 0.9033\n",
            "Epoch 13/30\n",
            "38/38 [==============================] - 0s 8ms/step - loss: 0.2841 - accuracy: 0.9117 - val_loss: 0.3445 - val_accuracy: 0.8967\n",
            "Epoch 14/30\n",
            "38/38 [==============================] - 0s 7ms/step - loss: 0.2528 - accuracy: 0.9300 - val_loss: 0.3258 - val_accuracy: 0.8933\n",
            "Epoch 15/30\n",
            "38/38 [==============================] - 0s 8ms/step - loss: 0.2446 - accuracy: 0.9250 - val_loss: 0.3200 - val_accuracy: 0.9000\n",
            "Epoch 16/30\n",
            "38/38 [==============================] - 0s 8ms/step - loss: 0.2242 - accuracy: 0.9283 - val_loss: 0.3074 - val_accuracy: 0.9033\n",
            "Epoch 17/30\n",
            "38/38 [==============================] - 0s 12ms/step - loss: 0.2308 - accuracy: 0.9283 - val_loss: 0.3237 - val_accuracy: 0.9100\n",
            "Epoch 18/30\n",
            "38/38 [==============================] - 0s 8ms/step - loss: 0.2087 - accuracy: 0.9317 - val_loss: 0.3340 - val_accuracy: 0.8833\n",
            "Epoch 19/30\n",
            "38/38 [==============================] - 0s 7ms/step - loss: 0.1983 - accuracy: 0.9483 - val_loss: 0.3077 - val_accuracy: 0.9033\n",
            "Epoch 20/30\n",
            "38/38 [==============================] - 0s 7ms/step - loss: 0.1995 - accuracy: 0.9350 - val_loss: 0.3115 - val_accuracy: 0.9000\n",
            "Epoch 21/30\n",
            "38/38 [==============================] - 0s 8ms/step - loss: 0.2189 - accuracy: 0.9292 - val_loss: 0.2974 - val_accuracy: 0.9167\n",
            "Epoch 22/30\n",
            "38/38 [==============================] - 0s 8ms/step - loss: 0.1783 - accuracy: 0.9475 - val_loss: 0.2887 - val_accuracy: 0.9200\n",
            "Epoch 23/30\n",
            "38/38 [==============================] - 0s 7ms/step - loss: 0.1646 - accuracy: 0.9442 - val_loss: 0.2770 - val_accuracy: 0.9267\n",
            "Epoch 24/30\n",
            "38/38 [==============================] - 0s 8ms/step - loss: 0.1475 - accuracy: 0.9575 - val_loss: 0.2870 - val_accuracy: 0.9133\n",
            "Epoch 25/30\n",
            "38/38 [==============================] - 0s 7ms/step - loss: 0.1395 - accuracy: 0.9608 - val_loss: 0.2698 - val_accuracy: 0.9200\n",
            "Epoch 26/30\n",
            "38/38 [==============================] - 0s 7ms/step - loss: 0.1485 - accuracy: 0.9558 - val_loss: 0.2600 - val_accuracy: 0.9167\n",
            "Epoch 27/30\n",
            "38/38 [==============================] - 0s 7ms/step - loss: 0.1528 - accuracy: 0.9508 - val_loss: 0.2814 - val_accuracy: 0.9133\n",
            "Epoch 28/30\n",
            "38/38 [==============================] - 0s 7ms/step - loss: 0.1344 - accuracy: 0.9617 - val_loss: 0.2834 - val_accuracy: 0.9033\n",
            "Epoch 29/30\n",
            "38/38 [==============================] - 0s 7ms/step - loss: 0.1315 - accuracy: 0.9667 - val_loss: 0.2792 - val_accuracy: 0.9033\n",
            "Epoch 30/30\n",
            "38/38 [==============================] - 0s 7ms/step - loss: 0.1118 - accuracy: 0.9633 - val_loss: 0.2754 - val_accuracy: 0.9100\n"
          ]
        }
      ],
      "source": [
        "hist = classifier.fit(E_train,\n",
        "                      y_train,\n",
        "                      batch_size=BATCH_SIZE,\n",
        "                      epochs=EPOCHS,\n",
        "                      shuffle=True,\n",
        "                      validation_data=(E_test,y_test))"
      ]
    },
    {
      "cell_type": "code",
      "execution_count": 15,
      "metadata": {},
      "outputs": [
        {
          "data": {
            "image/png": "[encoded data removed]",
            "text/plain": [
              "<Figure size 1000x500 with 2 Axes>"
            ]
          },
          "metadata": {},
          "output_type": "display_data"
        }
      ],
      "source": [
        "plt.figure(figsize=(10,5))\n",
        "plt.subplot(1, 2, 1)\n",
        "plt.title('Loss')\n",
        "plt.plot(hist.history['loss'], 'r')\n",
        "plt.plot(hist.history['val_loss'], 'b')\n",
        "plt.legend([\"Train\", \"Test\"], loc=0, frameon=True)\n",
        "plt.subplot(1, 2, 2)\n",
        "plt.title('Accuracy')\n",
        "plt.plot(hist.history['accuracy'], 'r')\n",
        "plt.plot(hist.history['val_accuracy'], 'b')\n",
        "plt.legend([\"Train\", \"Test\"], loc=0, frameon=True)\n",
        "plt.show()"
      ]
    },
    {
      "cell_type": "code",
      "execution_count": 16,
      "metadata": {},
      "outputs": [
        {
          "name": "stdout",
          "output_type": "stream",
          "text": [
            "10/10 [==============================] - 0s 3ms/step\n",
            "\n",
            "ShouldBe [0 1 2 3 4 5 6 7 8 9]\n",
            "\n",
            "\t [0 1 2 3 4 5 6 7 8 9]\n",
            "\t [7 1 2 3 4 5 6 7 8 9]\n",
            "\t [7 1 2 3 4 5 6 7 8 9]\n",
            "\t [0 1 2 3 4 5 6 7 8 9]\n",
            "\t [0 1 2 3 4 5 6 7 8 9]\n",
            "\t [0 1 2 3 4 5 6 4 8 9]\n",
            "\t [0 1 2 3 4 5 6 8 8 9]\n",
            "\t [0 1 2 2 4 5 6 7 8 9]\n",
            "\t [0 1 2 2 4 5 6 7 8 9]\n",
            "\t [0 2 2 1 4 3 6 7 1 9]\n"
          ]
        }
      ],
      "source": [
        "predict_x=classifier.predict(E_test) \n",
        "classes_x=np.argmax(predict_x,axis=1)\n",
        "print(\"\\nShouldBe [0 1 2 3 4 5 6 7 8 9]\\n\")\n",
        "y = 0\n",
        "for i in range(10):\n",
        "    y = y + 10\n",
        "    print(\"\\t\",classes_x[y:y+10])"
      ]
    },
    {
      "cell_type": "code",
      "execution_count": 29,
      "metadata": {},
      "outputs": [
        {
          "data": {
            "image/png": "[encoded data removed]",
            "text/plain": [
              "<Figure size 640x480 with 2 Axes>"
            ]
          },
          "metadata": {},
          "output_type": "display_data"
        }
      ],
      "source": [
        "confusion_matrix = metrics.confusion_matrix(y_test,classes_x)\n",
        "cm_display = metrics.ConfusionMatrixDisplay(confusion_matrix = confusion_matrix)\n",
        "cm_display.plot(cmap=plt.cm.Blues)\n",
        "plt.show()"
      ]
    }
  ],
  "metadata": {
    "accelerator": "GPU",
    "colab": {
      "provenance": []
    },
    "gpuClass": "standard",
    "kernelspec": {
      "display_name": "Python 3",
      "language": "python",
      "name": "python3"
    },
    "language_info": {
      "codemirror_mode": {
        "name": "ipython",
        "version": 3
      },
      "file_extension": ".py",
      "mimetype": "text/x-python",
      "name": "python",
      "nbconvert_exporter": "python",
      "pygments_lexer": "ipython3",
      "version": "3.10.6"
    },
    "orig_nbformat": 4
  },
  "nbformat": 4,
  "nbformat_minor": 0
}
