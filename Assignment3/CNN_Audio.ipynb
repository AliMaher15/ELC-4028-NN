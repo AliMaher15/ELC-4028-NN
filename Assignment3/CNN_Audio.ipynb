{
  "cells": [
    {
      "cell_type": "markdown",
      "metadata": {
        "id": "ITaSzDbZvD_3"
      },
      "source": [
        "Import Libraries"
      ]
    },
    {
      "cell_type": "code",
      "execution_count": 1,
      "metadata": {
        "id": "6jlUf8k3vD_6"
      },
      "outputs": [],
      "source": [
        "import os\n",
        "from matplotlib import pyplot as plt\n",
        "import tensorflow as tf \n",
        "import tensorflow_io as tfio\n",
        "from tensorflow import keras\n",
        "from keras.models import Sequential\n",
        "from keras.layers import Dense,Dropout,Flatten\n",
        "from keras.layers import Conv2D,MaxPool2D\n",
        "from keras import backend as k"
      ]
    },
    {
      "attachments": {},
      "cell_type": "markdown",
      "metadata": {
        "id": "WB9bSgGvvD_9"
      },
      "source": [
        "Variables:\n",
        "batch: the process of splitting the training dataset in n batches (mini-batches),\n",
        "classes: number of classifications (labels) of the data,\n",
        "epochs: variations, one epoch is one forward pass + one backward pass on training"
      ]
    },
    {
      "cell_type": "code",
      "execution_count": 2,
      "metadata": {
        "id": "xkOeJPRnvD_9"
      },
      "outputs": [],
      "source": [
        "batch_size = 20\n",
        "num_classes = 10\n",
        "epochs = 4"
      ]
    },
    {
      "attachments": {},
      "cell_type": "markdown",
      "metadata": {
        "id": "J3liWIk8vD_-"
      },
      "source": [
        "a function that returns audio in numeric representation"
      ]
    },
    {
      "cell_type": "code",
      "execution_count": 3,
      "metadata": {
        "id": "z3iDkeOvvD__"
      },
      "outputs": [],
      "source": [
        "def load_wav_16k_mono(filename):\n",
        "    # Load encoded wav file\n",
        "    file_contents = tf.io.read_file(filename)\n",
        "    # Decode wav (tensors by channels) \n",
        "    wav, sample_rate = tf.audio.decode_wav(file_contents, desired_channels=1)\n",
        "    # Removes trailing axis\n",
        "    wav = tf.squeeze(wav, axis=-1)\n",
        "    sample_rate = tf.cast(sample_rate, dtype=tf.int64)\n",
        "    return wav"
      ]
    },
    {
      "attachments": {},
      "cell_type": "markdown",
      "metadata": {
        "id": "PtALjtjyvD__"
      },
      "source": [
        "Check a sample of audio"
      ]
    },
    {
      "cell_type": "code",
      "execution_count": 4,
      "metadata": {},
      "outputs": [
        {
          "data": {
            "image/png": "[encoded data removed]",
            "text/plain": [
              "<Figure size 640x480 with 1 Axes>"
            ]
          },
          "metadata": {},
          "output_type": "display_data"
        }
      ],
      "source": [
        "TRAIN_FILE = os.path.join('audio-data','Train','C03n_0.wav')\n",
        "TEST_FILE = os.path.join('audio-data','Test','C04n_2.wav')\n",
        "wave = load_wav_16k_mono(TRAIN_FILE)\n",
        "nwave = load_wav_16k_mono(TEST_FILE)\n",
        "plt.plot(wave)\n",
        "plt.plot(nwave)\n",
        "plt.show()"
      ]
    },
    {
      "cell_type": "code",
      "execution_count": 5,
      "metadata": {
        "id": "TAYZ_TrEvEAF"
      },
      "outputs": [],
      "source": [
        "TRAIN = os.path.join('audio-data', 'Train')\n",
        "TEST = os.path.join('audio-data', 'Test')"
      ]
    },
    {
      "attachments": {},
      "cell_type": "markdown",
      "metadata": {},
      "source": [
        "Read all audio files and sort"
      ]
    },
    {
      "cell_type": "code",
      "execution_count": 6,
      "metadata": {},
      "outputs": [],
      "source": [
        "train = tf.data.Dataset.list_files(TRAIN+'\\*.wav')\n",
        "train = sorted(list(train.as_numpy_iterator()))\n",
        "train = tf.data.Dataset.from_tensor_slices(train)\n",
        "test = tf.data.Dataset.list_files(TEST+'\\*.wav')\n",
        "test = sorted(list(test.as_numpy_iterator()))\n",
        "test = tf.data.Dataset.from_tensor_slices(test)"
      ]
    },
    {
      "attachments": {},
      "cell_type": "markdown",
      "metadata": {},
      "source": [
        "Add Labels"
      ]
    },
    {
      "cell_type": "code",
      "execution_count": 125,
      "metadata": {},
      "outputs": [],
      "source": [
        "iterations = 0\n",
        "i = 0\n",
        "while iterations!=len(train):\n",
        "    iterations +=1\n",
        "    train_label.append(i)\n",
        "    i += 1\n",
        "    if i == 10 :\n",
        "        i = 0\n",
        "trainings = tf.data.Dataset.zip((train, tf.data.Dataset.from_tensor_slices(train_label)))\n",
        "#---------------------------------------------------------------#\n",
        "iterations = 0\n",
        "i = 0\n",
        "y_test=[]\n",
        "while iterations!=len(test):\n",
        "    iterations +=1\n",
        "    test_label.append(i)\n",
        "    i += 1\n",
        "    if i == 10 :\n",
        "        i = 0\n",
        "testings = tf.data.Dataset.zip((test, tf.data.Dataset.from_tensor_slices(tf.zeros(len(test_label)))))"
      ]
    },
    {
      "cell_type": "markdown",
      "metadata": {
        "id": "8zGyNu1XvEAG"
      },
      "source": [
        "Design the CNN architecture"
      ]
    },
    {
      "cell_type": "code",
      "execution_count": null,
      "metadata": {
        "colab": {
          "base_uri": "https://localhost:8080/"
        },
        "id": "dgaH6t_XvEAG",
        "outputId": "40a46f13-f7f1-49cd-e940-523f6b25dc24"
      },
      "outputs": [],
      "source": [
        "model=Sequential()\n",
        "\n",
        "model.add( Conv2D(32,kernel_size=(3,3),activation='relu',input_shape=input_shape) )\n",
        "model.add( MaxPool2D(pool_size=(2,2)) )\n",
        "model.add( Conv2D(64,kernel_size=(3,3),activation='relu') )\n",
        "model.add( MaxPool2D(pool_size=(2,2)) )\n",
        "model.add( Conv2D(64,kernel_size=(3,3),activation='relu') )\n",
        "model.add( Flatten() )\n",
        "model.add( Dense(32,activation='relu') )\n",
        "model.add( Dense(num_classes,activation='softmax') )\n",
        "model.summary()"
      ]
    },
    {
      "cell_type": "markdown",
      "metadata": {
        "id": "1HR8V-FSvEAH"
      },
      "source": [
        "Compile the model"
      ]
    },
    {
      "cell_type": "code",
      "execution_count": null,
      "metadata": {
        "colab": {
          "base_uri": "https://localhost:8080/"
        },
        "id": "fil5Jz7zvEAI",
        "outputId": "275fcddb-f5ea-44de-d8df-0eebcc9e456c"
      },
      "outputs": [],
      "source": [
        "model.compile(optimizer=keras.optimizers.Adam(),\n",
        "              loss=keras.losses.categorical_crossentropy,\n",
        "              metrics=['accuracy']\n",
        "             )\n",
        "model.fit(x_train,y_train,\n",
        "          batch_size=batch_size,\n",
        "          epochs=epochs,\n",
        "          verbose=1,\n",
        "          validation_data=(x_test,y_test)\n",
        "          )"
      ]
    },
    {
      "cell_type": "markdown",
      "metadata": {
        "id": "s4Ke4ojU5ONy"
      },
      "source": [
        "Save the Model"
      ]
    },
    {
      "cell_type": "code",
      "execution_count": null,
      "metadata": {
        "colab": {
          "base_uri": "https://localhost:8080/"
        },
        "id": "VkjTm32o5Nsq",
        "outputId": "30692738-5932-4125-fdd5-42bd35472fd2"
      },
      "outputs": [],
      "source": [
        "model.save('simpleCNNmodel_audio.h5')\n",
        "print(\"model is saved\")"
      ]
    }
  ],
  "metadata": {
    "accelerator": "GPU",
    "colab": {
      "provenance": []
    },
    "gpuClass": "standard",
    "kernelspec": {
      "display_name": "Python 3",
      "language": "python",
      "name": "python3"
    },
    "language_info": {
      "codemirror_mode": {
        "name": "ipython",
        "version": 3
      },
      "file_extension": ".py",
      "mimetype": "text/x-python",
      "name": "python",
      "nbconvert_exporter": "python",
      "pygments_lexer": "ipython3",
      "version": "3.10.6"
    },
    "orig_nbformat": 4
  },
  "nbformat": 4,
  "nbformat_minor": 0
}
