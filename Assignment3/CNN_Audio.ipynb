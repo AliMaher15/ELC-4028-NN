{
  "cells": [
    {
      "cell_type": "markdown",
      "metadata": {
        "id": "ITaSzDbZvD_3"
      },
      "source": [
        "Import Libraries"
      ]
    },
    {
      "cell_type": "code",
      "execution_count": 58,
      "metadata": {
        "id": "xagm99P8BsB6",
        "outputId": "0d186b57-5953-4c3e-d22c-354342967d90",
        "colab": {
          "base_uri": "https://localhost:8080/"
        }
      },
      "outputs": [
        {
          "output_type": "stream",
          "name": "stdout",
          "text": [
            "Drive already mounted at /content/drive; to attempt to forcibly remount, call drive.mount(\"/content/drive\", force_remount=True).\n"
          ]
        }
      ],
      "source": [
        "from google.colab import drive\n",
        "drive.mount('/content/drive')"
      ]
    },
    {
      "cell_type": "code",
      "execution_count": 59,
      "metadata": {
        "id": "6jlUf8k3vD_6",
        "outputId": "e82e2c4d-ffc6-482a-8731-ac7f28b3b463",
        "colab": {
          "base_uri": "https://localhost:8080/"
        }
      },
      "outputs": [
        {
          "output_type": "stream",
          "name": "stdout",
          "text": [
            "Looking in indexes: https://pypi.org/simple, https://us-python.pkg.dev/colab-wheels/public/simple/\n",
            "Requirement already satisfied: tensorflow_io in /usr/local/lib/python3.10/dist-packages (0.32.0)\n",
            "Requirement already satisfied: tensorflow-io-gcs-filesystem==0.32.0 in /usr/local/lib/python3.10/dist-packages (from tensorflow_io) (0.32.0)\n"
          ]
        }
      ],
      "source": [
        "import os\n",
        "import numpy as np\n",
        "from matplotlib import pyplot as plt\n",
        "import tensorflow as tf \n",
        "!pip install tensorflow_io\n",
        "import tensorflow_io as tfio\n",
        "from tensorflow import keras\n",
        "from keras import backend as k\n",
        "import time\n",
        "from keras.callbacks import EarlyStopping"
      ]
    },
    {
      "cell_type": "markdown",
      "metadata": {
        "id": "8B9Gh9PaIawq"
      },
      "source": [
        "# 1. Process Audio into Spectogram"
      ]
    },
    {
      "cell_type": "markdown",
      "metadata": {
        "id": "MhqouUe-BklP"
      },
      "source": [
        "Read all audio files and sort"
      ]
    },
    {
      "cell_type": "code",
      "execution_count": 60,
      "metadata": {
        "id": "1f14-Y5NBklQ"
      },
      "outputs": [],
      "source": [
        "TRAIN = os.path.join('/content','drive','MyDrive','audio-dataset', 'Train')\n",
        "TEST = os.path.join('/content','drive','MyDrive','audio-dataset', 'Test')\n",
        "#TRAIN = os.path.join('audio-data', 'Train')\n",
        "#TEST = os.path.join('audio-data', 'Test')\n",
        "train = tf.data.Dataset.list_files(TRAIN+'/*.wav')\n",
        "train = sorted(list(train.as_numpy_iterator()))\n",
        "train = tf.data.Dataset.from_tensor_slices(train)\n",
        "test = tf.data.Dataset.list_files(TEST+'/*.wav')\n",
        "test = sorted(list(test.as_numpy_iterator()))\n",
        "test = tf.data.Dataset.from_tensor_slices(test)"
      ]
    },
    {
      "cell_type": "markdown",
      "metadata": {
        "id": "oL6VGLrKBklQ"
      },
      "source": [
        "Add Labels"
      ]
    },
    {
      "cell_type": "code",
      "execution_count": 61,
      "metadata": {
        "id": "FqnvMBIgBklR"
      },
      "outputs": [],
      "source": [
        "num_classes = 10\n",
        "iterations = 0\n",
        "i = 0\n",
        "train_label = []\n",
        "while iterations!=len(train):\n",
        "    iterations +=1\n",
        "    train_label.append(i)\n",
        "    i += 1\n",
        "    if i == num_classes :\n",
        "        i = 0\n",
        "trainings = tf.data.Dataset.zip((train, tf.data.Dataset.from_tensor_slices(train_label)))\n",
        "#---------------------------------------------------------------#\n",
        "iterations = 0\n",
        "i = 0\n",
        "test_label=[]\n",
        "while iterations!=len(test):\n",
        "    iterations +=1\n",
        "    test_label.append(i)\n",
        "    i += 1\n",
        "    if i == num_classes :\n",
        "        i = 0\n",
        "testings = tf.data.Dataset.zip((test, tf.data.Dataset.from_tensor_slices(test_label)))"
      ]
    },
    {
      "cell_type": "markdown",
      "metadata": {
        "id": "Z9wucjBYBklR"
      },
      "source": [
        "Build Preprocessing Function to get spectogram"
      ]
    },
    {
      "cell_type": "code",
      "source": [
        "def load_wav_16k_mono(filename):\n",
        "    # Load encoded wav file\n",
        "    file_contents = tf.io.read_file(filename)\n",
        "    # Decode wav (tensors by channels) \n",
        "    wav, sample_rate = tf.audio.decode_wav(file_contents, desired_channels=1)\n",
        "    # Removes trailing axis\n",
        "    wav = tf.squeeze(wav, axis=-1)\n",
        "    sample_rate = tf.cast(sample_rate, dtype=tf.int64)\n",
        "    # Goes from 44100Hz to 16000hz - amplitude of the audio signal\n",
        "    wav = tfio.audio.resample(wav, rate_in=sample_rate, rate_out=16000)\n",
        "    return wav"
      ],
      "metadata": {
        "id": "o87wzhsjwmay"
      },
      "execution_count": 62,
      "outputs": []
    },
    {
      "cell_type": "code",
      "execution_count": 63,
      "metadata": {
        "id": "H1Uxr80iBklS"
      },
      "outputs": [],
      "source": [
        "def preprocess(file_path, label): \n",
        "    wav = load_wav_16k_mono(file_path)\n",
        "    #wav = wav[:48000]\n",
        "    #zero_padding = tf.zeros([48000] - tf.shape(wav), dtype=tf.float32)\n",
        "    #wav = tf.concat([zero_padding, wav],0)\n",
        "    spectrogram = tf.signal.stft(wav, frame_length=320, frame_step=32)\n",
        "    spectrogram = tf.abs(spectrogram)\n",
        "    spectrogram = tf.expand_dims(spectrogram, axis=2)\n",
        "    return spectrogram, label"
      ]
    },
    {
      "cell_type": "markdown",
      "metadata": {
        "id": "cq3zzxCPBklT"
      },
      "source": [
        "Convert all to Spectogram"
      ]
    },
    {
      "cell_type": "code",
      "execution_count": 64,
      "metadata": {
        "id": "iKKWiuGDBklT",
        "outputId": "7d2205bd-9134-4cb3-82aa-ba57d32c9772",
        "colab": {
          "base_uri": "https://localhost:8080/"
        }
      },
      "outputs": [
        {
          "output_type": "stream",
          "name": "stderr",
          "text": [
            "WARNING:tensorflow:Using a while_loop for converting IO>AudioResample cause there is no registered converter for this op.\n",
            "WARNING:tensorflow:Using a while_loop for converting IO>AudioResample cause there is no registered converter for this op.\n"
          ]
        }
      ],
      "source": [
        "# train data\n",
        "x_train = trainings.map(preprocess)\n",
        "x_train = x_train.cache()\n",
        "x_train = x_train.shuffle(buffer_size=1000)\n",
        "x_train = x_train.batch(16) # 16 at a time\n",
        "x_train = x_train.prefetch(8)\n",
        "# test data\n",
        "x_test = testings.map(preprocess)\n",
        "x_test = x_test.cache()\n",
        "x_test = x_test.shuffle(buffer_size=1000)\n",
        "x_test = x_test.batch(16) # 16 at a time\n",
        "x_test = x_test.prefetch(8)"
      ]
    },
    {
      "cell_type": "code",
      "execution_count": 65,
      "metadata": {
        "colab": {
          "base_uri": "https://localhost:8080/"
        },
        "id": "NhvPPp2_BklU",
        "outputId": "82a9e980-d332-4efc-a16a-ceeca6c34f12"
      },
      "outputs": [
        {
          "output_type": "stream",
          "name": "stdout",
          "text": [
            "(16, 391, 257, 1)\n",
            "\n",
            " [9 3 1 3 3 0 0 6 0 6] \n",
            "...\n"
          ]
        }
      ],
      "source": [
        "# test one batch\n",
        "samples, labels = x_train.as_numpy_iterator().next()\n",
        "print(samples.shape)\n",
        "print('\\n',labels[0:10],'\\n...')"
      ]
    },
    {
      "cell_type": "markdown",
      "metadata": {
        "id": "pX1ZVQVBHtjW"
      },
      "source": [
        "# 2. CNN no Attention"
      ]
    },
    {
      "cell_type": "markdown",
      "metadata": {
        "id": "8zGyNu1XvEAG"
      },
      "source": [
        "Design the CNN architecture"
      ]
    },
    {
      "cell_type": "code",
      "execution_count": 66,
      "metadata": {
        "id": "VDmx4mx8BklV"
      },
      "outputs": [],
      "source": [
        "from keras.models import Sequential\n",
        "from keras import layers"
      ]
    },
    {
      "cell_type": "code",
      "execution_count": 67,
      "metadata": {
        "colab": {
          "base_uri": "https://localhost:8080/"
        },
        "id": "dgaH6t_XvEAG",
        "outputId": "10f05b72-945b-480e-f7ab-830a43eee623"
      },
      "outputs": [
        {
          "output_type": "stream",
          "name": "stdout",
          "text": [
            "Model: \"sequential_2\"\n",
            "_________________________________________________________________\n",
            " Layer (type)                Output Shape              Param #   \n",
            "=================================================================\n",
            " conv2D_1 (Conv2D)           (None, 389, 255, 16)      160       \n",
            "                                                                 \n",
            " max_pooling2d_4 (MaxPooling  (None, 194, 127, 16)     0         \n",
            " 2D)                                                             \n",
            "                                                                 \n",
            " dropout_2 (Dropout)         (None, 194, 127, 16)      0         \n",
            "                                                                 \n",
            " flatten_2 (Flatten)         (None, 394208)            0         \n",
            "                                                                 \n",
            " output (Dense)              (None, 10)                3942090   \n",
            "                                                                 \n",
            "=================================================================\n",
            "Total params: 3,942,250\n",
            "Trainable params: 3,942,250\n",
            "Non-trainable params: 0\n",
            "_________________________________________________________________\n"
          ]
        }
      ],
      "source": [
        "model=Sequential()\n",
        "input_shape = (391, 257, 1)\n",
        "model.add( layers.Input(shape=input_shape) )\n",
        "model.add( layers.Conv2D(16,kernel_size=(3,3),activation='relu',name=\"conv2D_1\") )\n",
        "model.add( layers.MaxPooling2D(pool_size=(2,2)) )\n",
        "model.add( layers.Dropout(0.5) )\n",
        "model.add( layers.Flatten() )\n",
        "model.add( layers.Dense(num_classes,activation='softmax',name=\"output\") )\n",
        "model.summary()"
      ]
    },
    {
      "cell_type": "markdown",
      "metadata": {
        "id": "1HR8V-FSvEAH"
      },
      "source": [
        "Training"
      ]
    },
    {
      "cell_type": "code",
      "execution_count": 68,
      "metadata": {
        "id": "4CRJsl0rBklW"
      },
      "outputs": [],
      "source": [
        "model.compile(optimizer=keras.optimizers.Adam(),\n",
        "              loss=keras.losses.SparseCategoricalCrossentropy(),\n",
        "              metrics=['accuracy']\n",
        "             )"
      ]
    },
    {
      "cell_type": "code",
      "execution_count": 69,
      "metadata": {
        "colab": {
          "base_uri": "https://localhost:8080/"
        },
        "id": "fil5Jz7zvEAI",
        "outputId": "103ea148-1d7a-49e9-eb71-883402f3aed7"
      },
      "outputs": [
        {
          "output_type": "stream",
          "name": "stdout",
          "text": [
            "Epoch 1/15\n",
            "75/75 [==============================] - 16s 102ms/step - loss: 1.2748 - accuracy: 0.7108 - val_loss: 0.7785 - val_accuracy: 0.7933\n",
            "Epoch 2/15\n",
            "75/75 [==============================] - 2s 29ms/step - loss: 0.2650 - accuracy: 0.9433 - val_loss: 2.4135 - val_accuracy: 0.6467\n",
            "Epoch 3/15\n",
            "75/75 [==============================] - 2s 27ms/step - loss: 0.1548 - accuracy: 0.9675 - val_loss: 1.9680 - val_accuracy: 0.7767\n",
            "Epoch 4/15\n",
            "75/75 [==============================] - 3s 34ms/step - loss: 0.1148 - accuracy: 0.9733 - val_loss: 1.7449 - val_accuracy: 0.7667\n",
            "Epoch 5/15\n",
            "75/75 [==============================] - 2s 28ms/step - loss: 0.0584 - accuracy: 0.9858 - val_loss: 2.1507 - val_accuracy: 0.7967\n",
            "Epoch 6/15\n",
            "75/75 [==============================] - 2s 23ms/step - loss: 0.1713 - accuracy: 0.9692 - val_loss: 1.8018 - val_accuracy: 0.8033\n",
            "Epoch 7/15\n",
            "75/75 [==============================] - 2s 23ms/step - loss: 0.1478 - accuracy: 0.9775 - val_loss: 2.0914 - val_accuracy: 0.7800\n",
            "Epoch 8/15\n",
            "75/75 [==============================] - 2s 23ms/step - loss: 0.1142 - accuracy: 0.9783 - val_loss: 2.2120 - val_accuracy: 0.7733\n",
            "Epoch 9/15\n",
            "75/75 [==============================] - 2s 22ms/step - loss: 0.1152 - accuracy: 0.9842 - val_loss: 3.1905 - val_accuracy: 0.7767\n",
            "Epoch 10/15\n",
            "75/75 [==============================] - 2s 23ms/step - loss: 0.0363 - accuracy: 0.9950 - val_loss: 2.4253 - val_accuracy: 0.8000\n",
            "Epoch 11/15\n",
            "75/75 [==============================] - 2s 26ms/step - loss: 0.0119 - accuracy: 0.9992 - val_loss: 2.6208 - val_accuracy: 0.8000\n",
            "Epoch 12/15\n",
            "75/75 [==============================] - 2s 26ms/step - loss: 0.0403 - accuracy: 0.9958 - val_loss: 3.4966 - val_accuracy: 0.7833\n",
            "Epoch 13/15\n",
            "75/75 [==============================] - 2s 22ms/step - loss: 0.0748 - accuracy: 0.9942 - val_loss: 2.5256 - val_accuracy: 0.7733\n",
            "Epoch 14/15\n",
            "75/75 [==============================] - 2s 24ms/step - loss: 0.0137 - accuracy: 1.0000 - val_loss: 2.3578 - val_accuracy: 0.7867\n",
            "Epoch 15/15\n",
            "75/75 [==============================] - 2s 24ms/step - loss: 0.0068 - accuracy: 1.0000 - val_loss: 2.6007 - val_accuracy: 0.7867\n"
          ]
        }
      ],
      "source": [
        "early_stopping = EarlyStopping(monitor='accuracy', patience=5)\n",
        "tic=time.time()\n",
        "hist = model.fit(x_train,\n",
        "                epochs=15,\n",
        "                shuffle=True,\n",
        "                callbacks=[early_stopping],\n",
        "                validation_data=x_test\n",
        "                )\n",
        "toc=time.time()\n",
        "training_time=toc-tic"
      ]
    },
    {
      "cell_type": "code",
      "source": [
        "plt.figure(figsize=(10,5))\n",
        "plt.subplot(1, 2, 1)\n",
        "plt.title('Loss')\n",
        "plt.plot(hist.history['loss'], 'r')\n",
        "plt.plot(hist.history['val_loss'], 'b')\n",
        "plt.legend([\"Train\", \"Test\"], loc=0, frameon=True)\n",
        "plt.subplot(1, 2, 2)\n",
        "plt.title('Accuracy')\n",
        "plt.plot(hist.history['accuracy'], 'r')\n",
        "plt.plot(hist.history['val_accuracy'], 'b')\n",
        "plt.legend([\"Train\", \"Test\"], loc=0, frameon=True)\n",
        "plt.suptitle(\"Audio no Attention\")\n",
        "plt.show()"
      ],
      "metadata": {
        "id": "mwPDrfqynqHE",
        "outputId": "22729558-e986-43ff-a13e-8cf776fe591b",
        "colab": {
          "base_uri": "https://localhost:8080/",
          "height": 495
        }
      },
      "execution_count": 70,
      "outputs": [
        {
          "output_type": "display_data",
          "data": {
            "text/plain": [
              "<Figure size 1000x500 with 2 Axes>"
            ],
            "image/png": "[encoded data removed]"
          },
          "metadata": {}
        }
      ]
    },
    {
      "cell_type": "code",
      "execution_count": 71,
      "metadata": {
        "colab": {
          "base_uri": "https://localhost:8080/"
        },
        "id": "_6puCERJJVqY",
        "outputId": "734b83e6-67ff-42e0-9a0c-e9ec147277da"
      },
      "outputs": [
        {
          "output_type": "stream",
          "name": "stdout",
          "text": [
            "19/19 [==============================] - 0s 6ms/step - loss: 2.6007 - accuracy: 0.7867\n",
            "Training Time = 50.8 s\n",
            "Testing Time = 154.2 ms\n",
            "Test Loss = 260.10 %:\n",
            "Test Accuracy = 78.70 %:\n"
          ]
        }
      ],
      "source": [
        "tic=time.time()\n",
        "test_loss, test_acc = model.evaluate(x_test)\n",
        "toc=time.time()\n",
        "test_time=toc-tic\n",
        "print(\"Training Time = {} s\".format(np.round(training_time, 1)))\n",
        "print(\"Testing Time = {} ms\".format(np.round(test_time*1000, 1)))\n",
        "print('Test Loss = {:.2f} %:'.format(np.round(test_loss, 3)*100))\n",
        "print('Test Accuracy = {:.2f} %:'.format(np.round(test_acc, 3)*100))"
      ]
    },
    {
      "cell_type": "markdown",
      "metadata": {
        "id": "NnjGStQcHorX"
      },
      "source": [
        "# 3. CNN with Attention"
      ]
    },
    {
      "cell_type": "markdown",
      "metadata": {
        "id": "X9ryVXwXH7au"
      },
      "source": [
        "Design the CNN architecture"
      ]
    },
    {
      "cell_type": "code",
      "source": [
        "from keras import Model"
      ],
      "metadata": {
        "id": "hRw0-_WkvXHR"
      },
      "execution_count": 72,
      "outputs": []
    },
    {
      "cell_type": "code",
      "execution_count": 78,
      "metadata": {
        "colab": {
          "base_uri": "https://localhost:8080/"
        },
        "id": "7J2O7FcDH6d7",
        "outputId": "6c534000-d7a3-4b79-f1c6-ec658057f047"
      },
      "outputs": [
        {
          "output_type": "stream",
          "name": "stdout",
          "text": [
            "Model: \"model_3\"\n",
            "__________________________________________________________________________________________________\n",
            " Layer (type)                   Output Shape         Param #     Connected to                     \n",
            "==================================================================================================\n",
            " input_7 (InputLayer)           [(None, 391, 257, 1  0           []                               \n",
            "                                )]                                                                \n",
            "                                                                                                  \n",
            " Conv2D_1 (Conv2D)              (None, 389, 255, 16  160         ['input_7[0][0]']                \n",
            "                                )                                                                 \n",
            "                                                                                                  \n",
            " Conv2D_2 (Conv2D)              (None, 389, 255, 1)  145         ['Conv2D_1[0][0]']               \n",
            "                                                                                                  \n",
            " Spatial_Attn (Multiply)        (None, 389, 255, 16  0           ['Conv2D_1[0][0]',               \n",
            "                                )                                 'Conv2D_2[0][0]']               \n",
            "                                                                                                  \n",
            " max_pooling2d_6 (MaxPooling2D)  (None, 194, 127, 16  0          ['Spatial_Attn[0][0]']           \n",
            "                                )                                                                 \n",
            "                                                                                                  \n",
            " Drop_1 (Dropout)               (None, 194, 127, 16  0           ['max_pooling2d_6[0][0]']        \n",
            "                                )                                                                 \n",
            "                                                                                                  \n",
            " Flat_1 (Flatten)               (None, 394208)       0           ['Drop_1[0][0]']                 \n",
            "                                                                                                  \n",
            " Output (Dense)                 (None, 10)           3942090     ['Flat_1[0][0]']                 \n",
            "                                                                                                  \n",
            "==================================================================================================\n",
            "Total params: 3,942,395\n",
            "Trainable params: 3,942,395\n",
            "Non-trainable params: 0\n",
            "__________________________________________________________________________________________________\n"
          ]
        }
      ],
      "source": [
        "inputs = keras.layers.Input(shape=input_shape)\n",
        "conv = keras.layers.Conv2D(16,kernel_size=(3,3),activation='relu', name=\"Conv2D_1\")(inputs)\n",
        "#Attention\n",
        "attention = keras.layers.Conv2D(1, (3,3), padding='same', activation='sigmoid', name=\"Conv2D_2\")(conv)\n",
        "attention_mul = keras.layers.Multiply(name=\"Spatial_Attn\")([conv, attention])\n",
        "##########\n",
        "pool = keras.layers.MaxPool2D(pool_size=(2,2))(attention_mul)\n",
        "drop = keras.layers.Dropout(0.5, name=\"Drop_1\")(pool)\n",
        "flatten = keras.layers.Flatten(name=\"Flat_1\")(drop)\n",
        "dense2 = keras.layers.Dense(num_classes,activation='softmax',name=\"Output\")(flatten)\n",
        "modelAtt = keras.Model(inputs=inputs, outputs=dense2)\n",
        "\n",
        "modelAtt.summary()"
      ]
    },
    {
      "cell_type": "markdown",
      "metadata": {
        "id": "dwXMnyAiIG1T"
      },
      "source": [
        "Training"
      ]
    },
    {
      "cell_type": "code",
      "execution_count": 79,
      "metadata": {
        "id": "8ejqCmZ1IIKk"
      },
      "outputs": [],
      "source": [
        "modelAtt.compile(optimizer=keras.optimizers.Adam(),\n",
        "              loss=keras.losses.SparseCategoricalCrossentropy(),\n",
        "              metrics=['accuracy']\n",
        "             )"
      ]
    },
    {
      "cell_type": "code",
      "execution_count": 80,
      "metadata": {
        "colab": {
          "base_uri": "https://localhost:8080/"
        },
        "id": "p4hEzys7IKNS",
        "outputId": "8a095d6b-21ed-40b0-ffd8-55b3bf0a0fc7"
      },
      "outputs": [
        {
          "output_type": "stream",
          "name": "stdout",
          "text": [
            "Epoch 1/15\n",
            "75/75 [==============================] - 5s 43ms/step - loss: 1.4001 - accuracy: 0.7042 - val_loss: 0.6852 - val_accuracy: 0.8233\n",
            "Epoch 2/15\n",
            "75/75 [==============================] - 3s 39ms/step - loss: 0.2900 - accuracy: 0.9467 - val_loss: 0.9931 - val_accuracy: 0.7967\n",
            "Epoch 3/15\n",
            "75/75 [==============================] - 3s 39ms/step - loss: 0.1528 - accuracy: 0.9700 - val_loss: 1.5794 - val_accuracy: 0.7600\n",
            "Epoch 4/15\n",
            "75/75 [==============================] - 3s 40ms/step - loss: 0.0935 - accuracy: 0.9833 - val_loss: 1.8092 - val_accuracy: 0.7800\n",
            "Epoch 5/15\n",
            "75/75 [==============================] - 3s 42ms/step - loss: 0.1085 - accuracy: 0.9850 - val_loss: 1.4628 - val_accuracy: 0.8167\n",
            "Epoch 6/15\n",
            "75/75 [==============================] - 3s 39ms/step - loss: 0.1191 - accuracy: 0.9758 - val_loss: 1.7071 - val_accuracy: 0.8000\n",
            "Epoch 7/15\n",
            "75/75 [==============================] - 3s 39ms/step - loss: 0.0891 - accuracy: 0.9817 - val_loss: 1.5399 - val_accuracy: 0.8433\n",
            "Epoch 8/15\n",
            "75/75 [==============================] - 3s 39ms/step - loss: 0.0499 - accuracy: 0.9917 - val_loss: 1.6282 - val_accuracy: 0.8533\n",
            "Epoch 9/15\n",
            "75/75 [==============================] - 3s 43ms/step - loss: 0.0203 - accuracy: 0.9975 - val_loss: 1.4816 - val_accuracy: 0.8367\n",
            "Epoch 10/15\n",
            "75/75 [==============================] - 3s 40ms/step - loss: 0.0292 - accuracy: 0.9983 - val_loss: 1.5658 - val_accuracy: 0.8600\n",
            "Epoch 11/15\n",
            "75/75 [==============================] - 3s 39ms/step - loss: 0.0217 - accuracy: 0.9967 - val_loss: 1.6055 - val_accuracy: 0.8500\n",
            "Epoch 12/15\n",
            "75/75 [==============================] - 3s 39ms/step - loss: 0.0886 - accuracy: 0.9925 - val_loss: 0.9048 - val_accuracy: 0.8633\n",
            "Epoch 13/15\n",
            "75/75 [==============================] - 3s 42ms/step - loss: 0.0117 - accuracy: 1.0000 - val_loss: 1.0459 - val_accuracy: 0.8533\n",
            "Epoch 14/15\n",
            "75/75 [==============================] - 3s 40ms/step - loss: 0.0079 - accuracy: 1.0000 - val_loss: 1.1094 - val_accuracy: 0.8700\n",
            "Epoch 15/15\n",
            "75/75 [==============================] - 3s 40ms/step - loss: 0.0064 - accuracy: 1.0000 - val_loss: 1.2501 - val_accuracy: 0.8633\n"
          ]
        }
      ],
      "source": [
        "early_stopping = EarlyStopping(monitor='accuracy', patience=5)\n",
        "tic=time.time()\n",
        "hist = modelAtt.fit(x_train,\n",
        "                batch_size=32,\n",
        "                epochs=15,\n",
        "                shuffle=True,\n",
        "                callbacks=[early_stopping],\n",
        "                validation_data=x_test\n",
        "                )\n",
        "toc=time.time()\n",
        "training_time=toc-tic"
      ]
    },
    {
      "cell_type": "code",
      "source": [
        "plt.figure(figsize=(10,5))\n",
        "plt.subplot(1, 2, 1)\n",
        "plt.title('Loss')\n",
        "plt.plot(hist.history['loss'], 'r')\n",
        "plt.plot(hist.history['val_loss'], 'b')\n",
        "plt.legend([\"Train\", \"Test\"], loc=0, frameon=True)\n",
        "plt.subplot(1, 2, 2)\n",
        "plt.title('Accuracy')\n",
        "plt.plot(hist.history['accuracy'], 'r')\n",
        "plt.plot(hist.history['val_accuracy'], 'b')\n",
        "plt.legend([\"Train\", \"Test\"], loc=0, frameon=True)\n",
        "plt.suptitle(\"MNIST with Attention\")\n",
        "plt.show()"
      ],
      "metadata": {
        "id": "U0JXfu1on0Ey",
        "outputId": "4c83dd61-3e42-4f5c-88f1-67030f189a98",
        "colab": {
          "base_uri": "https://localhost:8080/",
          "height": 495
        }
      },
      "execution_count": 81,
      "outputs": [
        {
          "output_type": "display_data",
          "data": {
            "text/plain": [
              "<Figure size 1000x500 with 2 Axes>"
            ],
            "image/png": "[encoded data removed]"
          },
          "metadata": {}
        }
      ]
    },
    {
      "cell_type": "code",
      "execution_count": 82,
      "metadata": {
        "colab": {
          "base_uri": "https://localhost:8080/"
        },
        "id": "GXj-H100JpsN",
        "outputId": "1b732732-1015-4791-f11f-0c2ad0304bb4"
      },
      "outputs": [
        {
          "output_type": "stream",
          "name": "stdout",
          "text": [
            "19/19 [==============================] - 0s 12ms/step - loss: 1.2501 - accuracy: 0.8633\n",
            "Training Time = 50.8 s\n",
            "Testing Time = 240.9 ms\n",
            "Test Loss = 125.00 %:\n",
            "Test Accuracy = 86.30 %:\n"
          ]
        }
      ],
      "source": [
        "tic=time.time()\n",
        "test_loss, test_acc = modelAtt.evaluate(x_test)\n",
        "toc=time.time()\n",
        "test_time=toc-tic\n",
        "print(\"Training Time = {} s\".format(np.round(training_time, 1)))\n",
        "print(\"Testing Time = {} ms\".format(np.round(test_time*1000, 1)))\n",
        "print('Test Loss = {:.2f} %:'.format(np.round(test_loss, 3)*100))\n",
        "print('Test Accuracy = {:.2f} %:'.format(np.round(test_acc, 3)*100))"
      ]
    }
  ],
  "metadata": {
    "accelerator": "GPU",
    "colab": {
      "provenance": []
    },
    "gpuClass": "standard",
    "kernelspec": {
      "display_name": "Python 3",
      "language": "python",
      "name": "python3"
    },
    "language_info": {
      "codemirror_mode": {
        "name": "ipython",
        "version": 3
      },
      "file_extension": ".py",
      "mimetype": "text/x-python",
      "name": "python",
      "nbconvert_exporter": "python",
      "pygments_lexer": "ipython3",
      "version": "3.10.6"
    },
    "orig_nbformat": 4
  },
  "nbformat": 4,
  "nbformat_minor": 0
}