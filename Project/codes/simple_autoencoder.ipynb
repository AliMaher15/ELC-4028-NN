{
  "cells": [
    {
      "attachments": {},
      "cell_type": "markdown",
      "metadata": {
        "id": "xr0pMIcD1RAw"
      },
      "source": [
        "# 1. Import Libraries and Set Directory\n",
        "---"
      ]
    },
    {
      "attachments": {},
      "cell_type": "markdown",
      "metadata": {
        "id": "ITaSzDbZvD_3"
      },
      "source": [
        "Import Libraries"
      ]
    },
    {
      "cell_type": "code",
      "execution_count": 1,
      "metadata": {
        "id": "xagm99P8BsB6"
      },
      "outputs": [],
      "source": [
        "is_drive = 0"
      ]
    },
    {
      "cell_type": "code",
      "execution_count": 2,
      "metadata": {
        "id": "x6NxANuJ1RA0"
      },
      "outputs": [],
      "source": [
        "if is_drive==1 :\n",
        "    from google.colab import drive\n",
        "    drive.mount('/content/drive')"
      ]
    },
    {
      "cell_type": "code",
      "execution_count": 3,
      "metadata": {
        "id": "6jlUf8k3vD_6"
      },
      "outputs": [],
      "source": [
        "# directory management\n",
        "import os\n",
        "from glob import glob\n",
        "# regular imports\n",
        "import pandas as pd\n",
        "import numpy as np\n",
        "from matplotlib import pyplot as plt\n",
        "import seaborn as sns\n",
        "# audio analysis\n",
        "import librosa \n",
        "import librosa.display\n",
        "import IPython.display as ipd\n",
        "# imports for colors and plots\n",
        "from itertools import cycle\n",
        "sns.set_theme(style=\"white\", palette=None)\n",
        "color_pal = plt.rcParams[\"axes.prop_cycle\"].by_key()[\"color\"]\n",
        "color_cycle = cycle(plt.rcParams[\"axes.prop_cycle\"].by_key()[\"color\"])\n",
        "# imports for NN\n",
        "import tensorflow as tf\n",
        "from tensorflow import keras\n",
        "import time"
      ]
    },
    {
      "attachments": {},
      "cell_type": "markdown",
      "metadata": {
        "id": "XB2OwBWH1RA5"
      },
      "source": [
        "# 3. Load Dataset and Training the Models\n",
        "---"
      ]
    },
    {
      "attachments": {},
      "cell_type": "markdown",
      "metadata": {},
      "source": [
        "## 3.1. Loading Spectograms"
      ]
    },
    {
      "cell_type": "code",
      "execution_count": 4,
      "metadata": {
        "id": "1f14-Y5NBklQ"
      },
      "outputs": [],
      "source": [
        "# Spectogram Path\n",
        "if is_drive==1 :   \n",
        "    TRAIN_DIR = \"/content/drive/MyDrive/spectogram-dataset/Train/\"\n",
        "    TEST_DIR = \"/content/drive/MyDrive/spectogram-dataset/Test/\"\n",
        "else :\n",
        "    TRAIN_DIR = \"../Project/spectogram-dataset/Train/\"\n",
        "    TEST_DIR = \"../Project/spectogram-dataset/Test/\""
      ]
    },
    {
      "cell_type": "code",
      "execution_count": 5,
      "metadata": {
        "id": "-qUmHgZk1RA5"
      },
      "outputs": [],
      "source": [
        "def load_fsdd(train_spectrograms_path,test_spectrograms_path):\n",
        "    x_train = []\n",
        "    for root, _, file_names in os.walk(train_spectrograms_path):\n",
        "        for file_name in file_names:\n",
        "            file_path = os.path.join(root, file_name)\n",
        "            spectrogram = np.load(file_path) # (n_bins, n_frames)\n",
        "            x_train.append(spectrogram)\n",
        "    x_train = np.array(x_train)        # -> (n_samples, n_bins, n_frames)\n",
        "    x_train = x_train[..., np.newaxis] # -> (1200, 800, 32, 1)\n",
        "\n",
        "    x_test  = []\n",
        "    for root, _, file_names in os.walk(test_spectrograms_path):\n",
        "        for file_name in file_names:\n",
        "            file_path = os.path.join(root, file_name)\n",
        "            spectrogram = np.load(file_path) # (n_bins, n_frames)\n",
        "            x_test.append(spectrogram)\n",
        "    x_test = np.array(x_test)        # -> (n_samples, n_bins, n_frames)\n",
        "    x_test = x_test[..., np.newaxis] # -> (300, 800, 32, 1)\n",
        "\n",
        "    return x_train,x_test"
      ]
    },
    {
      "cell_type": "code",
      "execution_count": 6,
      "metadata": {
        "id": "iKKWiuGDBklT"
      },
      "outputs": [],
      "source": [
        "x_train, x_test = load_fsdd(TRAIN_DIR, TEST_DIR)"
      ]
    },
    {
      "attachments": {},
      "cell_type": "markdown",
      "metadata": {
        "id": "_wXXIK7v1RA6"
      },
      "source": [
        "## 3.2 Simple Flatten AE"
      ]
    },
    {
      "cell_type": "code",
      "execution_count": 7,
      "metadata": {
        "id": "VDmx4mx8BklV"
      },
      "outputs": [],
      "source": [
        "from keras import layers"
      ]
    },
    {
      "cell_type": "code",
      "execution_count": 8,
      "metadata": {
        "colab": {
          "base_uri": "https://localhost:8080/"
        },
        "id": "ccnE7s4c1RA6",
        "outputId": "068841e7-44a7-4f49-cdf4-383542474b14"
      },
      "outputs": [
        {
          "name": "stdout",
          "output_type": "stream",
          "text": [
            "(1200, 160, 84, 1)\n",
            "(300, 160, 84, 1)\n",
            "(1200, 13440)\n",
            "(300, 13440)\n"
          ]
        }
      ],
      "source": [
        "BATCH_SIZE = 32\n",
        "EPOCHS = 15\n",
        "print(x_train.shape)\n",
        "print(x_test.shape)\n",
        "# flatten the dataset\n",
        "x_train_sm = x_train.reshape((len(x_train), np.prod(x_train.shape[1:])))\n",
        "x_test_sm  = x_test .reshape((len(x_test ), np.prod(x_test .shape[1:])))\n",
        "print(x_train_sm.shape)\n",
        "print(x_test_sm.shape)"
      ]
    },
    {
      "cell_type": "code",
      "execution_count": 17,
      "metadata": {
        "colab": {
          "base_uri": "https://localhost:8080/"
        },
        "id": "7J2O7FcDH6d7",
        "outputId": "ff93204d-1063-4f87-894e-4384a98b24a7"
      },
      "outputs": [
        {
          "name": "stdout",
          "output_type": "stream",
          "text": [
            "Model: \"Simple_AE\"\n",
            "_________________________________________________________________\n",
            " Layer (type)                Output Shape              Param #   \n",
            "=================================================================\n",
            " input_data_Flattened (Input  [(None, 13440)]          0         \n",
            " Layer)                                                          \n",
            "                                                                 \n",
            " Encoder_output (Dense)      (None, 16)                215056    \n",
            "                                                                 \n",
            " AE_output (Dense)           (None, 13440)             228480    \n",
            "                                                                 \n",
            "=================================================================\n",
            "Total params: 443,536\n",
            "Trainable params: 443,536\n",
            "Non-trainable params: 0\n",
            "_________________________________________________________________\n"
          ]
        }
      ],
      "source": [
        "# the size of compression dimension\n",
        "encoding_dim = 16\n",
        "#input image\n",
        "input_img = keras.Input(shape=(13440,), name=\"input_data_Flattened\")\n",
        "#encoded representation of the input\n",
        "encoded = layers.Dense(encoding_dim,activation='relu', name=\"Encoder_output\")(input_img)\n",
        "# lossy reconstruction\n",
        "decoded = layers.Dense(13440, activation=\"sigmoid\", name=\"AE_output\")(encoded)\n",
        "\n",
        "simple_ae = keras.Model(inputs=input_img, outputs=decoded, name=\"Simple_AE\")\n",
        "\n",
        "simple_ae.summary()"
      ]
    },
    {
      "cell_type": "code",
      "execution_count": 18,
      "metadata": {
        "id": "1b8dpBvo1RA6"
      },
      "outputs": [],
      "source": [
        "simple_ae_encoder = keras.Model(inputs=input_img, outputs=encoded)"
      ]
    },
    {
      "cell_type": "code",
      "execution_count": 19,
      "metadata": {
        "id": "u0GXnUcb1RA6"
      },
      "outputs": [],
      "source": [
        "encoded_input = keras.Input(shape=(encoding_dim,))\n",
        "decoder_layer = simple_ae.layers[-1]\n",
        "simple_ae_decoder = keras.Model(inputs=encoded_input, outputs=decoder_layer(encoded_input))"
      ]
    },
    {
      "cell_type": "code",
      "execution_count": 20,
      "metadata": {
        "id": "8ejqCmZ1IIKk"
      },
      "outputs": [],
      "source": [
        "simple_ae.compile(optimizer='adam', loss='binary_crossentropy')"
      ]
    },
    {
      "cell_type": "code",
      "execution_count": 21,
      "metadata": {
        "colab": {
          "base_uri": "https://localhost:8080/"
        },
        "id": "p4hEzys7IKNS",
        "outputId": "2b60411e-2047-4645-9c24-7e36eddc6679"
      },
      "outputs": [
        {
          "name": "stdout",
          "output_type": "stream",
          "text": [
            "Epoch 1/15\n",
            "38/38 [==============================] - 6s 35ms/step - loss: 0.5477 - val_loss: 0.5059\n",
            "Epoch 2/15\n",
            "38/38 [==============================] - 1s 38ms/step - loss: 0.4837 - val_loss: 0.4991\n",
            "Epoch 3/15\n",
            "38/38 [==============================] - 1s 35ms/step - loss: 0.4775 - val_loss: 0.4923\n",
            "Epoch 4/15\n",
            "38/38 [==============================] - 1s 34ms/step - loss: 0.4712 - val_loss: 0.4886\n",
            "Epoch 5/15\n",
            "38/38 [==============================] - 1s 37ms/step - loss: 0.4654 - val_loss: 0.4838\n",
            "Epoch 6/15\n",
            "38/38 [==============================] - 1s 34ms/step - loss: 0.4596 - val_loss: 0.4804\n",
            "Epoch 7/15\n",
            "38/38 [==============================] - 1s 35ms/step - loss: 0.4553 - val_loss: 0.4775\n",
            "Epoch 8/15\n",
            "38/38 [==============================] - 1s 35ms/step - loss: 0.4528 - val_loss: 0.4758\n",
            "Epoch 9/15\n",
            "38/38 [==============================] - 1s 36ms/step - loss: 0.4509 - val_loss: 0.4748\n",
            "Epoch 10/15\n",
            "38/38 [==============================] - 1s 37ms/step - loss: 0.4497 - val_loss: 0.4737\n",
            "Epoch 11/15\n",
            "38/38 [==============================] - 1s 34ms/step - loss: 0.4487 - val_loss: 0.4741\n",
            "Epoch 12/15\n",
            "38/38 [==============================] - 1s 35ms/step - loss: 0.4478 - val_loss: 0.4721\n",
            "Epoch 13/15\n",
            "38/38 [==============================] - 1s 35ms/step - loss: 0.4468 - val_loss: 0.4717\n",
            "Epoch 14/15\n",
            "38/38 [==============================] - 1s 35ms/step - loss: 0.4462 - val_loss: 0.4713\n",
            "Epoch 15/15\n",
            "38/38 [==============================] - 1s 35ms/step - loss: 0.4459 - val_loss: 0.4710\n"
          ]
        }
      ],
      "source": [
        "tic=time.time()\n",
        "with tf.device('/GPU:1'):\n",
        "    hist = simple_ae.fit( x_train_sm,x_train_sm,\n",
        "                        epochs=EPOCHS,\n",
        "                        batch_size=BATCH_SIZE,\n",
        "                        shuffle=True,\n",
        "                        validation_data=(x_test_sm,x_test_sm))\n",
        "toc=time.time()\n",
        "training_time=toc-tic"
      ]
    },
    {
      "cell_type": "code",
      "execution_count": 22,
      "metadata": {
        "colab": {
          "base_uri": "https://localhost:8080/",
          "height": 457
        },
        "id": "_Zyu5s5p1RA7",
        "outputId": "687caf9d-9275-47e7-de0a-aaceaec1c044"
      },
      "outputs": [
        {
          "data": {
            "image/png": "[encoded data removed]",
            "text/plain": [
              "<Figure size 640x480 with 1 Axes>"
            ]
          },
          "metadata": {},
          "output_type": "display_data"
        }
      ],
      "source": [
        "plt.title('Loss')\n",
        "plt.plot(hist.history['loss'], 'r')\n",
        "plt.plot(hist.history['val_loss'], 'b')\n",
        "plt.legend([\"Train\", \"Test\"], loc=0, frameon=True)\n",
        "plt.show()"
      ]
    }
  ],
  "metadata": {
    "accelerator": "GPU",
    "colab": {
      "provenance": []
    },
    "gpuClass": "standard",
    "kernelspec": {
      "display_name": "Python 3",
      "language": "python",
      "name": "python3"
    },
    "language_info": {
      "codemirror_mode": {
        "name": "ipython",
        "version": 3
      },
      "file_extension": ".py",
      "mimetype": "text/x-python",
      "name": "python",
      "nbconvert_exporter": "python",
      "pygments_lexer": "ipython3",
      "version": "3.10.6"
    },
    "orig_nbformat": 4
  },
  "nbformat": 4,
  "nbformat_minor": 0
}
