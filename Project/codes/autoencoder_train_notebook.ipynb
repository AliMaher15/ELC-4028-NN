{
  "cells": [
    {
      "attachments": {},
      "cell_type": "markdown",
      "metadata": {
        "id": "xr0pMIcD1RAw"
      },
      "source": [
        "# 1. Import Libraries and Set Directory\n",
        "---"
      ]
    },
    {
      "attachments": {},
      "cell_type": "markdown",
      "metadata": {
        "id": "ITaSzDbZvD_3"
      },
      "source": [
        "Import Libraries"
      ]
    },
    {
      "cell_type": "code",
      "execution_count": 1,
      "metadata": {
        "id": "xagm99P8BsB6"
      },
      "outputs": [],
      "source": [
        "is_drive = 0"
      ]
    },
    {
      "cell_type": "code",
      "execution_count": 2,
      "metadata": {
        "id": "x6NxANuJ1RA0"
      },
      "outputs": [],
      "source": [
        "if is_drive==1 :\n",
        "    from google.colab import drive\n",
        "    drive.mount('/content/drive')"
      ]
    },
    {
      "cell_type": "code",
      "execution_count": 3,
      "metadata": {
        "id": "6jlUf8k3vD_6"
      },
      "outputs": [],
      "source": [
        "# directory management\n",
        "import os\n",
        "from glob import glob\n",
        "# regular imports\n",
        "import pandas as pd\n",
        "import numpy as np\n",
        "from matplotlib import pyplot as plt\n",
        "import seaborn as sns\n",
        "# audio analysis\n",
        "import librosa \n",
        "import librosa.display\n",
        "import IPython.display as ipd\n",
        "# imports for colors and plots\n",
        "from itertools import cycle\n",
        "sns.set_theme(style=\"white\", palette=None)\n",
        "color_pal = plt.rcParams[\"axes.prop_cycle\"].by_key()[\"color\"]\n",
        "color_cycle = cycle(plt.rcParams[\"axes.prop_cycle\"].by_key()[\"color\"])\n",
        "# imports for NN\n",
        "import tensorflow as tf\n",
        "from tensorflow import keras\n",
        "import time"
      ]
    },
    {
      "attachments": {},
      "cell_type": "markdown",
      "metadata": {
        "id": "XB2OwBWH1RA5"
      },
      "source": [
        "# 3. Load Dataset and Training the Models\n",
        "---"
      ]
    },
    {
      "attachments": {},
      "cell_type": "markdown",
      "metadata": {},
      "source": [
        "## 3.1. Loading Spectograms"
      ]
    },
    {
      "cell_type": "code",
      "execution_count": 5,
      "metadata": {
        "id": "1f14-Y5NBklQ"
      },
      "outputs": [],
      "source": [
        "# Spectogram Path\n",
        "if is_drive==1 :   \n",
        "    TRAIN_DIR = \"/content/drive/MyDrive/spectogram-dataset/Train/\"\n",
        "    TEST_DIR = \"/content/drive/MyDrive/spectogram-dataset/Test/\"\n",
        "else :\n",
        "    TRAIN_DIR = \"../Project/spectogram-dataset/Train/\"\n",
        "    TEST_DIR = \"../Project/spectogram-dataset/Test/\""
      ]
    },
    {
      "cell_type": "code",
      "execution_count": 6,
      "metadata": {
        "id": "-qUmHgZk1RA5"
      },
      "outputs": [],
      "source": [
        "def load_fsdd(train_spectrograms_path,test_spectrograms_path):\n",
        "    x_train = []\n",
        "    for root, _, file_names in os.walk(train_spectrograms_path):\n",
        "        for file_name in file_names:\n",
        "            file_path = os.path.join(root, file_name)\n",
        "            spectrogram = np.load(file_path) # (n_bins, n_frames)\n",
        "            x_train.append(spectrogram)\n",
        "    x_train = np.array(x_train)        # -> (n_samples, n_bins, n_frames)\n",
        "    x_train = x_train[..., np.newaxis] # -> (1200, 800, 32, 1)\n",
        "\n",
        "    x_test  = []\n",
        "    for root, _, file_names in os.walk(test_spectrograms_path):\n",
        "        for file_name in file_names:\n",
        "            file_path = os.path.join(root, file_name)\n",
        "            spectrogram = np.load(file_path) # (n_bins, n_frames)\n",
        "            x_test.append(spectrogram)\n",
        "    x_test = np.array(x_test)        # -> (n_samples, n_bins, n_frames)\n",
        "    x_test = x_test[..., np.newaxis] # -> (300, 800, 32, 1)\n",
        "\n",
        "    return x_train,x_test"
      ]
    },
    {
      "cell_type": "code",
      "execution_count": 19,
      "metadata": {
        "id": "iKKWiuGDBklT"
      },
      "outputs": [],
      "source": [
        "x_train, x_test = load_fsdd(TRAIN_DIR, TEST_DIR)"
      ]
    },
    {
      "attachments": {},
      "cell_type": "markdown",
      "metadata": {},
      "source": [
        "## 3.3 Deep Convolutional AE"
      ]
    },
    {
      "cell_type": "code",
      "execution_count": 8,
      "metadata": {},
      "outputs": [],
      "source": [
        "from autoencoder import Autoencoder"
      ]
    },
    {
      "cell_type": "code",
      "execution_count": 20,
      "metadata": {},
      "outputs": [
        {
          "name": "stdout",
          "output_type": "stream",
          "text": [
            "(1200, 160, 84, 1)\n",
            "(300, 160, 84, 1)\n"
          ]
        }
      ],
      "source": [
        "x_train_ae = x_train # (12800 / 154) + 1 = 84.116\n",
        "x_test_ae = x_test\n",
        "LEARNING_RATE = 0.0005\n",
        "BATCH_SIZE = 32\n",
        "EPOCHS = 15\n",
        "encoding_dim = 16 \n",
        "print(x_train_ae.shape)\n",
        "print(x_test_ae.shape)"
      ]
    },
    {
      "cell_type": "code",
      "execution_count": 21,
      "metadata": {},
      "outputs": [],
      "source": [
        "AE = Autoencoder(\n",
        "    input_shape=(160, 84, 1),\n",
        "    conv_filters=(32, 64, 64, 64),\n",
        "    conv_kernels=(3, 3, 3, 3),\n",
        "    conv_strides=(1, 2, 2, 1),\n",
        "    latent_space_dim=encoding_dim\n",
        ")"
      ]
    },
    {
      "cell_type": "code",
      "execution_count": 22,
      "metadata": {},
      "outputs": [
        {
          "name": "stdout",
          "output_type": "stream",
          "text": [
            "Model: \"encoder\"\n",
            "_________________________________________________________________\n",
            " Layer (type)                Output Shape              Param #   \n",
            "=================================================================\n",
            " encoder_input (InputLayer)  [(None, 160, 84, 1)]      0         \n",
            "                                                                 \n",
            " encoder_conv_layer_1 (Conv2  (None, 160, 84, 32)      320       \n",
            " D)                                                              \n",
            "                                                                 \n",
            " encoder_relu_1 (ReLU)       (None, 160, 84, 32)       0         \n",
            "                                                                 \n",
            " encoder_bn_1 (BatchNormaliz  (None, 160, 84, 32)      128       \n",
            " ation)                                                          \n",
            "                                                                 \n",
            " encoder_conv_layer_2 (Conv2  (None, 80, 42, 64)       18496     \n",
            " D)                                                              \n",
            "                                                                 \n",
            " encoder_relu_2 (ReLU)       (None, 80, 42, 64)        0         \n",
            "                                                                 \n",
            " encoder_bn_2 (BatchNormaliz  (None, 80, 42, 64)       256       \n",
            " ation)                                                          \n",
            "                                                                 \n",
            " encoder_conv_layer_3 (Conv2  (None, 40, 21, 64)       36928     \n",
            " D)                                                              \n",
            "                                                                 \n",
            " encoder_relu_3 (ReLU)       (None, 40, 21, 64)        0         \n",
            "                                                                 \n",
            " encoder_bn_3 (BatchNormaliz  (None, 40, 21, 64)       256       \n",
            " ation)                                                          \n",
            "                                                                 \n",
            " encoder_conv_layer_4 (Conv2  (None, 40, 21, 64)       36928     \n",
            " D)                                                              \n",
            "                                                                 \n",
            " encoder_relu_4 (ReLU)       (None, 40, 21, 64)        0         \n",
            "                                                                 \n",
            " encoder_bn_4 (BatchNormaliz  (None, 40, 21, 64)       256       \n",
            " ation)                                                          \n",
            "                                                                 \n",
            " flatten_1 (Flatten)         (None, 53760)             0         \n",
            "                                                                 \n",
            " encoder_output (Dense)      (None, 16)                860176    \n",
            "                                                                 \n",
            "=================================================================\n",
            "Total params: 953,744\n",
            "Trainable params: 953,296\n",
            "Non-trainable params: 448\n",
            "_________________________________________________________________\n",
            "Model: \"decoder\"\n",
            "_________________________________________________________________\n",
            " Layer (type)                Output Shape              Param #   \n",
            "=================================================================\n",
            " decoder_input (InputLayer)  [(None, 16)]              0         \n",
            "                                                                 \n",
            " decoder_dense (Dense)       (None, 53760)             913920    \n",
            "                                                                 \n",
            " reshape_1 (Reshape)         (None, 40, 21, 64)        0         \n",
            "                                                                 \n",
            " decoder_conv_transpose_laye  (None, 40, 21, 64)       36928     \n",
            " r_1 (Conv2DTranspose)                                           \n",
            "                                                                 \n",
            " decoder_relu_1 (ReLU)       (None, 40, 21, 64)        0         \n",
            "                                                                 \n",
            " decoder_bn_1 (BatchNormaliz  (None, 40, 21, 64)       256       \n",
            " ation)                                                          \n",
            "                                                                 \n",
            " decoder_conv_transpose_laye  (None, 80, 42, 64)       36928     \n",
            " r_2 (Conv2DTranspose)                                           \n",
            "                                                                 \n",
            " decoder_relu_2 (ReLU)       (None, 80, 42, 64)        0         \n",
            "                                                                 \n",
            " decoder_bn_2 (BatchNormaliz  (None, 80, 42, 64)       256       \n",
            " ation)                                                          \n",
            "                                                                 \n",
            " decoder_conv_transpose_laye  (None, 160, 84, 64)      36928     \n",
            " r_3 (Conv2DTranspose)                                           \n",
            "                                                                 \n",
            " decoder_relu_3 (ReLU)       (None, 160, 84, 64)       0         \n",
            "                                                                 \n",
            " decoder_bn_3 (BatchNormaliz  (None, 160, 84, 64)      256       \n",
            " ation)                                                          \n",
            "                                                                 \n",
            " decoder_conv_transpose_laye  (None, 160, 84, 1)       577       \n",
            " r_4 (Conv2DTranspose)                                           \n",
            "                                                                 \n",
            " sigmoid_layer (Activation)  (None, 160, 84, 1)        0         \n",
            "                                                                 \n",
            "=================================================================\n",
            "Total params: 1,026,049\n",
            "Trainable params: 1,025,665\n",
            "Non-trainable params: 384\n",
            "_________________________________________________________________\n",
            "Model: \"autoencoder\"\n",
            "_________________________________________________________________\n",
            " Layer (type)                Output Shape              Param #   \n",
            "=================================================================\n",
            " encoder_input (InputLayer)  [(None, 160, 84, 1)]      0         \n",
            "                                                                 \n",
            " encoder (Functional)        (None, 16)                953744    \n",
            "                                                                 \n",
            " decoder (Functional)        (None, 160, 84, 1)        1026049   \n",
            "                                                                 \n",
            "=================================================================\n",
            "Total params: 1,979,793\n",
            "Trainable params: 1,978,961\n",
            "Non-trainable params: 832\n",
            "_________________________________________________________________\n"
          ]
        }
      ],
      "source": [
        "AE.summary()"
      ]
    },
    {
      "cell_type": "code",
      "execution_count": 23,
      "metadata": {},
      "outputs": [],
      "source": [
        "AE.compile(LEARNING_RATE)"
      ]
    },
    {
      "cell_type": "code",
      "execution_count": 24,
      "metadata": {},
      "outputs": [
        {
          "name": "stdout",
          "output_type": "stream",
          "text": [
            "Train on 1200 samples, validate on 300 samples\n",
            "Epoch 1/15\n",
            "1200/1200 [==============================] - ETA: 0s - loss: 0.0581"
          ]
        },
        {
          "name": "stderr",
          "output_type": "stream",
          "text": [
            "c:\\Users\\Ali\\AppData\\Local\\Programs\\Python\\Python310\\lib\\site-packages\\keras\\engine\\training_v1.py:2335: UserWarning: `Model.state_updates` will be removed in a future version. This property should not be used in TensorFlow 2.0, as `updates` are applied automatically.\n",
            "  updates = self.state_updates\n"
          ]
        },
        {
          "name": "stdout",
          "output_type": "stream",
          "text": [
            "1200/1200 [==============================] - 119s 99ms/sample - loss: 0.0581 - val_loss: 0.0848\n",
            "Epoch 2/15\n",
            "1200/1200 [==============================] - 113s 95ms/sample - loss: 0.0212 - val_loss: 0.0508\n",
            "Epoch 3/15\n",
            "1200/1200 [==============================] - 106s 89ms/sample - loss: 0.0155 - val_loss: 0.0506\n",
            "Epoch 4/15\n",
            "1200/1200 [==============================] - 101s 84ms/sample - loss: 0.0131 - val_loss: 0.0494\n",
            "Epoch 5/15\n",
            "1200/1200 [==============================] - 99s 83ms/sample - loss: 0.0114 - val_loss: 0.0475\n",
            "Epoch 6/15\n",
            "1200/1200 [==============================] - 105s 88ms/sample - loss: 0.0107 - val_loss: 0.0391\n",
            "Epoch 7/15\n",
            "1200/1200 [==============================] - 112s 93ms/sample - loss: 0.0099 - val_loss: 0.0312\n",
            "Epoch 8/15\n",
            "1200/1200 [==============================] - 107s 90ms/sample - loss: 0.0094 - val_loss: 0.0242\n",
            "Epoch 9/15\n",
            "1200/1200 [==============================] - 111s 92ms/sample - loss: 0.0089 - val_loss: 0.0195\n",
            "Epoch 10/15\n",
            "1200/1200 [==============================] - 108s 90ms/sample - loss: 0.0085 - val_loss: 0.0175\n",
            "Epoch 11/15\n",
            "1200/1200 [==============================] - 102s 85ms/sample - loss: 0.0084 - val_loss: 0.0145\n",
            "Epoch 12/15\n",
            "1200/1200 [==============================] - 99s 83ms/sample - loss: 0.0081 - val_loss: 0.0130\n",
            "Epoch 13/15\n",
            "1200/1200 [==============================] - 95s 80ms/sample - loss: 0.0082 - val_loss: 0.0123\n",
            "Epoch 14/15\n",
            "1200/1200 [==============================] - 109s 91ms/sample - loss: 0.0077 - val_loss: 0.0118\n",
            "Epoch 15/15\n",
            "1200/1200 [==============================] - 106s 89ms/sample - loss: 0.0075 - val_loss: 0.0109\n"
          ]
        }
      ],
      "source": [
        "tic=time.time()\n",
        "with tf.device('/GPU:1'):\n",
        "    hist = AE.train(x_train_ae, x_test_ae, BATCH_SIZE, EPOCHS)\n",
        "toc=time.time()\n",
        "training_time=toc-tic"
      ]
    },
    {
      "cell_type": "code",
      "execution_count": 25,
      "metadata": {},
      "outputs": [
        {
          "data": {
            "image/png": "[encoded data removed]",
            "text/plain": [
              "<Figure size 640x480 with 1 Axes>"
            ]
          },
          "metadata": {},
          "output_type": "display_data"
        }
      ],
      "source": [
        "plt.title('Loss')\n",
        "plt.plot(hist.history['loss'], 'r')\n",
        "plt.plot(hist.history['val_loss'], 'b')\n",
        "plt.legend([\"Train\", \"Test\"], loc=0, frameon=True)\n",
        "plt.show()"
      ]
    },
    {
      "cell_type": "code",
      "execution_count": 26,
      "metadata": {},
      "outputs": [],
      "source": [
        "AE.save(\"AE-model\")"
      ]
    }
  ],
  "metadata": {
    "accelerator": "GPU",
    "colab": {
      "provenance": []
    },
    "gpuClass": "standard",
    "kernelspec": {
      "display_name": "Python 3",
      "language": "python",
      "name": "python3"
    },
    "language_info": {
      "codemirror_mode": {
        "name": "ipython",
        "version": 3
      },
      "file_extension": ".py",
      "mimetype": "text/x-python",
      "name": "python",
      "nbconvert_exporter": "python",
      "pygments_lexer": "ipython3",
      "version": "3.10.6"
    },
    "orig_nbformat": 4
  },
  "nbformat": 4,
  "nbformat_minor": 0
}
