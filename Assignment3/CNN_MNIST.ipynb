{
  "cells": [
    {
      "cell_type": "markdown",
      "metadata": {
        "id": "ITaSzDbZvD_3"
      },
      "source": [
        "Import Libraries"
      ]
    },
    {
      "cell_type": "code",
      "execution_count": 1,
      "metadata": {
        "colab": {
          "base_uri": "https://localhost:8080/"
        },
        "id": "jO8PJYQIKycK",
        "outputId": "49119b36-354d-4dbb-ac30-745d048c9fa3"
      },
      "outputs": [
        {
          "output_type": "stream",
          "name": "stdout",
          "text": [
            "Looking in indexes: https://pypi.org/simple, https://us-python.pkg.dev/colab-wheels/public/simple/\n",
            "Collecting tensorflow-io\n",
            "  Downloading tensorflow_io-0.32.0-cp39-cp39-manylinux_2_12_x86_64.manylinux2010_x86_64.whl (28.0 MB)\n",
            "\u001b[2K     \u001b[90m━━━━━━━━━━━━━━━━━━━━━━━━━━━━━━━━━━━━━━━━\u001b[0m \u001b[32m28.0/28.0 MB\u001b[0m \u001b[31m30.1 MB/s\u001b[0m eta \u001b[36m0:00:00\u001b[0m\n",
            "\u001b[?25hRequirement already satisfied: tensorflow-io-gcs-filesystem==0.32.0 in /usr/local/lib/python3.9/dist-packages (from tensorflow-io) (0.32.0)\n",
            "Installing collected packages: tensorflow-io\n",
            "Successfully installed tensorflow-io-0.32.0\n"
          ]
        }
      ],
      "source": [
        "!pip install tensorflow-io"
      ]
    },
    {
      "cell_type": "code",
      "execution_count": 2,
      "metadata": {
        "id": "6jlUf8k3vD_6"
      },
      "outputs": [],
      "source": [
        "import tensorflow as tf\n",
        "import numpy as np\n",
        "import matplotlib.pyplot as plt\n",
        "from tensorflow import keras\n",
        "from keras.datasets import mnist\n",
        "from keras import backend as k\n",
        "import time\n",
        "from tensorflow.keras.callbacks import EarlyStopping"
      ]
    },
    {
      "cell_type": "markdown",
      "metadata": {
        "id": "AB_EbkmDK8vQ"
      },
      "source": [
        "# 1. Process MNIST dataset"
      ]
    },
    {
      "cell_type": "markdown",
      "metadata": {
        "id": "J3liWIk8vD_-"
      },
      "source": [
        "Assign training and test data"
      ]
    },
    {
      "cell_type": "code",
      "execution_count": 3,
      "metadata": {
        "colab": {
          "base_uri": "https://localhost:8080/"
        },
        "id": "z3iDkeOvvD__",
        "outputId": "11dacc18-7a2f-4b67-c996-5e76af801a04"
      },
      "outputs": [
        {
          "output_type": "stream",
          "name": "stdout",
          "text": [
            "Downloading data from https://storage.googleapis.com/tensorflow/tf-keras-datasets/mnist.npz\n",
            "11490434/11490434 [==============================] - 2s 0us/step\n"
          ]
        }
      ],
      "source": [
        "batch_size = 128\n",
        "num_classes = 10\n",
        "img_rows, img_cols = 28,28\n",
        "(x_train,y_train),(x_test,y_test) =   mnist.load_data()"
      ]
    },
    {
      "cell_type": "markdown",
      "metadata": {
        "id": "PtALjtjyvD__"
      },
      "source": [
        "Reshape the images"
      ]
    },
    {
      "cell_type": "code",
      "execution_count": 4,
      "metadata": {
        "colab": {
          "base_uri": "https://localhost:8080/"
        },
        "id": "1cFLpxMyvEAA",
        "outputId": "2acf52ab-55bb-41ca-fe9d-1a026737932d"
      },
      "outputs": [
        {
          "output_type": "stream",
          "name": "stdout",
          "text": [
            "x_train shape: (60000, 28, 28, 1) \n",
            "x_test shape: (10000, 28, 28, 1)\n"
          ]
        }
      ],
      "source": [
        "if k.image_data_format()=='channels_first':\n",
        "    x_train=x_train.reshape(x_train.shape[0],img_rows,img_cols,1)\n",
        "    x_test=x_test.reshape(x_test.shape[0],img_rows,img_cols,1)\n",
        "else:\n",
        "    x_train=x_train.reshape(x_train.shape[0],img_rows,img_cols,1)\n",
        "    x_test=x_test.reshape(x_test.shape[0],img_rows,img_cols,1)\n",
        "\n",
        "input_shape=(img_rows,img_cols,1)\n",
        "x_train = x_train/255.0\n",
        "x_test=x_test/255.0\n",
        "print('x_train shape:',x_train.shape,'\\nx_test shape:',x_test.shape)"
      ]
    },
    {
      "cell_type": "markdown",
      "metadata": {
        "id": "sTYB1sIFvEAE"
      },
      "source": [
        "Convert class vectors to binary class matrices"
      ]
    },
    {
      "cell_type": "code",
      "execution_count": 5,
      "metadata": {
        "id": "TAYZ_TrEvEAF"
      },
      "outputs": [],
      "source": [
        "y_train=keras.utils.to_categorical(y_train,num_classes)\n",
        "y_test=keras.utils.to_categorical(y_test,num_classes)"
      ]
    },
    {
      "cell_type": "markdown",
      "metadata": {
        "id": "DmJf9jtVLC8N"
      },
      "source": [
        "# 2. CNN no Attention"
      ]
    },
    {
      "cell_type": "markdown",
      "metadata": {
        "id": "8zGyNu1XvEAG"
      },
      "source": [
        "Design the CNN architecture"
      ]
    },
    {
      "cell_type": "code",
      "execution_count": 6,
      "metadata": {
        "id": "uYJPbQDqKWiy"
      },
      "outputs": [],
      "source": [
        "from keras.models import Sequential\n",
        "from keras import layers"
      ]
    },
    {
      "cell_type": "code",
      "execution_count": 7,
      "metadata": {
        "colab": {
          "base_uri": "https://localhost:8080/"
        },
        "id": "dgaH6t_XvEAG",
        "outputId": "eb5acbe8-3487-4a27-fa13-3a2d4eed7a57"
      },
      "outputs": [
        {
          "output_type": "stream",
          "name": "stdout",
          "text": [
            "Model: \"sequential\"\n",
            "_________________________________________________________________\n",
            " Layer (type)                Output Shape              Param #   \n",
            "=================================================================\n",
            " conv2d (Conv2D)             (None, 26, 26, 32)        320       \n",
            "                                                                 \n",
            " max_pooling2d (MaxPooling2D  (None, 13, 13, 32)       0         \n",
            " )                                                               \n",
            "                                                                 \n",
            " dropout (Dropout)           (None, 13, 13, 32)        0         \n",
            "                                                                 \n",
            " flatten (Flatten)           (None, 5408)              0         \n",
            "                                                                 \n",
            " dense (Dense)               (None, 32)                173088    \n",
            "                                                                 \n",
            " dense_1 (Dense)             (None, 10)                330       \n",
            "                                                                 \n",
            "=================================================================\n",
            "Total params: 173,738\n",
            "Trainable params: 173,738\n",
            "Non-trainable params: 0\n",
            "_________________________________________________________________\n"
          ]
        }
      ],
      "source": [
        "model=Sequential()\n",
        "\n",
        "model.add( layers.Conv2D(32,kernel_size=(3,3),activation='relu',input_shape=input_shape) )\n",
        "model.add( layers.MaxPooling2D(pool_size=(2,2)) )\n",
        "model.add( layers.Dropout(0.2) )\n",
        "model.add( layers.Flatten() )\n",
        "model.add( layers.Dense(32,activation='relu') )\n",
        "model.add( layers.Dense(num_classes,activation='softmax') )\n",
        "model.summary()"
      ]
    },
    {
      "cell_type": "code",
      "execution_count": 10,
      "metadata": {
        "colab": {
          "base_uri": "https://localhost:8080/"
        },
        "id": "fil5Jz7zvEAI",
        "outputId": "5ca5a6df-e5ce-4167-c0fa-2f27066dcf82"
      },
      "outputs": [
        {
          "output_type": "stream",
          "name": "stdout",
          "text": [
            "Epoch 1/15\n",
            "469/469 [==============================] - 4s 5ms/step - loss: 0.0208 - accuracy: 0.9930 - val_loss: 0.0439 - val_accuracy: 0.9871\n",
            "Epoch 2/15\n",
            "469/469 [==============================] - 2s 5ms/step - loss: 0.0180 - accuracy: 0.9944 - val_loss: 0.0466 - val_accuracy: 0.9870\n",
            "Epoch 3/15\n",
            "469/469 [==============================] - 2s 5ms/step - loss: 0.0157 - accuracy: 0.9952 - val_loss: 0.0450 - val_accuracy: 0.9868\n",
            "Epoch 4/15\n",
            "469/469 [==============================] - 2s 4ms/step - loss: 0.0143 - accuracy: 0.9951 - val_loss: 0.0479 - val_accuracy: 0.9865\n",
            "Epoch 5/15\n",
            "469/469 [==============================] - 3s 5ms/step - loss: 0.0137 - accuracy: 0.9953 - val_loss: 0.0479 - val_accuracy: 0.9865\n",
            "Epoch 6/15\n",
            "469/469 [==============================] - 2s 5ms/step - loss: 0.0119 - accuracy: 0.9962 - val_loss: 0.0498 - val_accuracy: 0.9868\n",
            "Epoch 7/15\n",
            "469/469 [==============================] - 3s 6ms/step - loss: 0.0114 - accuracy: 0.9961 - val_loss: 0.0477 - val_accuracy: 0.9878\n",
            "Epoch 8/15\n",
            "469/469 [==============================] - 3s 7ms/step - loss: 0.0114 - accuracy: 0.9962 - val_loss: 0.0474 - val_accuracy: 0.9866\n",
            "Epoch 9/15\n",
            "469/469 [==============================] - 4s 9ms/step - loss: 0.0109 - accuracy: 0.9963 - val_loss: 0.0503 - val_accuracy: 0.9858\n",
            "Epoch 10/15\n",
            "469/469 [==============================] - 3s 7ms/step - loss: 0.0097 - accuracy: 0.9963 - val_loss: 0.0498 - val_accuracy: 0.9869\n",
            "Epoch 11/15\n",
            "469/469 [==============================] - 3s 7ms/step - loss: 0.0098 - accuracy: 0.9966 - val_loss: 0.0501 - val_accuracy: 0.9876\n",
            "Epoch 12/15\n",
            "469/469 [==============================] - 2s 5ms/step - loss: 0.0090 - accuracy: 0.9968 - val_loss: 0.0487 - val_accuracy: 0.9878\n",
            "Epoch 13/15\n",
            "469/469 [==============================] - 2s 5ms/step - loss: 0.0080 - accuracy: 0.9973 - val_loss: 0.0546 - val_accuracy: 0.9874\n",
            "Epoch 14/15\n",
            "469/469 [==============================] - 2s 5ms/step - loss: 0.0083 - accuracy: 0.9969 - val_loss: 0.0439 - val_accuracy: 0.9887\n",
            "Epoch 15/15\n",
            "469/469 [==============================] - 2s 5ms/step - loss: 0.0076 - accuracy: 0.9976 - val_loss: 0.0571 - val_accuracy: 0.9862\n"
          ]
        }
      ],
      "source": [
        "model.compile(optimizer=keras.optimizers.Adam(),\n",
        "              loss=keras.losses.categorical_crossentropy,\n",
        "              metrics=['accuracy']\n",
        "             )\n",
        "early_stopping = EarlyStopping(monitor='accuracy', patience=3)\n",
        "tic=time.time()\n",
        "hist = model.fit(x_train,y_train,\n",
        "                batch_size=batch_size,\n",
        "                epochs=15,\n",
        "                verbose=1,\n",
        "                callbacks=[early_stopping],\n",
        "                validation_data=(x_test,y_test)\n",
        "                )\n",
        "toc=time.time()\n",
        "training_time=toc-tic"
      ]
    },
    {
      "cell_type": "code",
      "source": [
        "plt.title('Loss')\n",
        "plt.plot(hist.history['loss'], 'r')\n",
        "plt.plot(hist.history['val_loss'], 'b')\n",
        "plt.show()"
      ],
      "metadata": {
        "id": "6JxTSD7Hk1ft",
        "outputId": "9172bfac-858b-4f16-eb39-f4a3cb76dc1d",
        "colab": {
          "base_uri": "https://localhost:8080/",
          "height": 452
        }
      },
      "execution_count": 11,
      "outputs": [
        {
          "output_type": "display_data",
          "data": {
            "text/plain": [
              "<Figure size 640x480 with 1 Axes>"
            ],
            "image/png": "[encoded data removed]"
          },
          "metadata": {}
        }
      ]
    },
    {
      "cell_type": "code",
      "source": [
        "plt.title('Accuracy')\n",
        "plt.plot(hist.history['accuracy'], 'r')\n",
        "plt.plot(hist.history['val_accuracy'], 'b')\n",
        "plt.show()"
      ],
      "metadata": {
        "id": "R9c69BTJk3oK",
        "outputId": "0da6d97c-28a2-465d-d64c-c42b6c712244",
        "colab": {
          "base_uri": "https://localhost:8080/",
          "height": 452
        }
      },
      "execution_count": 13,
      "outputs": [
        {
          "output_type": "display_data",
          "data": {
            "text/plain": [
              "<Figure size 640x480 with 1 Axes>"
            ],
            "image/png": "[encoded data removed]"
          },
          "metadata": {}
        }
      ]
    },
    {
      "cell_type": "code",
      "execution_count": 14,
      "metadata": {
        "colab": {
          "base_uri": "https://localhost:8080/"
        },
        "id": "RdWeCmhnLUES",
        "outputId": "ce351aa7-2e40-4659-aa5d-473db9c1f24a"
      },
      "outputs": [
        {
          "output_type": "stream",
          "name": "stdout",
          "text": [
            "313/313 [==============================] - 1s 2ms/step - loss: 0.0571 - accuracy: 0.9862\n",
            "Training Time = 83.3 s\n",
            "Testing Time = 901.9 ms\n",
            "Test Loss = 5.70 %:\n",
            "Test Accuracy = 98.60 %:\n"
          ]
        }
      ],
      "source": [
        "tic=time.time()\n",
        "test_loss, test_acc = model.evaluate(x_test,y_test)\n",
        "toc=time.time()\n",
        "test_time=toc-tic\n",
        "print(\"Training Time = {} s\".format(np.round(training_time, 1)))\n",
        "print(\"Testing Time = {} ms\".format(np.round(test_time*1000, 1)))\n",
        "print('Test Loss = {:.2f} %:'.format(np.round(test_loss, 3)*100))\n",
        "print('Test Accuracy = {:.2f} %:'.format(np.round(test_acc, 3)*100))"
      ]
    },
    {
      "cell_type": "markdown",
      "metadata": {
        "id": "kO-MoC3rLWLM"
      },
      "source": [
        "# 3. CNN with Attention"
      ]
    },
    {
      "cell_type": "code",
      "source": [
        "import torch.nn as nn"
      ],
      "metadata": {
        "id": "oj4bpX--UQ5K"
      },
      "execution_count": 15,
      "outputs": []
    },
    {
      "cell_type": "markdown",
      "metadata": {
        "id": "n0aHUqv9LY9f"
      },
      "source": [
        "Design the CNN architecture"
      ]
    },
    {
      "cell_type": "code",
      "execution_count": 16,
      "metadata": {
        "colab": {
          "base_uri": "https://localhost:8080/"
        },
        "id": "N-llTRzmLa-U",
        "outputId": "e01feea0-0ee6-42b5-f423-3618f3a4832a"
      },
      "outputs": [
        {
          "output_type": "stream",
          "name": "stdout",
          "text": [
            "Model: \"model\"\n",
            "__________________________________________________________________________________________________\n",
            " Layer (type)                   Output Shape         Param #     Connected to                     \n",
            "==================================================================================================\n",
            " input_1 (InputLayer)           [(None, 28, 28, 1)]  0           []                               \n",
            "                                                                                                  \n",
            " conv2d_1 (Conv2D)              (None, 26, 26, 32)   320         ['input_1[0][0]']                \n",
            "                                                                                                  \n",
            " conv2d_2 (Conv2D)              (None, 26, 26, 1)    289         ['conv2d_1[0][0]']               \n",
            "                                                                                                  \n",
            " multiply (Multiply)            (None, 26, 26, 32)   0           ['conv2d_1[0][0]',               \n",
            "                                                                  'conv2d_2[0][0]']               \n",
            "                                                                                                  \n",
            " max_pooling2d_1 (MaxPooling2D)  (None, 13, 13, 32)  0           ['multiply[0][0]']               \n",
            "                                                                                                  \n",
            " dropout_1 (Dropout)            (None, 13, 13, 32)   0           ['max_pooling2d_1[0][0]']        \n",
            "                                                                                                  \n",
            " flatten_1 (Flatten)            (None, 5408)         0           ['dropout_1[0][0]']              \n",
            "                                                                                                  \n",
            " dense_2 (Dense)                (None, 32)           173088      ['flatten_1[0][0]']              \n",
            "                                                                                                  \n",
            " dense_3 (Dense)                (None, 10)           330         ['dense_2[0][0]']                \n",
            "                                                                                                  \n",
            "==================================================================================================\n",
            "Total params: 174,027\n",
            "Trainable params: 174,027\n",
            "Non-trainable params: 0\n",
            "__________________________________________________________________________________________________\n"
          ]
        }
      ],
      "source": [
        "inputs = layers.Input(shape=input_shape)\n",
        "conv = layers.Conv2D(32,kernel_size=(3,3),activation='relu')(inputs)\n",
        "#Attention\n",
        "attention = layers.Conv2D(1, (3,3), padding='same', activation='sigmoid')(conv)\n",
        "attention_mul = layers.Multiply()([conv, attention])\n",
        "##########\n",
        "pool = layers.MaxPool2D(pool_size=(2,2))(attention_mul)\n",
        "drop = layers.Dropout(0.2)(pool)\n",
        "flatten = layers.Flatten()(drop)\n",
        "dense = layers.Dense(32,activation='relu')(flatten)\n",
        "dense2 = layers.Dense(num_classes,activation='softmax')(dense)\n",
        "modelAtt = keras.Model(inputs=inputs, outputs=dense2)\n",
        "\n",
        "modelAtt.summary()"
      ]
    },
    {
      "cell_type": "code",
      "execution_count": 17,
      "metadata": {
        "colab": {
          "base_uri": "https://localhost:8080/"
        },
        "id": "TZoRvEPPLf-Y",
        "outputId": "ddab373d-6e57-43ec-a086-9506f4430919"
      },
      "outputs": [
        {
          "output_type": "stream",
          "name": "stdout",
          "text": [
            "Epoch 1/15\n",
            "469/469 [==============================] - 5s 7ms/step - loss: 0.3364 - accuracy: 0.9056 - val_loss: 0.1149 - val_accuracy: 0.9666\n",
            "Epoch 2/15\n",
            "469/469 [==============================] - 3s 6ms/step - loss: 0.1003 - accuracy: 0.9709 - val_loss: 0.0792 - val_accuracy: 0.9749\n",
            "Epoch 3/15\n",
            "469/469 [==============================] - 4s 8ms/step - loss: 0.0726 - accuracy: 0.9783 - val_loss: 0.0575 - val_accuracy: 0.9814\n",
            "Epoch 4/15\n",
            "469/469 [==============================] - 4s 9ms/step - loss: 0.0603 - accuracy: 0.9818 - val_loss: 0.0496 - val_accuracy: 0.9828\n",
            "Epoch 5/15\n",
            "469/469 [==============================] - 4s 9ms/step - loss: 0.0506 - accuracy: 0.9846 - val_loss: 0.0483 - val_accuracy: 0.9841\n",
            "Epoch 6/15\n",
            "469/469 [==============================] - 5s 11ms/step - loss: 0.0463 - accuracy: 0.9857 - val_loss: 0.0456 - val_accuracy: 0.9859\n",
            "Epoch 7/15\n",
            "469/469 [==============================] - 4s 9ms/step - loss: 0.0408 - accuracy: 0.9879 - val_loss: 0.0457 - val_accuracy: 0.9846\n",
            "Epoch 8/15\n",
            "469/469 [==============================] - 3s 6ms/step - loss: 0.0368 - accuracy: 0.9881 - val_loss: 0.0521 - val_accuracy: 0.9831\n",
            "Epoch 9/15\n",
            "469/469 [==============================] - 3s 6ms/step - loss: 0.0326 - accuracy: 0.9899 - val_loss: 0.0441 - val_accuracy: 0.9854\n",
            "Epoch 10/15\n",
            "469/469 [==============================] - 3s 7ms/step - loss: 0.0291 - accuracy: 0.9907 - val_loss: 0.0474 - val_accuracy: 0.9855\n",
            "Epoch 11/15\n",
            "469/469 [==============================] - 3s 6ms/step - loss: 0.0260 - accuracy: 0.9915 - val_loss: 0.0461 - val_accuracy: 0.9851\n",
            "Epoch 12/15\n",
            "469/469 [==============================] - 3s 6ms/step - loss: 0.0242 - accuracy: 0.9922 - val_loss: 0.0411 - val_accuracy: 0.9867\n",
            "Epoch 13/15\n",
            "469/469 [==============================] - 3s 6ms/step - loss: 0.0223 - accuracy: 0.9926 - val_loss: 0.0427 - val_accuracy: 0.9868\n",
            "Epoch 14/15\n",
            "469/469 [==============================] - 3s 7ms/step - loss: 0.0201 - accuracy: 0.9932 - val_loss: 0.0432 - val_accuracy: 0.9878\n",
            "Epoch 15/15\n",
            "469/469 [==============================] - 3s 6ms/step - loss: 0.0189 - accuracy: 0.9936 - val_loss: 0.0481 - val_accuracy: 0.9854\n"
          ]
        }
      ],
      "source": [
        "modelAtt.compile(optimizer=keras.optimizers.Adam(),\n",
        "              loss= keras.losses.CategoricalCrossentropy(),\n",
        "              metrics=['accuracy']\n",
        "             )\n",
        "tic=time.time()\n",
        "hist = modelAtt.fit(x_train,y_train,\n",
        "                    batch_size=batch_size,\n",
        "                    epochs=15,\n",
        "                    verbose=1,\n",
        "                    callbacks=[early_stopping],\n",
        "                    validation_data=(x_test,y_test)\n",
        "                    )\n",
        "toc=time.time()\n",
        "training_time=toc-tic"
      ]
    },
    {
      "cell_type": "code",
      "source": [
        "plt.title('Loss')\n",
        "plt.plot(hist.history['loss'], 'r')\n",
        "plt.plot(hist.history['val_loss'], 'b')\n",
        "plt.show()"
      ],
      "metadata": {
        "id": "WE7gseO4lFFV",
        "outputId": "755aa2d6-b6b2-4581-f62a-078c92ce2919",
        "colab": {
          "base_uri": "https://localhost:8080/",
          "height": 452
        }
      },
      "execution_count": 18,
      "outputs": [
        {
          "output_type": "display_data",
          "data": {
            "text/plain": [
              "<Figure size 640x480 with 1 Axes>"
            ],
            "image/png": "[encoded data removed]"
          },
          "metadata": {}
        }
      ]
    },
    {
      "cell_type": "code",
      "source": [
        "plt.title('Accuracy')\n",
        "plt.plot(hist.history['accuracy'], 'r')\n",
        "plt.plot(hist.history['val_accuracy'], 'b')\n",
        "plt.show()"
      ],
      "metadata": {
        "id": "fatY4f2GlFkw",
        "outputId": "471fb595-070e-461e-87b6-a94615df36bf",
        "colab": {
          "base_uri": "https://localhost:8080/",
          "height": 452
        }
      },
      "execution_count": 19,
      "outputs": [
        {
          "output_type": "display_data",
          "data": {
            "text/plain": [
              "<Figure size 640x480 with 1 Axes>"
            ],
            "image/png": "[encoded data removed]"
          },
          "metadata": {}
        }
      ]
    },
    {
      "cell_type": "code",
      "execution_count": 20,
      "metadata": {
        "colab": {
          "base_uri": "https://localhost:8080/"
        },
        "id": "OSyHgpUlLlgh",
        "outputId": "aabeed5a-d1bc-4125-8eff-33fc9683223d"
      },
      "outputs": [
        {
          "output_type": "stream",
          "name": "stdout",
          "text": [
            "313/313 [==============================] - 1s 3ms/step - loss: 0.0481 - accuracy: 0.9854\n",
            "Training Time = 52.4 s\n",
            "Testing Time = 921.8 ms\n",
            "Test Loss = 4.80 %:\n",
            "Test Accuracy = 98.50 %:\n"
          ]
        }
      ],
      "source": [
        "tic=time.time()\n",
        "test_loss, test_acc = modelAtt.evaluate(x_test,y_test)\n",
        "toc=time.time()\n",
        "test_time=toc-tic\n",
        "print(\"Training Time = {} s\".format(np.round(training_time, 1)))\n",
        "print(\"Testing Time = {} ms\".format(np.round(test_time*1000, 1)))\n",
        "print('Test Loss = {:.2f} %:'.format(np.round(test_loss, 3)*100))\n",
        "print('Test Accuracy = {:.2f} %:'.format(np.round(test_acc, 3)*100))"
      ]
    }
  ],
  "metadata": {
    "accelerator": "GPU",
    "colab": {
      "provenance": []
    },
    "gpuClass": "standard",
    "kernelspec": {
      "display_name": "Python 3",
      "language": "python",
      "name": "python3"
    },
    "language_info": {
      "codemirror_mode": {
        "name": "ipython",
        "version": 3
      },
      "file_extension": ".py",
      "mimetype": "text/x-python",
      "name": "python",
      "nbconvert_exporter": "python",
      "pygments_lexer": "ipython3",
      "version": "3.10.6"
    },
    "orig_nbformat": 4
  },
  "nbformat": 4,
  "nbformat_minor": 0
}