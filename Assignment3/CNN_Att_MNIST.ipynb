{
  "cells": [
    {
      "cell_type": "markdown",
      "metadata": {
        "id": "ITaSzDbZvD_3"
      },
      "source": [
        "Import Libraries"
      ]
    },
    {
      "cell_type": "code",
      "execution_count": 1,
      "metadata": {
        "id": "6jlUf8k3vD_6"
      },
      "outputs": [],
      "source": [
        "import tensorflow as tf\n",
        "import matplotlib.pyplot as plt\n",
        "from tensorflow import keras\n",
        "from keras.datasets import mnist\n",
        "from keras import backend as k"
      ]
    },
    {
      "cell_type": "markdown",
      "metadata": {
        "id": "WB9bSgGvvD_9"
      },
      "source": [
        "Variables:\n",
        "batch: the process of splitting the training dataset in n batches (mini-batches),\n",
        "classes: number of classifications (labels) of the data,\n",
        "epochs: variations, one epoch is one forward pass + one backward pass on training"
      ]
    },
    {
      "cell_type": "code",
      "execution_count": 2,
      "metadata": {
        "id": "xkOeJPRnvD_9"
      },
      "outputs": [],
      "source": [
        "batch_size = 128\n",
        "num_classes = 10\n",
        "epochs = 4"
      ]
    },
    {
      "cell_type": "markdown",
      "metadata": {
        "id": "J3liWIk8vD_-"
      },
      "source": [
        "Assign training and test data"
      ]
    },
    {
      "cell_type": "code",
      "execution_count": 3,
      "metadata": {
        "id": "z3iDkeOvvD__"
      },
      "outputs": [],
      "source": [
        "img_rows, img_cols = 28,28\n",
        "(x_train,y_train),(x_test,y_test) =   mnist.load_data()"
      ]
    },
    {
      "cell_type": "markdown",
      "metadata": {
        "id": "PtALjtjyvD__"
      },
      "source": [
        "Reshape the images"
      ]
    },
    {
      "cell_type": "code",
      "execution_count": 4,
      "metadata": {
        "colab": {
          "base_uri": "https://localhost:8080/"
        },
        "id": "1cFLpxMyvEAA",
        "outputId": "9130781f-b457-41cc-eab8-5c30405b1634"
      },
      "outputs": [
        {
          "output_type": "stream",
          "name": "stdout",
          "text": [
            "x_train shape: (60000, 28, 28, 1) \n",
            "x_test shape: (10000, 28, 28, 1)\n"
          ]
        }
      ],
      "source": [
        "if k.image_data_format()=='channels_first':\n",
        "    x_train=x_train.reshape(x_train.shape[0],img_rows,img_cols,1)\n",
        "    x_test=x_test.reshape(x_test.shape[0],img_rows,img_cols,1)\n",
        "else:\n",
        "    x_train=x_train.reshape(x_train.shape[0],img_rows,img_cols,1)\n",
        "    x_test=x_test.reshape(x_test.shape[0],img_rows,img_cols,1)\n",
        "\n",
        "input_shape=(img_rows,img_cols,1)\n",
        "x_train = x_train/255.0\n",
        "x_test=x_test/255.0\n",
        "print('x_train shape:',x_train.shape,'\\nx_test shape:',x_test.shape)"
      ]
    },
    {
      "cell_type": "markdown",
      "metadata": {
        "id": "sTYB1sIFvEAE"
      },
      "source": [
        "Convert class vectors to binary class matrices"
      ]
    },
    {
      "cell_type": "code",
      "execution_count": 5,
      "metadata": {
        "id": "TAYZ_TrEvEAF"
      },
      "outputs": [],
      "source": [
        "y_train=keras.utils.to_categorical(y_train,num_classes)\n",
        "y_test=keras.utils.to_categorical(y_test,num_classes)"
      ]
    },
    {
      "cell_type": "markdown",
      "metadata": {
        "id": "8zGyNu1XvEAG"
      },
      "source": [
        "Design the CNN architecture"
      ]
    },
    {
      "cell_type": "code",
      "execution_count": 6,
      "metadata": {
        "id": "4Pu3NuBNSMti"
      },
      "outputs": [],
      "source": [
        "from keras import layers\n",
        "from keras.layers import Input\n",
        "from keras.layers import Dense,Dropout,Flatten, Multiply\n",
        "from keras.layers import Conv2D,MaxPool2D, Activation"
      ]
    },
    {
      "cell_type": "code",
      "execution_count": 7,
      "metadata": {
        "colab": {
          "base_uri": "https://localhost:8080/"
        },
        "id": "dgaH6t_XvEAG",
        "outputId": "5ad59301-6bf6-4dab-aec1-fea4466f3d57"
      },
      "outputs": [
        {
          "output_type": "stream",
          "name": "stdout",
          "text": [
            "Model: \"model\"\n",
            "__________________________________________________________________________________________________\n",
            " Layer (type)                   Output Shape         Param #     Connected to                     \n",
            "==================================================================================================\n",
            " input_1 (InputLayer)           [(None, 28, 28, 1)]  0           []                               \n",
            "                                                                                                  \n",
            " conv2d (Conv2D)                (None, 26, 26, 32)   320         ['input_1[0][0]']                \n",
            "                                                                                                  \n",
            " max_pooling2d (MaxPooling2D)   (None, 13, 13, 32)   0           ['conv2d[0][0]']                 \n",
            "                                                                                                  \n",
            " conv2d_1 (Conv2D)              (None, 13, 13, 1)    33          ['max_pooling2d[0][0]']          \n",
            "                                                                                                  \n",
            " multiply (Multiply)            (None, 13, 13, 32)   0           ['max_pooling2d[0][0]',          \n",
            "                                                                  'conv2d_1[0][0]']               \n",
            "                                                                                                  \n",
            " max_pooling2d_1 (MaxPooling2D)  (None, 6, 6, 32)    0           ['multiply[0][0]']               \n",
            "                                                                                                  \n",
            " conv2d_2 (Conv2D)              (None, 4, 4, 64)     18496       ['max_pooling2d_1[0][0]']        \n",
            "                                                                                                  \n",
            " max_pooling2d_2 (MaxPooling2D)  (None, 2, 2, 64)    0           ['conv2d_2[0][0]']               \n",
            "                                                                                                  \n",
            " conv2d_3 (Conv2D)              (None, 2, 2, 1)      65          ['max_pooling2d_2[0][0]']        \n",
            "                                                                                                  \n",
            " multiply_1 (Multiply)          (None, 2, 2, 64)     0           ['max_pooling2d_2[0][0]',        \n",
            "                                                                  'conv2d_3[0][0]']               \n",
            "                                                                                                  \n",
            " max_pooling2d_3 (MaxPooling2D)  (None, 1, 1, 64)    0           ['multiply_1[0][0]']             \n",
            "                                                                                                  \n",
            " flatten (Flatten)              (None, 64)           0           ['max_pooling2d_3[0][0]']        \n",
            "                                                                                                  \n",
            " dense (Dense)                  (None, 32)           2080        ['flatten[0][0]']                \n",
            "                                                                                                  \n",
            " dense_1 (Dense)                (None, 10)           330         ['dense[0][0]']                  \n",
            "                                                                                                  \n",
            "==================================================================================================\n",
            "Total params: 21,324\n",
            "Trainable params: 21,324\n",
            "Non-trainable params: 0\n",
            "__________________________________________________________________________________________________\n"
          ]
        }
      ],
      "source": [
        "inputs = Input(shape=input_shape)\n",
        "\n",
        "conv1 = Conv2D(32,kernel_size=(3,3),activation='relu')(inputs)\n",
        "pool1 = MaxPool2D(pool_size=(2,2))(conv1)\n",
        "#Attention1\n",
        "attention_conv1 = Conv2D(1, (1,1), padding='same', activation='sigmoid')(pool1)\n",
        "attention_mul1 = Multiply()([pool1, attention_conv1])\n",
        "pool2 = MaxPool2D(pool_size=(2,2))(attention_mul1)\n",
        "##########\n",
        "\n",
        "conv2 = Conv2D(64,kernel_size=(3,3),activation='relu')(pool2)\n",
        "pool3 = MaxPool2D(pool_size=(2,2))(conv2)\n",
        "#Attention2\n",
        "attention_conv2 = Conv2D(1, (1,1), padding='same', activation='sigmoid')(pool3)\n",
        "attention_mul2 = Multiply()([pool3, attention_conv2])\n",
        "pool4 = MaxPool2D(pool_size=(2,2))(attention_mul2)\n",
        "##########\n",
        "\n",
        "flatten2 = Flatten()(pool4)\n",
        "dense2 = Dense(32,activation='relu')(flatten2)\n",
        "dense3 = Dense(num_classes,activation='softmax')(dense2)\n",
        "\n",
        "model = keras.Model(inputs=inputs, outputs=dense3)\n",
        "\n",
        "model.summary()"
      ]
    },
    {
      "cell_type": "markdown",
      "metadata": {
        "id": "1HR8V-FSvEAH"
      },
      "source": [
        "Compile the model"
      ]
    },
    {
      "cell_type": "code",
      "execution_count": 8,
      "metadata": {
        "colab": {
          "base_uri": "https://localhost:8080/"
        },
        "id": "fil5Jz7zvEAI",
        "outputId": "5f998679-cad2-4f6a-ffdc-78c99af91759"
      },
      "outputs": [
        {
          "output_type": "stream",
          "name": "stdout",
          "text": [
            "Epoch 1/4\n",
            "469/469 [==============================] - 12s 7ms/step - loss: 0.6715 - accuracy: 0.8042 - val_loss: 0.1945 - val_accuracy: 0.9378\n",
            "Epoch 2/4\n",
            "469/469 [==============================] - 3s 5ms/step - loss: 0.1553 - accuracy: 0.9542 - val_loss: 0.1105 - val_accuracy: 0.9657\n",
            "Epoch 3/4\n",
            "469/469 [==============================] - 3s 7ms/step - loss: 0.1086 - accuracy: 0.9673 - val_loss: 0.0829 - val_accuracy: 0.9759\n",
            "Epoch 4/4\n",
            "469/469 [==============================] - 3s 6ms/step - loss: 0.0880 - accuracy: 0.9728 - val_loss: 0.0727 - val_accuracy: 0.9779\n"
          ]
        },
        {
          "output_type": "execute_result",
          "data": {
            "text/plain": [
              "<keras.callbacks.History at 0x7f8a822c1f40>"
            ]
          },
          "metadata": {},
          "execution_count": 8
        }
      ],
      "source": [
        "model.compile(optimizer=keras.optimizers.Adam(),\n",
        "              loss=keras.losses.categorical_crossentropy,\n",
        "              metrics=['accuracy']\n",
        "             )\n",
        "model.fit(x_train,y_train,\n",
        "          batch_size=batch_size,\n",
        "          epochs=epochs,\n",
        "          verbose=1,\n",
        "          validation_data=(x_test,y_test)\n",
        "          )"
      ]
    },
    {
      "cell_type": "markdown",
      "metadata": {
        "id": "s4Ke4ojU5ONy"
      },
      "source": [
        "Save the Model"
      ]
    },
    {
      "cell_type": "code",
      "execution_count": 9,
      "metadata": {
        "id": "VkjTm32o5Nsq"
      },
      "outputs": [],
      "source": [
        "#model.save('AttCNNmodel.h5')\n",
        "#print(\"model is saved\")"
      ]
    }
  ],
  "metadata": {
    "accelerator": "GPU",
    "colab": {
      "provenance": []
    },
    "gpuClass": "standard",
    "kernelspec": {
      "display_name": "Python 3",
      "language": "python",
      "name": "python3"
    },
    "language_info": {
      "codemirror_mode": {
        "name": "ipython",
        "version": 3
      },
      "file_extension": ".py",
      "mimetype": "text/x-python",
      "name": "python",
      "nbconvert_exporter": "python",
      "pygments_lexer": "ipython3",
      "version": "3.10.6"
    },
    "orig_nbformat": 4
  },
  "nbformat": 4,
  "nbformat_minor": 0
}