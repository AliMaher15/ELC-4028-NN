{
  "cells": [
    {
      "cell_type": "markdown",
      "metadata": {
        "id": "ITaSzDbZvD_3"
      },
      "source": [
        "Import Libraries"
      ]
    },
    {
      "cell_type": "code",
      "execution_count": 1,
      "metadata": {
        "id": "6jlUf8k3vD_6"
      },
      "outputs": [],
      "source": [
        "import tensorflow as tf\n",
        "import matplotlib.pyplot as plt\n",
        "from tensorflow import keras\n",
        "from keras.datasets import mnist\n",
        "from keras import backend as k"
      ]
    },
    {
      "attachments": {},
      "cell_type": "markdown",
      "metadata": {
        "id": "WB9bSgGvvD_9"
      },
      "source": [
        "Variables:\n",
        "batch: the process of splitting the training dataset in n batches (mini-batches),\n",
        "classes: number of classifications (labels) of the data,\n",
        "epochs: variations, one epoch is one forward pass + one backward pass on training"
      ]
    },
    {
      "cell_type": "code",
      "execution_count": 2,
      "metadata": {
        "id": "xkOeJPRnvD_9"
      },
      "outputs": [],
      "source": [
        "batch_size = 128\n",
        "num_classes = 10\n",
        "epochs = 4"
      ]
    },
    {
      "cell_type": "markdown",
      "metadata": {
        "id": "J3liWIk8vD_-"
      },
      "source": [
        "Assign training and test data"
      ]
    },
    {
      "cell_type": "code",
      "execution_count": 3,
      "metadata": {
        "id": "z3iDkeOvvD__"
      },
      "outputs": [],
      "source": [
        "img_rows, img_cols = 28,28\n",
        "(x_train,y_train),(x_test,y_test) =   mnist.load_data()"
      ]
    },
    {
      "cell_type": "markdown",
      "metadata": {
        "id": "PtALjtjyvD__"
      },
      "source": [
        "Reshape the images"
      ]
    },
    {
      "cell_type": "code",
      "execution_count": 4,
      "metadata": {
        "colab": {
          "base_uri": "https://localhost:8080/"
        },
        "id": "1cFLpxMyvEAA",
        "outputId": "01a2db10-e51b-40ee-e614-f9782320574e"
      },
      "outputs": [
        {
          "name": "stdout",
          "output_type": "stream",
          "text": [
            "x_train shape: (60000, 28, 28, 1) \n",
            "x_test shape: (10000, 28, 28, 1)\n"
          ]
        }
      ],
      "source": [
        "if k.image_data_format()=='channels_first':\n",
        "    x_train=x_train.reshape(x_train.shape[0],img_rows,img_cols,1)\n",
        "    x_test=x_test.reshape(x_test.shape[0],img_rows,img_cols,1)\n",
        "else:\n",
        "    x_train=x_train.reshape(x_train.shape[0],img_rows,img_cols,1)\n",
        "    x_test=x_test.reshape(x_test.shape[0],img_rows,img_cols,1)\n",
        "\n",
        "input_shape=(img_rows,img_cols,1)\n",
        "x_train = x_train/255.0\n",
        "x_test=x_test/255.0\n",
        "print('x_train shape:',x_train.shape,'\\nx_test shape:',x_test.shape)"
      ]
    },
    {
      "cell_type": "markdown",
      "metadata": {
        "id": "sTYB1sIFvEAE"
      },
      "source": [
        "Convert class vectors to binary class matrices"
      ]
    },
    {
      "cell_type": "code",
      "execution_count": 5,
      "metadata": {
        "id": "TAYZ_TrEvEAF"
      },
      "outputs": [],
      "source": [
        "y_train=keras.utils.to_categorical(y_train,num_classes)\n",
        "y_test=keras.utils.to_categorical(y_test,num_classes)"
      ]
    },
    {
      "cell_type": "markdown",
      "metadata": {
        "id": "8zGyNu1XvEAG"
      },
      "source": [
        "Design the CNN architecture"
      ]
    },
    {
      "cell_type": "code",
      "execution_count": 6,
      "metadata": {},
      "outputs": [],
      "source": [
        "from keras.models import Sequential\n",
        "from keras.layers import Dense,Flatten\n",
        "from keras.layers import Conv2D,MaxPool2D"
      ]
    },
    {
      "cell_type": "code",
      "execution_count": 7,
      "metadata": {
        "colab": {
          "base_uri": "https://localhost:8080/"
        },
        "id": "dgaH6t_XvEAG",
        "outputId": "40a46f13-f7f1-49cd-e940-523f6b25dc24"
      },
      "outputs": [
        {
          "name": "stdout",
          "output_type": "stream",
          "text": [
            "Model: \"sequential\"\n",
            "_________________________________________________________________\n",
            " Layer (type)                Output Shape              Param #   \n",
            "=================================================================\n",
            " conv2d (Conv2D)             (None, 26, 26, 32)        320       \n",
            "                                                                 \n",
            " max_pooling2d (MaxPooling2D  (None, 13, 13, 32)       0         \n",
            " )                                                               \n",
            "                                                                 \n",
            " conv2d_1 (Conv2D)           (None, 11, 11, 64)        18496     \n",
            "                                                                 \n",
            " max_pooling2d_1 (MaxPooling  (None, 5, 5, 64)         0         \n",
            " 2D)                                                             \n",
            "                                                                 \n",
            " flatten (Flatten)           (None, 1600)              0         \n",
            "                                                                 \n",
            " dense (Dense)               (None, 32)                51232     \n",
            "                                                                 \n",
            " dense_1 (Dense)             (None, 10)                330       \n",
            "                                                                 \n",
            "=================================================================\n",
            "Total params: 70,378\n",
            "Trainable params: 70,378\n",
            "Non-trainable params: 0\n",
            "_________________________________________________________________\n"
          ]
        }
      ],
      "source": [
        "model=Sequential()\n",
        "\n",
        "model.add( Conv2D(32,kernel_size=(3,3),activation='relu',input_shape=input_shape) )\n",
        "model.add( MaxPool2D(pool_size=(2,2)) )\n",
        "model.add( Conv2D(64,kernel_size=(3,3),activation='relu') )\n",
        "model.add( MaxPool2D(pool_size=(2,2)) )\n",
        "model.add( Flatten() )\n",
        "model.add( Dense(32,activation='relu') )\n",
        "model.add( Dense(num_classes,activation='softmax') )\n",
        "model.summary()"
      ]
    },
    {
      "cell_type": "markdown",
      "metadata": {
        "id": "1HR8V-FSvEAH"
      },
      "source": [
        "Compile the model"
      ]
    },
    {
      "cell_type": "code",
      "execution_count": 10,
      "metadata": {
        "colab": {
          "base_uri": "https://localhost:8080/"
        },
        "id": "fil5Jz7zvEAI",
        "outputId": "275fcddb-f5ea-44de-d8df-0eebcc9e456c"
      },
      "outputs": [
        {
          "name": "stdout",
          "output_type": "stream",
          "text": [
            "Epoch 1/4\n",
            "469/469 [==============================] - 39s 79ms/step - loss: 0.0364 - accuracy: 0.9887 - val_loss: 0.0344 - val_accuracy: 0.9882\n",
            "Epoch 2/4\n",
            "469/469 [==============================] - 40s 85ms/step - loss: 0.0287 - accuracy: 0.9908 - val_loss: 0.0351 - val_accuracy: 0.9890\n",
            "Epoch 3/4\n",
            "469/469 [==============================] - 39s 83ms/step - loss: 0.0233 - accuracy: 0.9925 - val_loss: 0.0283 - val_accuracy: 0.9905\n",
            "Epoch 4/4\n",
            "469/469 [==============================] - 38s 82ms/step - loss: 0.0192 - accuracy: 0.9942 - val_loss: 0.0317 - val_accuracy: 0.9897\n"
          ]
        },
        {
          "data": {
            "text/plain": [
              "<keras.callbacks.History at 0x1d746f783a0>"
            ]
          },
          "execution_count": 10,
          "metadata": {},
          "output_type": "execute_result"
        }
      ],
      "source": [
        "model.compile(optimizer=keras.optimizers.Adam(),\n",
        "              loss=keras.losses.categorical_crossentropy,\n",
        "              metrics=['accuracy']\n",
        "             )\n",
        "model.fit(x_train,y_train,\n",
        "          batch_size=batch_size,\n",
        "          epochs=epochs,\n",
        "          verbose=1,\n",
        "          validation_data=(x_test,y_test)\n",
        "          )"
      ]
    },
    {
      "cell_type": "markdown",
      "metadata": {
        "id": "s4Ke4ojU5ONy"
      },
      "source": [
        "Save the Model"
      ]
    },
    {
      "cell_type": "code",
      "execution_count": 9,
      "metadata": {
        "colab": {
          "base_uri": "https://localhost:8080/"
        },
        "id": "VkjTm32o5Nsq",
        "outputId": "30692738-5932-4125-fdd5-42bd35472fd2"
      },
      "outputs": [
        {
          "name": "stdout",
          "output_type": "stream",
          "text": [
            "model is saved\n"
          ]
        }
      ],
      "source": [
        "model.save('simpleCNNmodel.h5')\n",
        "print(\"model is saved\")"
      ]
    }
  ],
  "metadata": {
    "accelerator": "GPU",
    "colab": {
      "provenance": []
    },
    "gpuClass": "standard",
    "kernelspec": {
      "display_name": "Python 3",
      "language": "python",
      "name": "python3"
    },
    "language_info": {
      "codemirror_mode": {
        "name": "ipython",
        "version": 3
      },
      "file_extension": ".py",
      "mimetype": "text/x-python",
      "name": "python",
      "nbconvert_exporter": "python",
      "pygments_lexer": "ipython3",
      "version": "3.10.6"
    },
    "orig_nbformat": 4
  },
  "nbformat": 4,
  "nbformat_minor": 0
}
