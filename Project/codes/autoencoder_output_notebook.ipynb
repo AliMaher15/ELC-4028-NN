{
  "cells": [
    {
      "attachments": {},
      "cell_type": "markdown",
      "metadata": {
        "id": "ITaSzDbZvD_3"
      },
      "source": [
        "Import Libraries"
      ]
    },
    {
      "cell_type": "code",
      "execution_count": 36,
      "metadata": {
        "id": "xagm99P8BsB6"
      },
      "outputs": [],
      "source": [
        "is_drive = 0"
      ]
    },
    {
      "cell_type": "code",
      "execution_count": 37,
      "metadata": {
        "id": "x6NxANuJ1RA0"
      },
      "outputs": [],
      "source": [
        "if is_drive==1 :\n",
        "    from google.colab import drive\n",
        "    drive.mount('/content/drive')"
      ]
    },
    {
      "cell_type": "code",
      "execution_count": 38,
      "metadata": {
        "id": "6jlUf8k3vD_6"
      },
      "outputs": [],
      "source": [
        "# directory management\n",
        "import os\n",
        "from glob import glob\n",
        "import pickle\n",
        "# regular imports\n",
        "import pandas as pd\n",
        "import numpy as np\n",
        "from matplotlib import pyplot as plt\n",
        "import seaborn as sns\n",
        "# audio analysis\n",
        "import librosa \n",
        "import librosa.display\n",
        "import IPython.display as ipd\n",
        "# imports for colors and plots\n",
        "from itertools import cycle\n",
        "sns.set_theme(style=\"white\", palette=None)\n",
        "color_pal = plt.rcParams[\"axes.prop_cycle\"].by_key()[\"color\"]\n",
        "color_cycle = cycle(plt.rcParams[\"axes.prop_cycle\"].by_key()[\"color\"])\n",
        "# imports for NN\n",
        "import tensorflow as tf\n",
        "from tensorflow import keras\n",
        "import time"
      ]
    },
    {
      "cell_type": "code",
      "execution_count": 39,
      "metadata": {
        "id": "1f14-Y5NBklQ"
      },
      "outputs": [],
      "source": [
        "# Spectogram Path\n",
        "if is_drive==1 :   \n",
        "    TRAIN_DIR = \"/content/drive/MyDrive/spectogram-dataset/Train/\"\n",
        "    TEST_DIR = \"/content/drive/MyDrive/spectogram-dataset/Test/\"\n",
        "    AE_SPECTROGRAMS_SAVE_DIR1 = \"/content/drive/MyDrive/autoencoder-generations/Generated-Test/\"\n",
        "    E_SPECTROGRAMS_SAVE_DIR1 = \"/content/drive/MyDrive/autoencoder-generations/Compressed-Test/\"\n",
        "    AE_SPECTROGRAMS_SAVE_DIR2 = \"/content/drive/MyDrive/autoencoder-generations/Generated-Train/\"\n",
        "    E_SPECTROGRAMS_SAVE_DIR2 = \"/content/drive/MyDrive/autoencoder-generations/Compressed-Train/\"\n",
        "else :\n",
        "    TRAIN_DIR = \"../Project/spectogram-dataset/Train/\"\n",
        "    TEST_DIR = \"../Project/spectogram-dataset/Test/\"\n",
        "    AE_SPECTROGRAMS_SAVE_DIR1 = \"../Project/autoencoder-generations/Generated-Test/\"\n",
        "    E_SPECTROGRAMS_SAVE_DIR1 = \"../Project/autoencoder-generations/Compressed-Test/\"\n",
        "    AE_SPECTROGRAMS_SAVE_DIR2 = \"../Project/autoencoder-generations/Generated-Train/\"\n",
        "    E_SPECTROGRAMS_SAVE_DIR2 = \"../Project/autoencoder-generations/Compressed-Train/\"\n",
        "    MIN_MAX_VALUES_PATH1 = \"../Project/MinMax-pickle/Test/min_max_values.pkl\"\n",
        "    MIN_MAX_VALUES_PATH2 = \"../Project/MinMax-pickle/Train/min_max_values.pkl\""
      ]
    },
    {
      "cell_type": "code",
      "execution_count": 40,
      "metadata": {
        "id": "-qUmHgZk1RA5"
      },
      "outputs": [],
      "source": [
        "def load_fsdd(train_spectrograms_path,test_spectrograms_path):\n",
        "    x_train = []\n",
        "    train_file_paths = []\n",
        "    for root, _, file_names in os.walk(train_spectrograms_path):\n",
        "        for file_name in file_names:\n",
        "            file_path = os.path.join(root, file_name)\n",
        "            spectrogram = np.load(file_path) # (n_bins, n_frames)\n",
        "            x_train.append(spectrogram)\n",
        "            train_file_paths.append(file_path)\n",
        "    x_train = np.array(x_train)        # -> (n_samples, n_bins, n_frames)\n",
        "    x_train = x_train[..., np.newaxis] # -> (1200, 800, 32, 1)\n",
        "\n",
        "    x_test  = []\n",
        "    test_file_paths = []\n",
        "    for root, _, file_names in os.walk(test_spectrograms_path):\n",
        "        for file_name in file_names:\n",
        "            file_path = os.path.join(root, file_name)\n",
        "            spectrogram = np.load(file_path) # (n_bins, n_frames)\n",
        "            x_test.append(spectrogram)\n",
        "            test_file_paths.append(file_path)\n",
        "    x_test = np.array(x_test)        # -> (n_samples, n_bins, n_frames)\n",
        "    x_test = x_test[..., np.newaxis] # -> (300, 800, 32, 1)\n",
        "\n",
        "    return x_train,x_test,train_file_paths,test_file_paths"
      ]
    },
    {
      "cell_type": "code",
      "execution_count": 41,
      "metadata": {
        "id": "iKKWiuGDBklT"
      },
      "outputs": [],
      "source": [
        "x_train, x_test, train_file_paths, test_file_paths = load_fsdd(TRAIN_DIR, TEST_DIR)"
      ]
    },
    {
      "cell_type": "code",
      "execution_count": 42,
      "metadata": {},
      "outputs": [],
      "source": [
        "from autoencoder import Autoencoder\n",
        "from preprocess import Saver\n",
        "from preprocess import MinMaxNormaliser"
      ]
    },
    {
      "cell_type": "code",
      "execution_count": 43,
      "metadata": {},
      "outputs": [],
      "source": [
        "AE = Autoencoder.load(\"AE-model\")"
      ]
    },
    {
      "cell_type": "code",
      "execution_count": 44,
      "metadata": {},
      "outputs": [
        {
          "name": "stderr",
          "output_type": "stream",
          "text": [
            "c:\\Users\\Ali\\AppData\\Local\\Programs\\Python\\Python310\\lib\\site-packages\\keras\\engine\\training_v1.py:2359: UserWarning: `Model.state_updates` will be removed in a future version. This property should not be used in TensorFlow 2.0, as `updates` are applied automatically.\n",
            "  updates=self.state_updates,\n"
          ]
        },
        {
          "name": "stdout",
          "output_type": "stream",
          "text": [
            "x_test_latent_representations (300, 16)\n",
            "x_test_generated_spectrograms (300, 160, 84, 1)\n",
            "x_train_latent_representations (1200, 16)\n",
            "x_train_generated_spectrograms (1200, 160, 84, 1)\n"
          ]
        }
      ],
      "source": [
        "x_test_generated_spectrograms, x_test_latent_representations = AE.reconstruct(x_test)\n",
        "print(\"x_test_latent_representations\", x_test_latent_representations.shape)\n",
        "print(\"x_test_generated_spectrograms\", x_test_generated_spectrograms.shape)\n",
        "x_train_generated_spectrograms, x_train_latent_representations = AE.reconstruct(x_train)\n",
        "print(\"x_train_latent_representations\", x_train_latent_representations.shape)\n",
        "print(\"x_train_generated_spectrograms\", x_train_generated_spectrograms.shape)"
      ]
    },
    {
      "cell_type": "code",
      "execution_count": 45,
      "metadata": {},
      "outputs": [],
      "source": [
        "saver1 = Saver(AE_SPECTROGRAMS_SAVE_DIR1, None)\n",
        "saver2 = Saver(E_SPECTROGRAMS_SAVE_DIR1, None)\n",
        "saver3 = Saver(AE_SPECTROGRAMS_SAVE_DIR2, None)\n",
        "saver4 = Saver(E_SPECTROGRAMS_SAVE_DIR2, None)\n",
        "for i in range(len(x_test_generated_spectrograms)):\n",
        "    saver1.save_feature(x_test_generated_spectrograms[i], test_file_paths[i])\n",
        "    saver2.save_feature(x_test_latent_representations[i], test_file_paths[i])\n",
        "for i in range(len(x_train_generated_spectrograms)):\n",
        "    saver3.save_feature(x_train_generated_spectrograms[i], train_file_paths[i])\n",
        "    saver4.save_feature(x_train_latent_representations[i], train_file_paths[i])"
      ]
    },
    {
      "cell_type": "code",
      "execution_count": 47,
      "metadata": {},
      "outputs": [],
      "source": [
        "# load spectrograms + min max values\n",
        "with open(MIN_MAX_VALUES_PATH1, \"rb\") as f:\n",
        "    test_min_max_values = pickle.load(f)\n",
        "\n",
        "sampled_min_max_values = [test_min_max_values[file_path] for file_path in train_file_paths]"
      ]
    },
    {
      "cell_type": "code",
      "execution_count": 53,
      "metadata": {},
      "outputs": [
        {
          "ename": "TypeError",
          "evalue": "list indices must be integers or slices, not str",
          "output_type": "error",
          "traceback": [
            "\u001b[1;31m---------------------------------------------------------------------------\u001b[0m",
            "\u001b[1;31mTypeError\u001b[0m                                 Traceback (most recent call last)",
            "Cell \u001b[1;32mIn[53], line 4\u001b[0m\n\u001b[0;32m      1\u001b[0m min_max_normaliser \u001b[39m=\u001b[39m MinMaxNormaliser(\u001b[39m0\u001b[39m, \u001b[39m1\u001b[39m)\n\u001b[0;32m      2\u001b[0m x_test_generated_log_spectrogram \u001b[39m=\u001b[39m x_test_generated_spectrograms[:, :, \u001b[39m0\u001b[39m]\n\u001b[0;32m      3\u001b[0m denorm_log_spec \u001b[39m=\u001b[39m min_max_normaliser\u001b[39m.\u001b[39mdenormalise(\n\u001b[1;32m----> 4\u001b[0m     x_test_generated_log_spectrogram, sampled_min_max_values[\u001b[39m\"\u001b[39;49m\u001b[39mmin\u001b[39;49m\u001b[39m\"\u001b[39;49m], sampled_min_max_values[\u001b[39m\"\u001b[39m\u001b[39mmax\u001b[39m\u001b[39m\"\u001b[39m])\n",
            "\u001b[1;31mTypeError\u001b[0m: list indices must be integers or slices, not str"
          ]
        }
      ],
      "source": [
        "min_max_normaliser = MinMaxNormaliser(0, 1)\n",
        "denorm_log_specs = []\n",
        "for spectrogram, min_max_value in zip(x_test_generated_spectrograms, sampled_min_max_values):\n",
        "    # reshape the log spectrogram\n",
        "    log_spectrogram = spectrogram[:, :, 0]\n",
        "    # apply denormalisation\n",
        "    denorm_log_spec = self._min_max_normaliser.denormalise(\n",
        "        log_spectrogram, min_max_value[\"min\"], min_max_value[\"max\"])\n",
        "    # \n",
        "    denorm_log_specs.append(log_spectrogram)"
      ]
    },
    {
      "cell_type": "code",
      "execution_count": null,
      "metadata": {},
      "outputs": [],
      "source": [
        "fig, ax = plt.subplots(nrows=2, ncols=3, sharex=True, figsize=(15,10))\n",
        "for i in range(3):\n",
        "    img1 = librosa.display.specshow(x_test[i+5].reshape(160, 84),\n",
        "                                x_axis='time',\n",
        "                                y_axis='log',\n",
        "                                ax=ax[0, i])\n",
        "    ax[0, i].set(title='x_test')\n",
        "    fig.colorbar(img1, ax=ax[0, i], format=f'%0.2f')\n",
        "    img = librosa.display.specshow(x_test_generated_spectrograms[i+5].reshape(160, 84),\n",
        "                                x_axis='time',\n",
        "                                y_axis='log',\n",
        "                                ax=ax[1, i])\n",
        "    ax[1, i].set(title='generated_spectrogram')\n",
        "    fig.colorbar(img, ax=ax[1, i], format=f'%0.2f')\n",
        "plt.show()"
      ]
    },
    {
      "cell_type": "code",
      "execution_count": null,
      "metadata": {},
      "outputs": [],
      "source": [
        "fig, ax = plt.subplots(nrows=2, ncols=3, sharex=True, figsize=(15,10))\n",
        "for i in range(3):\n",
        "    img1 = librosa.display.specshow(x_train[i+100].reshape(160, 84),\n",
        "                                x_axis='time',\n",
        "                                y_axis='log',\n",
        "                                ax=ax[0, i])\n",
        "    ax[0, i].set(title='x_train')\n",
        "    fig.colorbar(img1, ax=ax[0, i], format=f'%0.2f')\n",
        "    img = librosa.display.specshow(x_train_generated_spectrograms[i+100].reshape(160, 84),\n",
        "                                x_axis='time',\n",
        "                                y_axis='log',\n",
        "                                ax=ax[1, i])\n",
        "    ax[1, i].set(title='x_train_generated_spectrograms')\n",
        "    fig.colorbar(img, ax=ax[1, i], format=f'%0.2f')\n",
        "plt.show()"
      ]
    }
  ],
  "metadata": {
    "accelerator": "GPU",
    "colab": {
      "provenance": []
    },
    "gpuClass": "standard",
    "kernelspec": {
      "display_name": "Python 3",
      "language": "python",
      "name": "python3"
    },
    "language_info": {
      "codemirror_mode": {
        "name": "ipython",
        "version": 3
      },
      "file_extension": ".py",
      "mimetype": "text/x-python",
      "name": "python",
      "nbconvert_exporter": "python",
      "pygments_lexer": "ipython3",
      "version": "3.10.6"
    },
    "orig_nbformat": 4
  },
  "nbformat": 4,
  "nbformat_minor": 0
}
