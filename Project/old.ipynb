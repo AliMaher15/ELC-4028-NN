{
  "cells": [
    {
      "attachments": {},
      "cell_type": "markdown",
      "metadata": {},
      "source": [
        "# 1. Import Libraries and Set Directory"
      ]
    },
    {
      "cell_type": "markdown",
      "metadata": {
        "id": "ITaSzDbZvD_3"
      },
      "source": [
        "Import Libraries"
      ]
    },
    {
      "cell_type": "code",
      "execution_count": 1,
      "metadata": {
        "colab": {
          "base_uri": "https://localhost:8080/"
        },
        "id": "xagm99P8BsB6",
        "outputId": "fcb6582b-82da-4c54-8803-5bf31deebc8d"
      },
      "outputs": [
        {
          "name": "stdout",
          "output_type": "stream",
          "text": [
            "Drive already mounted at /content/drive; to attempt to forcibly remount, call drive.mount(\"/content/drive\", force_remount=True).\n"
          ]
        }
      ],
      "source": [
        "from google.colab import drive\n",
        "drive.mount('/content/drive')"
      ]
    },
    {
      "cell_type": "code",
      "execution_count": 2,
      "metadata": {
        "colab": {
          "base_uri": "https://localhost:8080/"
        },
        "id": "qGiZAJeKGyV7",
        "outputId": "c93dd3af-9e92-4808-d333-83e8cd2f2d21"
      },
      "outputs": [
        {
          "name": "stdout",
          "output_type": "stream",
          "text": [
            "Looking in indexes: https://pypi.org/simple, https://us-python.pkg.dev/colab-wheels/public/simple/\n",
            "Requirement already satisfied: tensorflow-io in /usr/local/lib/python3.9/dist-packages (0.32.0)\n",
            "Requirement already satisfied: tensorflow-io-gcs-filesystem==0.32.0 in /usr/local/lib/python3.9/dist-packages (from tensorflow-io) (0.32.0)\n"
          ]
        }
      ],
      "source": [
        "!pip install tensorflow-io"
      ]
    },
    {
      "cell_type": "code",
      "execution_count": 3,
      "metadata": {
        "id": "6jlUf8k3vD_6"
      },
      "outputs": [],
      "source": [
        "# directory management\n",
        "import os\n",
        "from glob import glob\n",
        "# regular imports\n",
        "import pandas as pd\n",
        "import numpy as np\n",
        "from matplotlib import pyplot as plt\n",
        "import seaborn as sns\n",
        "# audio analysis\n",
        "import librosa \n",
        "import librosa.display\n",
        "import IPython.display as ipd\n",
        "# imports for colors and plots\n",
        "from itertools import cycle\n",
        "sns.set_theme(style=\"white\", palette=None)\n",
        "color_pal = plt.rcParams[\"axes.prop_cycle\"].by_key()[\"color\"]\n",
        "color_cycle = cycle(plt.rcParams[\"axes.prop_cycle\"].by_key()[\"color\"])\n",
        "# imports for NN\n",
        "import tensorflow as tf \n",
        "import tensorflow_io as tfio\n",
        "from tensorflow import keras\n",
        "from keras import backend as k\n",
        "import time\n",
        "from tensorflow.keras.callbacks import EarlyStopping"
      ]
    },
    {
      "attachments": {},
      "cell_type": "markdown",
      "metadata": {
        "id": "8B9Gh9PaIawq"
      },
      "source": [
        "# 2. Process Dataset into Spectogram"
      ]
    },
    {
      "cell_type": "markdown",
      "metadata": {
        "id": "J3liWIk8vD_-"
      },
      "source": [
        "a function that returns audio in numeric representation"
      ]
    },
    {
      "cell_type": "code",
      "execution_count": 4,
      "metadata": {
        "id": "z3iDkeOvvD__"
      },
      "outputs": [],
      "source": [
        "def load_wav_16k_mono(filename):\n",
        "    # Load encoded wav file\n",
        "    file_contents = tf.io.read_file(filename)\n",
        "    # Decode wav (tensors by channels) \n",
        "    wav, sample_rate = tf.audio.decode_wav(file_contents, desired_channels=1)\n",
        "    # Removes trailing axis\n",
        "    wav = tf.squeeze(wav, axis=-1)\n",
        "    sample_rate = tf.cast(sample_rate, dtype=tf.int64)\n",
        "    # Goes from 44100Hz to 16000hz - amplitude of the audio signal\n",
        "    #wav = tfio.audio.resample(wav, rate_in=sample_rate, rate_out=16000)\n",
        "    return wav"
      ]
    },
    {
      "cell_type": "markdown",
      "metadata": {
        "id": "MhqouUe-BklP"
      },
      "source": [
        "Read all audio files and sort"
      ]
    },
    {
      "cell_type": "code",
      "execution_count": 5,
      "metadata": {
        "id": "1f14-Y5NBklQ"
      },
      "outputs": [],
      "source": [
        "train_dir = os.path.join('/content','drive','MyDrive','audio-data', 'Train')\n",
        "test_dir = os.path.join('/content','drive','MyDrive','audio-data', 'Test')\n",
        "# load files\n",
        "train_files = tf.data.Dataset.list_files(train_dir+'/*.wav')\n",
        "test_files = tf.data.Dataset.list_files(test_dir+'/*.wav')\n",
        "# sort files as a list\n",
        "train_files_list = sorted(list(train_files.as_numpy_iterator()))\n",
        "test_files_list = sorted(list(test_files.as_numpy_iterator()))\n",
        "# convert to tensor type\n",
        "train_files = tf.data.Dataset.from_tensor_slices(train_files_list)\n",
        "test_files = tf.data.Dataset.from_tensor_slices(test_files_list)"
      ]
    },
    {
      "cell_type": "markdown",
      "metadata": {
        "id": "oL6VGLrKBklQ"
      },
      "source": [
        "Add Labels"
      ]
    },
    {
      "cell_type": "code",
      "execution_count": 6,
      "metadata": {
        "id": "FqnvMBIgBklR"
      },
      "outputs": [],
      "source": [
        "num_classes = 10\n",
        "iterations = 0\n",
        "i = 0\n",
        "train_labels = []\n",
        "while iterations!=len(train_files):\n",
        "    iterations +=1\n",
        "    train_labels.append(i)\n",
        "    i += 1\n",
        "    if i == num_classes :\n",
        "        i = 0\n",
        "#---------------------------------------------------------------#\n",
        "iterations = 0\n",
        "i = 0\n",
        "test_labels=[]\n",
        "while iterations!=len(test_files):\n",
        "    iterations +=1\n",
        "    test_labels.append(i)\n",
        "    i += 1\n",
        "    if i == num_classes :\n",
        "        i = 0"
      ]
    },
    {
      "cell_type": "code",
      "execution_count": null,
      "metadata": {},
      "outputs": [],
      "source": [
        "train_labels=keras.utils.to_categorical(train_labels,num_classes)\n",
        "test_labels =keras.utils.to_categorical(test_labels,num_classes)\n",
        "train_tf = tf.data.Dataset.zip((train_files, tf.data.Dataset.from_tensor_slices(train_labels)))\n",
        "test_tf  = tf.data.Dataset.zip((test_files, tf.data.Dataset.from_tensor_slices(test_labels)))"
      ]
    },
    {
      "cell_type": "markdown",
      "metadata": {
        "id": "Z9wucjBYBklR"
      },
      "source": [
        "Build Preprocessing Function to get spectogram"
      ]
    },
    {
      "cell_type": "code",
      "execution_count": 7,
      "metadata": {
        "id": "H1Uxr80iBklS"
      },
      "outputs": [],
      "source": [
        "def preprocess(file_path, label): \n",
        "    wav = load_wav_16k_mono(file_path)\n",
        "    #wav = wav[:48000]\n",
        "    #zero_padding = tf.zeros([48000] - tf.shape(wav), dtype=tf.float32)\n",
        "    #wav = tf.concat([zero_padding, wav],0)\n",
        "    spectrogram = tf.signal.stft(wav, frame_length=320, frame_step=32)\n",
        "    spectrogram = tf.abs(spectrogram)\n",
        "    spectrogram = tf.expand_dims(spectrogram, axis=2)\n",
        "    return spectrogram, label"
      ]
    },
    {
      "cell_type": "markdown",
      "metadata": {
        "id": "cq3zzxCPBklT"
      },
      "source": [
        "Convert all to Spectogram"
      ]
    },
    {
      "cell_type": "code",
      "execution_count": 8,
      "metadata": {
        "id": "iKKWiuGDBklT"
      },
      "outputs": [],
      "source": [
        "# train data\n",
        "x_train = train_tf.map(preprocess)\n",
        "x_train = x_train.cache()\n",
        "x_train = x_train.shuffle(buffer_size=1000)\n",
        "x_train = x_train.batch(16) # 16 at a time\n",
        "x_train = x_train.prefetch(8)\n",
        "# test data\n",
        "x_test = test_tf.map(preprocess)\n",
        "x_test = x_test.cache()\n",
        "x_test = x_test.shuffle(buffer_size=1000)\n",
        "x_test = x_test.batch(16) # 16 at a time\n",
        "x_test = x_test.prefetch(8)"
      ]
    },
    {
      "cell_type": "code",
      "execution_count": 9,
      "metadata": {
        "colab": {
          "base_uri": "https://localhost:8080/"
        },
        "id": "NhvPPp2_BklU",
        "outputId": "48a47a92-5c71-4869-dde2-948a640a302d"
      },
      "outputs": [
        {
          "name": "stdout",
          "output_type": "stream",
          "text": [
            "(16, 391, 257, 1)\n",
            "\n",
            " [[0. 0. 0. 0. 0. 0. 1. 0. 0. 0.]\n",
            " [0. 0. 0. 0. 0. 0. 0. 0. 1. 0.]] \n",
            "...\n"
          ]
        }
      ],
      "source": [
        "# test one batch\n",
        "samples, labels = x_train.as_numpy_iterator().next()\n",
        "print(samples.shape)\n",
        "print('\\n',labels[0:2],'\\n...')"
      ]
    },
    {
      "cell_type": "markdown",
      "metadata": {
        "id": "pX1ZVQVBHtjW"
      },
      "source": [
        "# 2. CNN no Attention"
      ]
    },
    {
      "cell_type": "code",
      "execution_count": 10,
      "metadata": {
        "id": "VDmx4mx8BklV"
      },
      "outputs": [],
      "source": [
        "from keras.models import Sequential\n",
        "from keras import layers"
      ]
    },
    {
      "cell_type": "markdown",
      "metadata": {
        "id": "X9ryVXwXH7au"
      },
      "source": [
        "Design the CNN architecture"
      ]
    },
    {
      "cell_type": "code",
      "execution_count": 17,
      "metadata": {
        "colab": {
          "base_uri": "https://localhost:8080/"
        },
        "id": "7J2O7FcDH6d7",
        "outputId": "84c716c4-09c6-458d-9a6f-6dded5066e1f"
      },
      "outputs": [
        {
          "name": "stdout",
          "output_type": "stream",
          "text": [
            "Model: \"model\"\n",
            "__________________________________________________________________________________________________\n",
            " Layer (type)                   Output Shape         Param #     Connected to                     \n",
            "==================================================================================================\n",
            " input_1 (InputLayer)           [(None, 391, 257, 1  0           []                               \n",
            "                                )]                                                                \n",
            "                                                                                                  \n",
            " conv2d_1 (Conv2D)              (None, 389, 255, 32  320         ['input_1[0][0]']                \n",
            "                                )                                                                 \n",
            "                                                                                                  \n",
            " conv2d_2 (Conv2D)              (None, 389, 255, 1)  289         ['conv2d_1[0][0]']               \n",
            "                                                                                                  \n",
            " multiply (Multiply)            (None, 389, 255, 32  0           ['conv2d_1[0][0]',               \n",
            "                                )                                 'conv2d_2[0][0]']               \n",
            "                                                                                                  \n",
            " max_pooling2d_1 (MaxPooling2D)  (None, 194, 127, 32  0          ['multiply[0][0]']               \n",
            "                                )                                                                 \n",
            "                                                                                                  \n",
            " dropout_1 (Dropout)            (None, 194, 127, 32  0           ['max_pooling2d_1[0][0]']        \n",
            "                                )                                                                 \n",
            "                                                                                                  \n",
            " flatten_1 (Flatten)            (None, 788416)       0           ['dropout_1[0][0]']              \n",
            "                                                                                                  \n",
            " dense_2 (Dense)                (None, 32)           25229344    ['flatten_1[0][0]']              \n",
            "                                                                                                  \n",
            " dense_3 (Dense)                (None, 10)           330         ['dense_2[0][0]']                \n",
            "                                                                                                  \n",
            "==================================================================================================\n",
            "Total params: 25,230,283\n",
            "Trainable params: 25,230,283\n",
            "Non-trainable params: 0\n",
            "__________________________________________________________________________________________________\n"
          ]
        }
      ],
      "source": [
        "input_shape = (391, 257, 1)\n",
        "inputs = layers.Input(shape=input_shape)\n",
        "conv = layers.Conv2D(32,kernel_size=(3,3),activation='relu')(inputs)\n",
        "#Attention\n",
        "attention = layers.Conv2D(1, (3,3), padding='same', activation='sigmoid')(conv)\n",
        "attention_mul = layers.Multiply()([conv, attention])\n",
        "##########\n",
        "pool = layers.MaxPool2D(pool_size=(2,2))(attention_mul)\n",
        "drop = layers.Dropout(0.2)(pool)\n",
        "flatten = layers.Flatten()(drop)\n",
        "dense = layers.Dense(32,activation='relu')(flatten)\n",
        "dense2 = layers.Dense(num_classes,activation='softmax')(dense)\n",
        "modelAtt = keras.Model(inputs=inputs, outputs=dense2)\n",
        "\n",
        "modelAtt.summary()"
      ]
    },
    {
      "cell_type": "markdown",
      "metadata": {
        "id": "dwXMnyAiIG1T"
      },
      "source": [
        "Training"
      ]
    },
    {
      "cell_type": "code",
      "execution_count": 18,
      "metadata": {
        "id": "8ejqCmZ1IIKk"
      },
      "outputs": [],
      "source": [
        "modelAtt.compile(optimizer=keras.optimizers.Adam(),\n",
        "              loss= keras.losses.CategoricalCrossentropy(),\n",
        "              metrics=['accuracy']\n",
        "             )"
      ]
    },
    {
      "cell_type": "code",
      "execution_count": 19,
      "metadata": {
        "colab": {
          "base_uri": "https://localhost:8080/"
        },
        "id": "p4hEzys7IKNS",
        "outputId": "bdba7b32-f5c9-4631-e972-dfdc74a1d4cc"
      },
      "outputs": [
        {
          "name": "stdout",
          "output_type": "stream",
          "text": [
            "Epoch 1/15\n",
            "75/75 [==============================] - 9s 89ms/step - loss: 1.4645 - accuracy: 0.6367 - val_loss: 0.8348 - val_accuracy: 0.7300\n",
            "Epoch 2/15\n",
            "75/75 [==============================] - 7s 87ms/step - loss: 0.2974 - accuracy: 0.9300 - val_loss: 0.7497 - val_accuracy: 0.7667\n",
            "Epoch 3/15\n",
            "75/75 [==============================] - 7s 87ms/step - loss: 0.1539 - accuracy: 0.9608 - val_loss: 0.8659 - val_accuracy: 0.8000\n",
            "Epoch 4/15\n",
            "75/75 [==============================] - 6s 87ms/step - loss: 0.0632 - accuracy: 0.9883 - val_loss: 0.7461 - val_accuracy: 0.8300\n",
            "Epoch 5/15\n",
            "75/75 [==============================] - 6s 85ms/step - loss: 0.1172 - accuracy: 0.9683 - val_loss: 0.5103 - val_accuracy: 0.8567\n",
            "Epoch 6/15\n",
            "75/75 [==============================] - 7s 87ms/step - loss: 0.1024 - accuracy: 0.9775 - val_loss: 0.6533 - val_accuracy: 0.8367\n",
            "Epoch 7/15\n",
            "75/75 [==============================] - 6s 85ms/step - loss: 0.0415 - accuracy: 0.9883 - val_loss: 0.6919 - val_accuracy: 0.8467\n"
          ]
        }
      ],
      "source": [
        "tic=time.time()\n",
        "histAtt = modelAtt.fit(x_train,\n",
        "                    epochs=15,\n",
        "                    verbose=1,\n",
        "                    callbacks=[early_stopping],\n",
        "                    validation_data=x_test\n",
        "                    )\n",
        "toc=time.time()\n",
        "training_time=toc-tic"
      ]
    },
    {
      "cell_type": "code",
      "execution_count": 20,
      "metadata": {
        "colab": {
          "base_uri": "https://localhost:8080/",
          "height": 452
        },
        "id": "U0JXfu1on0Ey",
        "outputId": "a3047eb7-6214-41c3-d3b5-08a0ecb6ef54"
      },
      "outputs": [
        {
          "data": {
            "image/png": "[encoded data removed]",
            "text/plain": [
              "<Figure size 640x480 with 1 Axes>"
            ]
          },
          "metadata": {},
          "output_type": "display_data"
        }
      ],
      "source": [
        "plt.title('Loss - with Attention')\n",
        "plt.plot(hist.history['loss'], 'r')\n",
        "plt.plot(hist.history['val_loss'], 'b')\n",
        "plt.show()"
      ]
    },
    {
      "cell_type": "code",
      "execution_count": 21,
      "metadata": {
        "colab": {
          "base_uri": "https://localhost:8080/",
          "height": 452
        },
        "id": "-9yZGVD7n1mD",
        "outputId": "64bb63ed-6782-4b28-dda9-7a9b2584e1e2"
      },
      "outputs": [
        {
          "data": {
            "image/png": "[encoded data removed]",
            "text/plain": [
              "<Figure size 640x480 with 1 Axes>"
            ]
          },
          "metadata": {},
          "output_type": "display_data"
        }
      ],
      "source": [
        "plt.title('Accuracy - with Attention')\n",
        "plt.plot(histAtt.history['accuracy'], 'r')\n",
        "plt.plot(histAtt.history['val_accuracy'], 'b')\n",
        "plt.show()"
      ]
    },
    {
      "cell_type": "code",
      "execution_count": 22,
      "metadata": {
        "colab": {
          "base_uri": "https://localhost:8080/"
        },
        "id": "GXj-H100JpsN",
        "outputId": "932d245d-8e29-4acc-b7e5-04cbe2e83969"
      },
      "outputs": [
        {
          "name": "stdout",
          "output_type": "stream",
          "text": [
            "19/19 [==============================] - 0s 19ms/step - loss: 0.6919 - accuracy: 0.8467\n",
            "Training Time = 53.6 s\n",
            "Testing Time = 637.8 ms\n",
            "Test Loss = 69.20 %:\n",
            "Test Accuracy = 84.70 %:\n"
          ]
        }
      ],
      "source": [
        "tic=time.time()\n",
        "test_loss, test_acc = modelAtt.evaluate(x_test)\n",
        "toc=time.time()\n",
        "test_time=toc-tic\n",
        "print(\"Training Time = {} s\".format(np.round(training_time, 1)))\n",
        "print(\"Testing Time = {} ms\".format(np.round(test_time*1000, 1)))\n",
        "print('Test Loss = {:.2f} %:'.format(np.round(test_loss, 3)*100))\n",
        "print('Test Accuracy = {:.2f} %:'.format(np.round(test_acc, 3)*100))"
      ]
    }
  ],
  "metadata": {
    "accelerator": "GPU",
    "colab": {
      "provenance": []
    },
    "gpuClass": "standard",
    "kernelspec": {
      "display_name": "Python 3",
      "language": "python",
      "name": "python3"
    },
    "language_info": {
      "codemirror_mode": {
        "name": "ipython",
        "version": 3
      },
      "file_extension": ".py",
      "mimetype": "text/x-python",
      "name": "python",
      "nbconvert_exporter": "python",
      "pygments_lexer": "ipython3",
      "version": "3.10.6"
    },
    "orig_nbformat": 4
  },
  "nbformat": 4,
  "nbformat_minor": 0
}
