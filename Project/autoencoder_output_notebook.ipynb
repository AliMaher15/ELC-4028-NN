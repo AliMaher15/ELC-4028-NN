{
  "cells": [
    {
      "cell_type": "markdown",
      "metadata": {
        "id": "xr0pMIcD1RAw"
      },
      "source": [
        "# 1. Import Libraries and Set Directory\n",
        "---"
      ]
    },
    {
      "cell_type": "markdown",
      "metadata": {
        "id": "ITaSzDbZvD_3"
      },
      "source": [
        "Import Libraries"
      ]
    },
    {
      "cell_type": "code",
      "execution_count": 10,
      "metadata": {
        "id": "xagm99P8BsB6"
      },
      "outputs": [],
      "source": [
        "is_drive = 0"
      ]
    },
    {
      "cell_type": "code",
      "execution_count": 11,
      "metadata": {
        "id": "x6NxANuJ1RA0"
      },
      "outputs": [],
      "source": [
        "if is_drive==1 :\n",
        "    from google.colab import drive\n",
        "    drive.mount('/content/drive')"
      ]
    },
    {
      "cell_type": "code",
      "execution_count": 12,
      "metadata": {
        "id": "6jlUf8k3vD_6"
      },
      "outputs": [],
      "source": [
        "# directory management\n",
        "import os\n",
        "from glob import glob\n",
        "# regular imports\n",
        "import pandas as pd\n",
        "import numpy as np\n",
        "from matplotlib import pyplot as plt\n",
        "import seaborn as sns\n",
        "# audio analysis\n",
        "import librosa \n",
        "import librosa.display\n",
        "import IPython.display as ipd\n",
        "# imports for colors and plots\n",
        "from itertools import cycle\n",
        "sns.set_theme(style=\"white\", palette=None)\n",
        "color_pal = plt.rcParams[\"axes.prop_cycle\"].by_key()[\"color\"]\n",
        "color_cycle = cycle(plt.rcParams[\"axes.prop_cycle\"].by_key()[\"color\"])\n",
        "# imports for NN\n",
        "import tensorflow as tf\n",
        "from tensorflow import keras\n",
        "import time"
      ]
    },
    {
      "attachments": {},
      "cell_type": "markdown",
      "metadata": {
        "id": "XB2OwBWH1RA5"
      },
      "source": [
        "# 3. Load Dataset and Model\n",
        "---"
      ]
    },
    {
      "cell_type": "code",
      "execution_count": 20,
      "metadata": {
        "id": "1f14-Y5NBklQ"
      },
      "outputs": [],
      "source": [
        "# Spectogram Path\n",
        "if is_drive==1 :   \n",
        "    TRAIN_DIR = \"/content/drive/MyDrive/spectogram-dataset/Train/\"\n",
        "    TEST_DIR = \"/content/drive/MyDrive/spectogram-dataset/Test/\"\n",
        "    SPECTROGRAMS_SAVE_DIR = \"/content/drive/MyDrive/autoencoder-generations/Test/\"\n",
        "else :\n",
        "    TRAIN_DIR = \"../Project/spectogram-dataset/Train/\"\n",
        "    TEST_DIR = \"../Project/spectogram-dataset/Test/\"\n",
        "    SPECTROGRAMS_SAVE_DIR = \"../Project/autoencoder-generations/Test/\""
      ]
    },
    {
      "cell_type": "code",
      "execution_count": 21,
      "metadata": {
        "id": "-qUmHgZk1RA5"
      },
      "outputs": [],
      "source": [
        "def load_fsdd(train_spectrograms_path,test_spectrograms_path):\n",
        "    x_train = []\n",
        "    for root, _, file_names in os.walk(train_spectrograms_path):\n",
        "        for file_name in file_names:\n",
        "            train_file_path = os.path.join(root, file_name)\n",
        "            spectrogram = np.load(train_file_path) # (n_bins, n_frames)\n",
        "            x_train.append(spectrogram)\n",
        "    x_train = np.array(x_train)        # -> (n_samples, n_bins, n_frames)\n",
        "    x_train = x_train[..., np.newaxis] # -> (1200, 800, 32, 1)\n",
        "\n",
        "    x_test  = []\n",
        "    for root, _, file_names in os.walk(test_spectrograms_path):\n",
        "        for file_name in file_names:\n",
        "            test_file_path = os.path.join(root, file_name)\n",
        "            spectrogram = np.load(test_file_path) # (n_bins, n_frames)\n",
        "            x_test.append(spectrogram)\n",
        "    x_test = np.array(x_test)        # -> (n_samples, n_bins, n_frames)\n",
        "    x_test = x_test[..., np.newaxis] # -> (300, 800, 32, 1)\n",
        "\n",
        "    return x_train,x_test,train_file_path,test_file_path"
      ]
    },
    {
      "cell_type": "code",
      "execution_count": 22,
      "metadata": {
        "id": "iKKWiuGDBklT"
      },
      "outputs": [],
      "source": [
        "_, x_test, _, test_file_path = load_fsdd(TRAIN_DIR, TEST_DIR)"
      ]
    },
    {
      "cell_type": "code",
      "execution_count": null,
      "metadata": {},
      "outputs": [],
      "source": [
        "from autoencoder import Autoencoder\n",
        "from preprocess import Saver"
      ]
    },
    {
      "cell_type": "code",
      "execution_count": null,
      "metadata": {},
      "outputs": [],
      "source": [
        "saver = Saver(SPECTROGRAMS_SAVE_DIR)\n",
        "AE = Autoencoder.load(\"AE-model\")"
      ]
    },
    {
      "cell_type": "code",
      "execution_count": null,
      "metadata": {},
      "outputs": [],
      "source": [
        "generated_spectrograms, latent_representations = AE.reconstruct(x_test)"
      ]
    },
    {
      "cell_type": "code",
      "execution_count": null,
      "metadata": {},
      "outputs": [],
      "source": [
        "fig, ax = plt.subplots(nrows=5, ncols=5)\n",
        "for i in range(4):\n",
        "    img = librosa.display.specshow(generated_spectrograms[i],\n",
        "                                x_axis='time',\n",
        "                                y_axis='log',\n",
        "                                ax=ax[0, i])\n",
        "    ax.set_title('latent_representation', fontsize=20)\n",
        "    fig.colorbar(img, ax=ax, format=f'%0.2f')\n",
        "    img = librosa.display.specshow(latent_representations[i],\n",
        "                                x_axis='time',\n",
        "                                y_axis='log',\n",
        "                                ax=ax[1, i])\n",
        "    ax.set_title('generated_spectrogram', fontsize=20)\n",
        "    fig.colorbar(img, ax=ax, format=f'%0.2f')\n",
        "plt.show()"
      ]
    },
    {
      "cell_type": "code",
      "execution_count": null,
      "metadata": {},
      "outputs": [],
      "source": [
        "saver.save_feature(generated_spectrograms, test_file_path)"
      ]
    }
  ],
  "metadata": {
    "accelerator": "GPU",
    "colab": {
      "provenance": []
    },
    "gpuClass": "standard",
    "kernelspec": {
      "display_name": "Python 3",
      "language": "python",
      "name": "python3"
    },
    "language_info": {
      "codemirror_mode": {
        "name": "ipython",
        "version": 3
      },
      "file_extension": ".py",
      "mimetype": "text/x-python",
      "name": "python",
      "nbconvert_exporter": "python",
      "pygments_lexer": "ipython3",
      "version": "3.10.6"
    },
    "orig_nbformat": 4
  },
  "nbformat": 4,
  "nbformat_minor": 0
}
