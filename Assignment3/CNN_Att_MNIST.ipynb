{
  "cells": [
    {
      "cell_type": "markdown",
      "metadata": {
        "id": "ITaSzDbZvD_3"
      },
      "source": [
        "Import Libraries"
      ]
    },
    {
      "cell_type": "code",
      "execution_count": null,
      "metadata": {
        "id": "6jlUf8k3vD_6"
      },
      "outputs": [],
      "source": [
        "import tensorflow as tf\n",
        "import matplotlib.pyplot as plt\n",
        "from tensorflow import keras\n",
        "from keras import layers\n",
        "from keras.datasets import mnist\n",
        "from keras.models import Sequential\n",
        "from keras.layers import Dense,Dropout,Flatten, RepeatVector\n",
        "from keras.layers import Conv2D,MaxPool2D, Activation, Permute\n",
        "from keras import backend as k"
      ]
    },
    {
      "attachments": {},
      "cell_type": "markdown",
      "metadata": {
        "id": "WB9bSgGvvD_9"
      },
      "source": [
        "Variables:\n",
        "batch: the process of splitting the training dataset in n batches (mini-batches),\n",
        "classes: number of classifications (labels) of the data,\n",
        "epochs: variations, one epoch is one forward pass + one backward pass on training"
      ]
    },
    {
      "cell_type": "code",
      "execution_count": null,
      "metadata": {
        "id": "xkOeJPRnvD_9"
      },
      "outputs": [],
      "source": [
        "batch_size = 128\n",
        "num_classes = 10\n",
        "epochs = 4"
      ]
    },
    {
      "cell_type": "markdown",
      "metadata": {
        "id": "J3liWIk8vD_-"
      },
      "source": [
        "Assign training and test data"
      ]
    },
    {
      "cell_type": "code",
      "execution_count": null,
      "metadata": {
        "id": "z3iDkeOvvD__"
      },
      "outputs": [],
      "source": [
        "img_rows, img_cols = 28,28\n",
        "(x_train,y_train),(x_test,y_test) =   mnist.load_data()"
      ]
    },
    {
      "cell_type": "markdown",
      "metadata": {
        "id": "PtALjtjyvD__"
      },
      "source": [
        "Reshape the images"
      ]
    },
    {
      "cell_type": "code",
      "execution_count": null,
      "metadata": {
        "colab": {
          "base_uri": "https://localhost:8080/"
        },
        "id": "1cFLpxMyvEAA",
        "outputId": "01a2db10-e51b-40ee-e614-f9782320574e"
      },
      "outputs": [],
      "source": [
        "if k.image_data_format()=='channels_first':\n",
        "    x_train=x_train.reshape(x_train.shape[0],img_rows,img_cols,1)\n",
        "    x_test=x_test.reshape(x_test.shape[0],img_rows,img_cols,1)\n",
        "else:\n",
        "    x_train=x_train.reshape(x_train.shape[0],img_rows,img_cols,1)\n",
        "    x_test=x_test.reshape(x_test.shape[0],img_rows,img_cols,1)\n",
        "\n",
        "input_shape=(img_rows,img_cols,1)\n",
        "x_train = x_train/255.0\n",
        "x_test=x_test/255.0\n",
        "print('x_train shape:',x_train.shape,'\\nx_test shape:',x_test.shape)"
      ]
    },
    {
      "cell_type": "markdown",
      "metadata": {
        "id": "sTYB1sIFvEAE"
      },
      "source": [
        "Convert class vectors to binary class matrices"
      ]
    },
    {
      "cell_type": "code",
      "execution_count": null,
      "metadata": {
        "id": "TAYZ_TrEvEAF"
      },
      "outputs": [],
      "source": [
        "y_train=keras.utils.to_categorical(y_train,num_classes)\n",
        "y_test=keras.utils.to_categorical(y_test,num_classes)"
      ]
    },
    {
      "cell_type": "markdown",
      "metadata": {
        "id": "8zGyNu1XvEAG"
      },
      "source": [
        "Design the CNN architecture"
      ]
    },
    {
      "cell_type": "code",
      "execution_count": null,
      "metadata": {
        "colab": {
          "base_uri": "https://localhost:8080/"
        },
        "id": "dgaH6t_XvEAG",
        "outputId": "40a46f13-f7f1-49cd-e940-523f6b25dc24"
      },
      "outputs": [],
      "source": [
        "model=Sequential()\n",
        "\n",
        "model.add( Conv2D(32,kernel_size=(3,3),activation='relu',input_shape=input_shape) )\n",
        "model.add( MaxPool2D(pool_size=(2,2)) )\n",
        "model.add( Conv2D(64,kernel_size=(3,3),activation='relu') )\n",
        "model.add( MaxPool2D(pool_size=(2,2)) )\n",
        "model.add( Conv2D(64,kernel_size=(3,3),activation='relu') )\n",
        "#Attention\n",
        "model.add( Dense(1, activation='tanh'))\n",
        "model.add( Flatten() )\n",
        "model.add( Activation('softmax'))\n",
        "#model.add( RepeatVector(3))\n",
        "#model.add( Permute([2,1]))\n",
        "##########\n",
        "model.add( Flatten() )\n",
        "model.add( Dense(32,activation='relu') )\n",
        "model.add( Dense(num_classes,activation='softmax') )\n",
        "model.summary()"
      ]
    },
    {
      "cell_type": "markdown",
      "metadata": {
        "id": "1HR8V-FSvEAH"
      },
      "source": [
        "Compile the model"
      ]
    },
    {
      "cell_type": "code",
      "execution_count": null,
      "metadata": {
        "colab": {
          "base_uri": "https://localhost:8080/"
        },
        "id": "fil5Jz7zvEAI",
        "outputId": "275fcddb-f5ea-44de-d8df-0eebcc9e456c"
      },
      "outputs": [],
      "source": [
        "model.compile(optimizer=keras.optimizers.Adam(),\n",
        "              loss=keras.losses.categorical_crossentropy,\n",
        "              metrics=['accuracy']\n",
        "             )\n",
        "model.fit(x_train,y_train,\n",
        "          batch_size=batch_size,\n",
        "          epochs=epochs,\n",
        "          verbose=1,\n",
        "          validation_data=(x_test,y_test)\n",
        "          )"
      ]
    },
    {
      "cell_type": "markdown",
      "metadata": {
        "id": "s4Ke4ojU5ONy"
      },
      "source": [
        "Save the Model"
      ]
    },
    {
      "cell_type": "code",
      "execution_count": null,
      "metadata": {
        "colab": {
          "base_uri": "https://localhost:8080/"
        },
        "id": "VkjTm32o5Nsq",
        "outputId": "30692738-5932-4125-fdd5-42bd35472fd2"
      },
      "outputs": [],
      "source": [
        "#model.save('AttCNNmodel.h5')\n",
        "#print(\"model is saved\")"
      ]
    }
  ],
  "metadata": {
    "accelerator": "GPU",
    "colab": {
      "provenance": []
    },
    "gpuClass": "standard",
    "kernelspec": {
      "display_name": "Python 3",
      "language": "python",
      "name": "python3"
    },
    "language_info": {
      "codemirror_mode": {
        "name": "ipython",
        "version": 3
      },
      "file_extension": ".py",
      "mimetype": "text/x-python",
      "name": "python",
      "nbconvert_exporter": "python",
      "pygments_lexer": "ipython3",
      "version": "3.10.6"
    },
    "orig_nbformat": 4
  },
  "nbformat": 4,
  "nbformat_minor": 0
}
