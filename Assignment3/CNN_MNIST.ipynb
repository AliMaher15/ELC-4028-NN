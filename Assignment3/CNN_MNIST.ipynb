{
  "cells": [
    {
      "cell_type": "markdown",
      "metadata": {
        "id": "ITaSzDbZvD_3"
      },
      "source": [
        "Import Libraries"
      ]
    },
    {
      "cell_type": "code",
      "execution_count": 2,
      "metadata": {
        "id": "6jlUf8k3vD_6"
      },
      "outputs": [],
      "source": [
        "import tensorflow as tf\n",
        "import tensorflow.experimental.numpy as tnp\n",
        "import matplotlib.pyplot as plt\n",
        "from tensorflow import keras\n",
        "from __future__ import print_function\n",
        "from keras.datasets import mnist\n",
        "from keras.models import Sequential\n",
        "from keras.layers import Dense,Dropout,Flatten\n",
        "from keras.layers import Conv2D,MaxPool2D\n",
        "from keras import backend as k"
      ]
    },
    {
      "cell_type": "markdown",
      "metadata": {
        "id": "WB9bSgGvvD_9"
      },
      "source": [
        "Variables:\n",
        "batch: the process of splitting the training dataset in n batches (mini-batches)\n",
        "classes: number of classifications (labels) of the data\n",
        "epochs: variations, one epoch is one forward pass + one backward pass on training"
      ]
    },
    {
      "cell_type": "code",
      "execution_count": 3,
      "metadata": {
        "id": "xkOeJPRnvD_9"
      },
      "outputs": [],
      "source": [
        "batch_size = 128\n",
        "num_classes = 10\n",
        "epochs = 12"
      ]
    },
    {
      "cell_type": "markdown",
      "metadata": {
        "id": "J3liWIk8vD_-"
      },
      "source": [
        "Assign training and test data"
      ]
    },
    {
      "cell_type": "code",
      "execution_count": 4,
      "metadata": {
        "id": "z3iDkeOvvD__",
        "outputId": "36b249b7-8692-493f-88cc-3f225ac54392",
        "colab": {
          "base_uri": "https://localhost:8080/"
        }
      },
      "outputs": [
        {
          "output_type": "stream",
          "name": "stdout",
          "text": [
            "Downloading data from https://storage.googleapis.com/tensorflow/tf-keras-datasets/mnist.npz\n",
            "11490434/11490434 [==============================] - 0s 0us/step\n"
          ]
        }
      ],
      "source": [
        "img_rows, img_cols = 28,28\n",
        "(x_train,y_train),(x_test,y_test) =   mnist.load_data()"
      ]
    },
    {
      "cell_type": "markdown",
      "metadata": {
        "id": "PtALjtjyvD__"
      },
      "source": [
        "Reshape the images"
      ]
    },
    {
      "cell_type": "code",
      "execution_count": 5,
      "metadata": {
        "id": "1cFLpxMyvEAA",
        "outputId": "a8f1642f-10cd-4121-aa3e-684501f6a59d",
        "colab": {
          "base_uri": "https://localhost:8080/"
        }
      },
      "outputs": [
        {
          "output_type": "stream",
          "name": "stdout",
          "text": [
            "x_train shape: (60000, 28, 28, 1) \n",
            "x_test shape: (10000, 28, 28, 1)\n"
          ]
        }
      ],
      "source": [
        "if k.image_data_format()=='channels_first':\n",
        "    x_train=x_train.reshape(x_train.shape[0],img_rows,img_cols,1)\n",
        "    x_test=x_test.reshape(x_test.shape[0],img_rows,img_cols,1)\n",
        "else:\n",
        "    x_train=x_train.reshape(x_train.shape[0],img_rows,img_cols,1)\n",
        "    x_test=x_test.reshape(x_test.shape[0],img_rows,img_cols,1)\n",
        "\n",
        "input_shape=(img_rows,img_cols,1)\n",
        "x_train = x_train/255.0\n",
        "x_test=x_test/255.0\n",
        "print('x_train shape:',x_train.shape,'\\nx_test shape:',x_test.shape)"
      ]
    },
    {
      "cell_type": "markdown",
      "metadata": {
        "id": "sTYB1sIFvEAE"
      },
      "source": [
        "Convert class vectors to binary class matrices"
      ]
    },
    {
      "cell_type": "code",
      "execution_count": 6,
      "metadata": {
        "id": "TAYZ_TrEvEAF"
      },
      "outputs": [],
      "source": [
        "y_train=keras.utils.to_categorical(y_train,num_classes)\n",
        "y_test=keras.utils.to_categorical(y_test,num_classes)"
      ]
    },
    {
      "cell_type": "markdown",
      "metadata": {
        "id": "8zGyNu1XvEAG"
      },
      "source": [
        "Design the CNN architecture"
      ]
    },
    {
      "cell_type": "code",
      "execution_count": 7,
      "metadata": {
        "id": "dgaH6t_XvEAG",
        "outputId": "802f9c9b-71af-4838-89f0-d3db3f982241",
        "colab": {
          "base_uri": "https://localhost:8080/"
        }
      },
      "outputs": [
        {
          "output_type": "stream",
          "name": "stdout",
          "text": [
            "Model: \"sequential\"\n",
            "_________________________________________________________________\n",
            " Layer (type)                Output Shape              Param #   \n",
            "=================================================================\n",
            " conv2d (Conv2D)             (None, 26, 26, 32)        320       \n",
            "                                                                 \n",
            " conv2d_1 (Conv2D)           (None, 24, 24, 64)        18496     \n",
            "                                                                 \n",
            " max_pooling2d (MaxPooling2D  (None, 12, 12, 64)       0         \n",
            " )                                                               \n",
            "                                                                 \n",
            " flatten (Flatten)           (None, 9216)              0         \n",
            "                                                                 \n",
            " dense (Dense)               (None, 128)               1179776   \n",
            "                                                                 \n",
            " dense_1 (Dense)             (None, 10)                1290      \n",
            "                                                                 \n",
            "=================================================================\n",
            "Total params: 1,199,882\n",
            "Trainable params: 1,199,882\n",
            "Non-trainable params: 0\n",
            "_________________________________________________________________\n"
          ]
        }
      ],
      "source": [
        "model=Sequential()\n",
        "\n",
        "model.add( Conv2D(32,kernel_size=(3,3),activation='relu',input_shape=input_shape) )\n",
        "#model.add(MaxPool2D(pool_size=(2,2)))\n",
        "model.add( Conv2D(64,kernel_size=(3,3),activation='relu') )\n",
        "model.add( MaxPool2D(pool_size=(2,2)) )\n",
        "model.add( Flatten() )\n",
        "model.add( Dense(128,activation='relu') )\n",
        "model.add( Dense(num_classes,activation='softmax') )\n",
        "model.summary()"
      ]
    },
    {
      "cell_type": "markdown",
      "metadata": {
        "id": "1HR8V-FSvEAH"
      },
      "source": [
        "Compile the model"
      ]
    },
    {
      "cell_type": "code",
      "execution_count": 8,
      "metadata": {
        "id": "fil5Jz7zvEAI",
        "outputId": "af050bac-3dc7-4d4d-a3b4-af596a37022d",
        "colab": {
          "base_uri": "https://localhost:8080/"
        }
      },
      "outputs": [
        {
          "output_type": "stream",
          "name": "stdout",
          "text": [
            "Epoch 1/12\n",
            "469/469 [==============================] - 18s 15ms/step - loss: 2.2676 - accuracy: 0.2230 - val_loss: 2.2273 - val_accuracy: 0.3537\n",
            "Epoch 2/12\n",
            "469/469 [==============================] - 7s 15ms/step - loss: 2.1818 - accuracy: 0.4606 - val_loss: 2.1213 - val_accuracy: 0.5615\n",
            "Epoch 3/12\n",
            "469/469 [==============================] - 7s 15ms/step - loss: 2.0457 - accuracy: 0.6311 - val_loss: 1.9422 - val_accuracy: 0.6908\n",
            "Epoch 4/12\n",
            "469/469 [==============================] - 6s 13ms/step - loss: 1.8140 - accuracy: 0.7222 - val_loss: 1.6446 - val_accuracy: 0.7584\n",
            "Epoch 5/12\n",
            "469/469 [==============================] - 6s 13ms/step - loss: 1.4714 - accuracy: 0.7696 - val_loss: 1.2624 - val_accuracy: 0.8006\n",
            "Epoch 6/12\n",
            "469/469 [==============================] - 7s 15ms/step - loss: 1.1118 - accuracy: 0.7983 - val_loss: 0.9383 - val_accuracy: 0.8239\n",
            "Epoch 7/12\n",
            "469/469 [==============================] - 6s 13ms/step - loss: 0.8531 - accuracy: 0.8178 - val_loss: 0.7376 - val_accuracy: 0.8415\n",
            "Epoch 8/12\n",
            "469/469 [==============================] - 5s 11ms/step - loss: 0.6978 - accuracy: 0.8341 - val_loss: 0.6194 - val_accuracy: 0.8564\n",
            "Epoch 9/12\n",
            "469/469 [==============================] - 6s 13ms/step - loss: 0.6032 - accuracy: 0.8478 - val_loss: 0.5455 - val_accuracy: 0.8676\n",
            "Epoch 10/12\n",
            "469/469 [==============================] - 6s 13ms/step - loss: 0.5417 - accuracy: 0.8589 - val_loss: 0.4963 - val_accuracy: 0.8742\n",
            "Epoch 11/12\n",
            "469/469 [==============================] - 6s 13ms/step - loss: 0.4994 - accuracy: 0.8664 - val_loss: 0.4612 - val_accuracy: 0.8821\n",
            "Epoch 12/12\n",
            "469/469 [==============================] - 6s 12ms/step - loss: 0.4684 - accuracy: 0.8732 - val_loss: 0.4352 - val_accuracy: 0.8862\n"
          ]
        },
        {
          "output_type": "execute_result",
          "data": {
            "text/plain": [
              "<keras.callbacks.History at 0x7fe03803bdf0>"
            ]
          },
          "metadata": {},
          "execution_count": 8
        }
      ],
      "source": [
        "model.compile(optimizer=keras.optimizers.Adadelta(),\n",
        "              loss=keras.losses.categorical_crossentropy,\n",
        "              metrics=['accuracy']\n",
        "             )\n",
        "model.fit(x_train,y_train,\n",
        "          batch_size=batch_size,\n",
        "          epochs=epochs,\n",
        "          verbose=1,\n",
        "          validation_data=(x_test,y_test)\n",
        "          )"
      ]
    },
    {
      "cell_type": "markdown",
      "metadata": {
        "id": "1R0JQPwVvEAI"
      },
      "source": [
        "Evaluate the model on test data"
      ]
    },
    {
      "cell_type": "code",
      "execution_count": null,
      "metadata": {
        "id": "iLxUjWtevEAJ"
      },
      "outputs": [],
      "source": [
        "test_loss,test_acc=model.evaluate(x_test,y_test,verbose=2)\n",
        "print('\\nTest accuracy',test_acc*100,'%')"
      ]
    }
  ],
  "metadata": {
    "kernelspec": {
      "display_name": "Python 3",
      "language": "python",
      "name": "python3"
    },
    "language_info": {
      "codemirror_mode": {
        "name": "ipython",
        "version": 3
      },
      "file_extension": ".py",
      "mimetype": "text/x-python",
      "name": "python",
      "nbconvert_exporter": "python",
      "pygments_lexer": "ipython3",
      "version": "3.10.6"
    },
    "orig_nbformat": 4,
    "colab": {
      "provenance": []
    },
    "accelerator": "GPU",
    "gpuClass": "standard"
  },
  "nbformat": 4,
  "nbformat_minor": 0
}