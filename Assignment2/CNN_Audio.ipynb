{
  "cells": [
    {
      "cell_type": "markdown",
      "metadata": {
        "id": "ITaSzDbZvD_3"
      },
      "source": [
        "Import Libraries"
      ]
    },
    {
      "cell_type": "code",
      "execution_count": 73,
      "metadata": {
        "id": "6jlUf8k3vD_6",
        "colab": {
          "base_uri": "https://localhost:8080/"
        },
        "outputId": "bacbcbc9-f8eb-45dc-d7cc-183685c053cf"
      },
      "outputs": [
        {
          "output_type": "stream",
          "name": "stdout",
          "text": [
            "Looking in indexes: https://pypi.org/simple, https://us-python.pkg.dev/colab-wheels/public/simple/\n",
            "Requirement already satisfied: tensorflow_io in /usr/local/lib/python3.9/dist-packages (0.32.0)\n",
            "Requirement already satisfied: tensorflow-io-gcs-filesystem==0.32.0 in /usr/local/lib/python3.9/dist-packages (from tensorflow_io) (0.32.0)\n"
          ]
        }
      ],
      "source": [
        "import os\n",
        "from matplotlib import pyplot as plt\n",
        "import tensorflow as tf \n",
        "!pip install tensorflow_io\n",
        "import tensorflow_io as tfio\n",
        "from tensorflow import keras\n",
        "from keras import backend as k\n",
        "import cv2\n",
        "import numpy as np\n",
        "import random\n",
        "from sklearn.utils import shuffle\n",
        "from scipy.fftpack import dct ,idct\n",
        "import sklearn\n",
        "from sklearn.decomposition import PCA, FastICA\n",
        "from sklearn.metrics import accuracy_score\n",
        "from keras.models import Sequential\n",
        "from keras.layers import Dense, Flatten, InputLayer, Dropout, Conv2D, AveragePooling2D,MaxPool2D\n",
        "import time\n",
        "from tensorflow.keras.callbacks import EarlyStopping\n"
      ]
    },
    {
      "cell_type": "code",
      "source": [
        "from google.colab import drive\n",
        "drive.mount('/content/drive')"
      ],
      "metadata": {
        "colab": {
          "base_uri": "https://localhost:8080/"
        },
        "id": "6hEzCd6_ySzn",
        "outputId": "317fdbd1-0e82-4137-9464-60a76bcd2e3c"
      },
      "execution_count": 74,
      "outputs": [
        {
          "output_type": "stream",
          "name": "stdout",
          "text": [
            "Drive already mounted at /content/drive; to attempt to forcibly remount, call drive.mount(\"/content/drive\", force_remount=True).\n"
          ]
        }
      ]
    },
    {
      "cell_type": "markdown",
      "metadata": {
        "id": "WB9bSgGvvD_9"
      },
      "source": [
        "Variables:\n",
        "batch: the process of splitting the training dataset in n batches (mini-batches),\n",
        "classes: number of classifications (labels) of the data,\n",
        "epochs: variations, one epoch is one forward pass + one backward pass on training"
      ]
    },
    {
      "cell_type": "code",
      "execution_count": 75,
      "metadata": {
        "id": "xkOeJPRnvD_9"
      },
      "outputs": [],
      "source": [
        "#batch_size = 20\n",
        "num_classes = 10\n",
        "epochs = 4"
      ]
    },
    {
      "cell_type": "markdown",
      "metadata": {
        "id": "J3liWIk8vD_-"
      },
      "source": [
        "a function that returns audio in numeric representation"
      ]
    },
    {
      "cell_type": "code",
      "execution_count": 76,
      "metadata": {
        "id": "z3iDkeOvvD__"
      },
      "outputs": [],
      "source": [
        "def load_wav_16k_mono(filename):\n",
        "    # Load encoded wav file\n",
        "    file_contents = tf.io.read_file(filename)\n",
        "    # Decode wav (tensors by channels) \n",
        "    wav, sample_rate = tf.audio.decode_wav(file_contents, desired_channels=1)\n",
        "    # Removes trailing axis\n",
        "    wav = tf.squeeze(wav, axis=-1)\n",
        "    sample_rate = tf.cast(sample_rate, dtype=tf.int64)\n",
        "    # Goes from 44100Hz to 16000hz - amplitude of the audio signal\n",
        "    #wav = tfio.audio.resample(wav, rate_in=sample_rate, rate_out=16000)\n",
        "    return wav"
      ]
    },
    {
      "cell_type": "code",
      "source": [
        "TRAIN_FILE = os.path.join('/content','drive','MyDrive','audio-data','Train','C03n_0.wav')\n",
        "TEST_FILE = os.path.join('/content','drive','MyDrive','audio-data','Test','C04n_2.wav')\n",
        "\n",
        "wave = load_wav_16k_mono(TRAIN_FILE)\n",
        "nwave = load_wav_16k_mono(TEST_FILE)\n",
        "plt.plot(wave)\n",
        "plt.plot(nwave)\n",
        "plt.show()"
      ],
      "metadata": {
        "id": "Vt-GO7st2JNV",
        "colab": {
          "base_uri": "https://localhost:8080/",
          "height": 430
        },
        "outputId": "b4d808f8-ea43-4f38-8ec1-4e4259246917"
      },
      "execution_count": 77,
      "outputs": [
        {
          "output_type": "display_data",
          "data": {
            "text/plain": [
              "<Figure size 640x480 with 1 Axes>"
            ],
            "image/png": "[encoded data removed]"
          },
          "metadata": {}
        }
      ]
    },
    {
      "cell_type": "markdown",
      "metadata": {
        "id": "PtALjtjyvD__"
      },
      "source": [
        "Check a sample of audio"
      ]
    },
    {
      "cell_type": "code",
      "execution_count": 78,
      "metadata": {
        "id": "TAYZ_TrEvEAF"
      },
      "outputs": [],
      "source": [
        "TRAIN = os.path.join('/content','drive','MyDrive','audio-data', 'Train')\n",
        "TEST = os.path.join('/content','drive','MyDrive','audio-data', 'Test')"
      ]
    },
    {
      "cell_type": "markdown",
      "metadata": {
        "id": "Lo_Xnnmpv3ar"
      },
      "source": [
        "Read all audio files and sort"
      ]
    },
    {
      "cell_type": "code",
      "execution_count": 79,
      "metadata": {
        "id": "5Cy51A-Pv3as"
      },
      "outputs": [],
      "source": [
        "train = tf.data.Dataset.list_files(TRAIN+'/*.wav')\n",
        "train = sorted(list(train.as_numpy_iterator()))\n",
        "train = tf.data.Dataset.from_tensor_slices(train)\n",
        "test = tf.data.Dataset.list_files(TEST+'/*.wav')\n",
        "test = sorted(list(test.as_numpy_iterator()))\n",
        "test = tf.data.Dataset.from_tensor_slices(test)"
      ]
    },
    {
      "cell_type": "markdown",
      "metadata": {
        "id": "-JvIzCT5v3at"
      },
      "source": [
        "Add Labels"
      ]
    },
    {
      "cell_type": "code",
      "execution_count": 80,
      "metadata": {
        "id": "czBjmRMUv3at"
      },
      "outputs": [],
      "source": [
        "iterations = 0\n",
        "i = 0\n",
        "train_label = []\n",
        "while iterations!=len(train):\n",
        "    iterations +=1\n",
        "    train_label.append(i)\n",
        "    i += 1\n",
        "    if i == 10 :\n",
        "        i = 0\n",
        "train_label=keras.utils.to_categorical(train_label,num_classes)\n",
        "trainings = tf.data.Dataset.zip((train, tf.data.Dataset.from_tensor_slices(train_label)))\n",
        "#---------------------------------------------------------------#\n",
        "iterations = 0\n",
        "i = 0\n",
        "test_label=[]\n",
        "while iterations!=len(test):\n",
        "    iterations +=1\n",
        "    test_label.append(i)\n",
        "    i += 1\n",
        "    if i == 10 :\n",
        "        i = 0\n",
        "test_label=keras.utils.to_categorical(test_label,num_classes)\n",
        "testings = tf.data.Dataset.zip((test, tf.data.Dataset.from_tensor_slices(test_label)))"
      ]
    },
    {
      "cell_type": "markdown",
      "metadata": {
        "id": "0bIjeqVvv3av"
      },
      "source": [
        "Build Preprocessing Function to get spectogram"
      ]
    },
    {
      "cell_type": "code",
      "execution_count": 81,
      "metadata": {
        "id": "LPISHVbBv3aw"
      },
      "outputs": [],
      "source": [
        "def preprocess(file_path, label): \n",
        "    wav = load_wav_16k_mono(file_path)\n",
        "    #wav = wav[:48000]\n",
        "    #zero_padding = tf.zeros([48000] - tf.shape(wav), dtype=tf.float32)\n",
        "    #wav = tf.concat([zero_padding, wav],0)\n",
        "    spectrogram = tf.signal.stft(wav, frame_length=320, frame_step=32)\n",
        "    spectrogram = tf.abs(spectrogram)\n",
        "    spectrogram = tf.expand_dims(spectrogram, axis=2)\n",
        "    return spectrogram, label"
      ]
    },
    {
      "cell_type": "markdown",
      "metadata": {
        "id": "zOPV-Nyxv3ax"
      },
      "source": [
        "Draw examples of spectogram"
      ]
    },
    {
      "cell_type": "code",
      "execution_count": 82,
      "metadata": {
        "id": "1xzRDzwuv3ax",
        "outputId": "a0bd7513-5b09-4682-fac8-2c90b00458e0",
        "colab": {
          "base_uri": "https://localhost:8080/",
          "height": 435
        }
      },
      "outputs": [
        {
          "output_type": "display_data",
          "data": {
            "text/plain": [
              "<Figure size 640x480 with 4 Axes>"
            ],
            "image/png": "[encoded data removed]"
          },
          "metadata": {}
        }
      ],
      "source": [
        "for i in range(4):\n",
        "    filepath, label = trainings.shuffle(buffer_size=10000).as_numpy_iterator().next()\n",
        "    spectrogram, label = preprocess(filepath, label)\n",
        "    plt.subplot(2,2,i+1)\n",
        "    plt.imshow(tf.transpose(spectrogram)[0])\n",
        "    plt.xlabel(label)\n",
        "plt.show()"
      ]
    },
    {
      "cell_type": "markdown",
      "metadata": {
        "id": "LP5Gg7hkv3ay"
      },
      "source": [
        "Convert all to Spectogram"
      ]
    },
    {
      "cell_type": "code",
      "execution_count": 83,
      "metadata": {
        "id": "-IxuUHsvv3az"
      },
      "outputs": [],
      "source": [
        "# train data\n",
        "x_train = trainings.map(preprocess)\n",
        "x_train = x_train.cache()\n",
        "x_train = x_train.shuffle(buffer_size=1000)\n",
        "x_train = x_train.batch(16) # 16 at a time\n",
        "x_train = x_train.prefetch(8)\n",
        "# test data\n",
        "x_test = testings.map(preprocess)\n",
        "x_test = x_test.cache()\n",
        "x_test = x_test.shuffle(buffer_size=1000)\n",
        "x_test = x_test.batch(16) # 16 at a time\n",
        "x_test = x_test.prefetch(8)"
      ]
    },
    {
      "cell_type": "code",
      "execution_count": 84,
      "metadata": {
        "id": "T-GzLQodv3az",
        "outputId": "d0611b1d-d4a5-480d-9abb-e1c6de7e7bc6",
        "colab": {
          "base_uri": "https://localhost:8080/"
        }
      },
      "outputs": [
        {
          "output_type": "stream",
          "name": "stdout",
          "text": [
            "(16, 391, 257, 1)\n",
            "\n",
            " [[1. 0. 0. 0. 0. 0. 0. 0. 0. 0.]\n",
            " [1. 0. 0. 0. 0. 0. 0. 0. 0. 0.]\n",
            " [0. 0. 0. 0. 0. 0. 0. 0. 0. 1.]\n",
            " [0. 0. 1. 0. 0. 0. 0. 0. 0. 0.]\n",
            " [0. 1. 0. 0. 0. 0. 0. 0. 0. 0.]\n",
            " [0. 0. 0. 1. 0. 0. 0. 0. 0. 0.]\n",
            " [0. 0. 0. 0. 0. 0. 0. 1. 0. 0.]\n",
            " [0. 0. 0. 0. 0. 0. 1. 0. 0. 0.]\n",
            " [0. 1. 0. 0. 0. 0. 0. 0. 0. 0.]\n",
            " [0. 0. 0. 1. 0. 0. 0. 0. 0. 0.]\n",
            " [1. 0. 0. 0. 0. 0. 0. 0. 0. 0.]\n",
            " [0. 0. 0. 1. 0. 0. 0. 0. 0. 0.]\n",
            " [0. 0. 1. 0. 0. 0. 0. 0. 0. 0.]\n",
            " [0. 0. 0. 0. 0. 0. 0. 0. 1. 0.]\n",
            " [0. 0. 0. 0. 0. 1. 0. 0. 0. 0.]\n",
            " [0. 0. 0. 0. 1. 0. 0. 0. 0. 0.]]\n"
          ]
        }
      ],
      "source": [
        "# test one batch\n",
        "samples, labels = x_train.as_numpy_iterator().next()\n",
        "print(samples.shape)\n",
        "print('\\n',labels)"
      ]
    },
    {
      "cell_type": "markdown",
      "metadata": {
        "id": "8zGyNu1XvEAG"
      },
      "source": [
        "Design the CNN architecture"
      ]
    },
    {
      "cell_type": "markdown",
      "source": [
        "the 1st model"
      ],
      "metadata": {
        "id": "NRQd2j4eRNYi"
      }
    },
    {
      "cell_type": "code",
      "execution_count": 85,
      "metadata": {
        "id": "dgaH6t_XvEAG",
        "colab": {
          "base_uri": "https://localhost:8080/"
        },
        "outputId": "6e2063e8-1e16-4c22-8a2f-12b1db4a61c8"
      },
      "outputs": [
        {
          "output_type": "stream",
          "name": "stdout",
          "text": [
            "Model: \"sequential_12\"\n",
            "_________________________________________________________________\n",
            " Layer (type)                Output Shape              Param #   \n",
            "=================================================================\n",
            " conv2d_24 (Conv2D)          (None, 387, 253, 6)       156       \n",
            "                                                                 \n",
            " average_pooling2d_24 (Avera  (None, 193, 126, 6)      0         \n",
            " gePooling2D)                                                    \n",
            "                                                                 \n",
            " conv2d_25 (Conv2D)          (None, 189, 122, 16)      2416      \n",
            "                                                                 \n",
            " average_pooling2d_25 (Avera  (None, 94, 61, 16)       0         \n",
            " gePooling2D)                                                    \n",
            "                                                                 \n",
            " flatten_12 (Flatten)        (None, 91744)             0         \n",
            "                                                                 \n",
            " dense_36 (Dense)            (None, 120)               11009400  \n",
            "                                                                 \n",
            " dense_37 (Dense)            (None, 84)                10164     \n",
            "                                                                 \n",
            " dense_38 (Dense)            (None, 10)                850       \n",
            "                                                                 \n",
            "=================================================================\n",
            "Total params: 11,022,986\n",
            "Trainable params: 11,022,986\n",
            "Non-trainable params: 0\n",
            "_________________________________________________________________\n"
          ]
        }
      ],
      "source": [
        "model1 = Sequential()\n",
        "\n",
        "# Convolutional layer 1\n",
        "model1.add(Conv2D(6, (5, 5), activation='relu', input_shape=(391, 257, 1), padding='valid'))\n",
        "\n",
        "# Average pooling layer 1\n",
        "model1.add(AveragePooling2D(pool_size=(2, 2), strides=(2, 2), padding='valid'))\n",
        "\n",
        "# Convolutional layer 2\n",
        "model1.add(Conv2D(16, (5, 5), activation='relu', padding='valid'))\n",
        "\n",
        "# Average pooling layer 2\n",
        "model1.add(AveragePooling2D(pool_size=(2, 2), strides=(2, 2), padding='valid'))\n",
        "\n",
        "# Flatten layer\n",
        "model1.add(Flatten())\n",
        "\n",
        "# Fully connected layer 1\n",
        "model1.add(Dense(120, activation='relu'))\n",
        "\n",
        "# Fully connected layer 2\n",
        "model1.add(Dense(84, activation='relu'))\n",
        "\n",
        "# Output layer\n",
        "model1.add(Dense(10, activation='softmax'))\n",
        "model1.summary() "
      ]
    },
    {
      "cell_type": "code",
      "execution_count": 86,
      "metadata": {
        "id": "dlpX-QSVv3a1",
        "outputId": "b6a2a79d-538a-4e43-dcc1-c1da9733421f",
        "colab": {
          "base_uri": "https://localhost:8080/"
        }
      },
      "outputs": [
        {
          "output_type": "stream",
          "name": "stdout",
          "text": [
            "Epoch 1/80\n",
            "75/75 [==============================] - 18s 27ms/step - loss: 1.3095 - accuracy: 0.6408\n",
            "Epoch 2/80\n",
            "75/75 [==============================] - 2s 23ms/step - loss: 0.4219 - accuracy: 0.8983\n",
            "Epoch 3/80\n",
            "75/75 [==============================] - 2s 21ms/step - loss: 0.1560 - accuracy: 0.9658\n",
            "Epoch 4/80\n",
            "75/75 [==============================] - 2s 21ms/step - loss: 0.1012 - accuracy: 0.9792\n",
            "Epoch 5/80\n",
            "75/75 [==============================] - 1s 18ms/step - loss: 0.0735 - accuracy: 0.9850\n",
            "Epoch 6/80\n",
            "75/75 [==============================] - 1s 18ms/step - loss: 0.1282 - accuracy: 0.9808\n",
            "Epoch 7/80\n",
            "75/75 [==============================] - 1s 18ms/step - loss: 0.1137 - accuracy: 0.9792\n",
            "Epoch 8/80\n",
            "75/75 [==============================] - 1s 16ms/step - loss: 0.0534 - accuracy: 0.9950\n",
            "Epoch 9/80\n",
            "75/75 [==============================] - 1s 16ms/step - loss: 0.0187 - accuracy: 0.9967\n",
            "Epoch 10/80\n",
            "75/75 [==============================] - 1s 16ms/step - loss: 0.0024 - accuracy: 1.0000\n",
            "Epoch 11/80\n",
            "75/75 [==============================] - 1s 16ms/step - loss: 0.0011 - accuracy: 1.0000\n",
            "Epoch 12/80\n",
            "75/75 [==============================] - 1s 16ms/step - loss: 7.9277e-04 - accuracy: 1.0000\n",
            "Epoch 13/80\n",
            "75/75 [==============================] - 1s 16ms/step - loss: 5.9054e-04 - accuracy: 1.0000\n",
            "Epoch 14/80\n",
            "75/75 [==============================] - 1s 16ms/step - loss: 4.7252e-04 - accuracy: 1.0000\n",
            "Epoch 15/80\n",
            "75/75 [==============================] - 1s 17ms/step - loss: 3.8069e-04 - accuracy: 1.0000\n"
          ]
        }
      ],
      "source": [
        "#Early Stopping to avoid fitting issues\n",
        "early_stopping = EarlyStopping(monitor='accuracy', patience=5)\n",
        "\n",
        "model1.compile(loss = keras.losses.CategoricalCrossentropy(), optimizer='adam', metrics=['accuracy'])\n",
        "\n",
        "# Train the model\n",
        "tic=time.time()\n",
        "model1.fit(x_train, epochs=80, callbacks=[early_stopping])\n",
        "toc=time.time()\n",
        "training_time=toc-tic"
      ]
    },
    {
      "cell_type": "code",
      "source": [
        "# Evaluate the model on the test data\n",
        "tic=time.time()\n",
        "test_loss, test_acc = model1.evaluate(x_test)\n",
        "toc=time.time()\n",
        "test_time=toc-tic\n",
        "\n",
        "\n",
        "print(\"----- #1 - orignal model-----\\n\")\n",
        "print(\"Training Time = {} s\".format(np.round(training_time, 1)))\n",
        "print(\"Testing Time = {} ms\".format(np.round(test_time*1000, 1)))\n",
        "print('Test Accuracy = {:.2f} %:'.format(np.round(test_acc, 3)*100))"
      ],
      "metadata": {
        "colab": {
          "base_uri": "https://localhost:8080/"
        },
        "id": "dxF0jDe6TmKE",
        "outputId": "4cb39551-27e1-4a1b-a3ec-6be0460b1fb0"
      },
      "execution_count": 87,
      "outputs": [
        {
          "output_type": "stream",
          "name": "stdout",
          "text": [
            "19/19 [==============================] - 4s 9ms/step - loss: 2.2276 - accuracy: 0.8567\n",
            "----- #1 - orignal model-----\n",
            "\n",
            "Training Time = 38.5 s\n",
            "Testing Time = 3582.1 ms\n",
            "Test Accuracy = 85.70 %:\n"
          ]
        }
      ]
    },
    {
      "cell_type": "markdown",
      "source": [
        "the 2nd model"
      ],
      "metadata": {
        "id": "SsI8YiOSTreK"
      }
    },
    {
      "cell_type": "code",
      "source": [
        "\n",
        "model2 = Sequential()\n",
        "\n",
        "# Convolutional layer 1\n",
        "model2.add(Conv2D(6, (5, 5), activation='relu', input_shape=(391, 257, 1), padding='valid'))\n",
        "\n",
        "#dropout regularization\n",
        "model2.add(Dropout(0.2))\n",
        "\n",
        "# Average pooling layer 1\n",
        "model2.add(AveragePooling2D(pool_size=(2, 2), strides=(2, 2), padding='valid'))\n",
        "\n",
        "# Convolutional layer 2\n",
        "model2.add(Conv2D(16, (5, 5), activation='relu', padding='valid'))\n",
        "\n",
        "model2.add(Dropout(0.2))\n",
        "\n",
        "# Average pooling layer 2\n",
        "model2.add(AveragePooling2D(pool_size=(2, 2), strides=(2, 2), padding='valid'))\n",
        "\n",
        "# Flatten layer\n",
        "model2.add(Flatten())\n",
        "\n",
        "# Fully connected layer 1\n",
        "model2.add(Dense(120, activation='relu'))\n",
        "model2.add(Dropout(0.2))\n",
        "\n",
        "# Fully connected layer 2\n",
        "model2.add(Dense(84, activation='relu'))\n",
        "model2.add(Dropout(0.2))\n",
        "\n",
        "# Output layer\n",
        "model2.add(Dense(10, activation='softmax'))\n",
        "\n",
        "model2.summary() \n"
      ],
      "metadata": {
        "colab": {
          "base_uri": "https://localhost:8080/"
        },
        "id": "b3UCaTI_CdNb",
        "outputId": "542440e9-77a8-4361-d5e6-af063264521e"
      },
      "execution_count": 88,
      "outputs": [
        {
          "output_type": "stream",
          "name": "stdout",
          "text": [
            "Model: \"sequential_13\"\n",
            "_________________________________________________________________\n",
            " Layer (type)                Output Shape              Param #   \n",
            "=================================================================\n",
            " conv2d_26 (Conv2D)          (None, 387, 253, 6)       156       \n",
            "                                                                 \n",
            " dropout_12 (Dropout)        (None, 387, 253, 6)       0         \n",
            "                                                                 \n",
            " average_pooling2d_26 (Avera  (None, 193, 126, 6)      0         \n",
            " gePooling2D)                                                    \n",
            "                                                                 \n",
            " conv2d_27 (Conv2D)          (None, 189, 122, 16)      2416      \n",
            "                                                                 \n",
            " dropout_13 (Dropout)        (None, 189, 122, 16)      0         \n",
            "                                                                 \n",
            " average_pooling2d_27 (Avera  (None, 94, 61, 16)       0         \n",
            " gePooling2D)                                                    \n",
            "                                                                 \n",
            " flatten_13 (Flatten)        (None, 91744)             0         \n",
            "                                                                 \n",
            " dense_39 (Dense)            (None, 120)               11009400  \n",
            "                                                                 \n",
            " dropout_14 (Dropout)        (None, 120)               0         \n",
            "                                                                 \n",
            " dense_40 (Dense)            (None, 84)                10164     \n",
            "                                                                 \n",
            " dropout_15 (Dropout)        (None, 84)                0         \n",
            "                                                                 \n",
            " dense_41 (Dense)            (None, 10)                850       \n",
            "                                                                 \n",
            "=================================================================\n",
            "Total params: 11,022,986\n",
            "Trainable params: 11,022,986\n",
            "Non-trainable params: 0\n",
            "_________________________________________________________________\n"
          ]
        }
      ]
    },
    {
      "cell_type": "code",
      "source": [
        "#Early Stopping to avoid fitting issues\n",
        "early_stopping = EarlyStopping(monitor='accuracy', patience=3)\n",
        "\n",
        "model2.compile(loss= keras.losses.CategoricalCrossentropy(), optimizer='adam', metrics=['accuracy'])\n",
        "\n",
        "# Train the model\n",
        "tic=time.time()\n",
        "model2.fit(x_train, epochs=80, batch_size=32, callbacks=[early_stopping])\n",
        "toc=time.time()\n",
        "training_time=toc-tic"
      ],
      "metadata": {
        "colab": {
          "base_uri": "https://localhost:8080/"
        },
        "id": "D1hFKVOaU_oJ",
        "outputId": "f3709168-99cc-47d0-b277-2228db48a803"
      },
      "execution_count": 89,
      "outputs": [
        {
          "output_type": "stream",
          "name": "stdout",
          "text": [
            "Epoch 1/80\n",
            "75/75 [==============================] - 4s 23ms/step - loss: 1.6791 - accuracy: 0.4958\n",
            "Epoch 2/80\n",
            "75/75 [==============================] - 2s 21ms/step - loss: 0.7131 - accuracy: 0.7817\n",
            "Epoch 3/80\n",
            "75/75 [==============================] - 2s 22ms/step - loss: 0.5013 - accuracy: 0.8533\n",
            "Epoch 4/80\n",
            "75/75 [==============================] - 2s 21ms/step - loss: 0.3383 - accuracy: 0.9192\n",
            "Epoch 5/80\n",
            "75/75 [==============================] - 2s 23ms/step - loss: 0.2278 - accuracy: 0.9350\n",
            "Epoch 6/80\n",
            "75/75 [==============================] - 2s 23ms/step - loss: 0.2231 - accuracy: 0.9408\n",
            "Epoch 7/80\n",
            "75/75 [==============================] - 2s 21ms/step - loss: 0.1004 - accuracy: 0.9742\n",
            "Epoch 8/80\n",
            "75/75 [==============================] - 2s 21ms/step - loss: 0.0944 - accuracy: 0.9733\n",
            "Epoch 9/80\n",
            "75/75 [==============================] - 2s 21ms/step - loss: 0.1767 - accuracy: 0.9600\n",
            "Epoch 10/80\n",
            "75/75 [==============================] - 2s 21ms/step - loss: 0.0773 - accuracy: 0.9733\n"
          ]
        }
      ]
    },
    {
      "cell_type": "code",
      "source": [
        "# Evaluate the model on the test data\n",
        "tic=time.time()\n",
        "test_loss, test_acc = model2.evaluate(x_test)\n",
        "toc=time.time()\n",
        "test_time=toc-tic\n",
        "\n",
        "\n",
        "print(\"---- #2 the 2nd model-----\\n\")\n",
        "print(\"Training Time = {} s\".format(np.round(training_time, 1)))\n",
        "print(\"Testing Time = {} ms\".format(np.round(test_time*1000, 1)))\n",
        "print('Test Accuracy = {:.2f} %:'.format(np.round(test_acc, 3)*100))\n"
      ],
      "metadata": {
        "colab": {
          "base_uri": "https://localhost:8080/"
        },
        "id": "tuT1Y2z8USpi",
        "outputId": "5c26824a-9a17-4e79-ff85-e4d4df7eac54"
      },
      "execution_count": 90,
      "outputs": [
        {
          "output_type": "stream",
          "name": "stdout",
          "text": [
            "19/19 [==============================] - 0s 7ms/step - loss: 0.7661 - accuracy: 0.8633\n",
            "---- #2 the 2nd model-----\n",
            "\n",
            "Training Time = 20.2 s\n",
            "Testing Time = 281.0 ms\n",
            "Test Accuracy = 86.30 %:\n"
          ]
        }
      ]
    },
    {
      "cell_type": "markdown",
      "source": [
        "the 3rd model"
      ],
      "metadata": {
        "id": "OzK4l5qsVLfd"
      }
    },
    {
      "cell_type": "code",
      "source": [
        "model3 = Sequential()\n",
        "\n",
        "# Convolutional layer 1\n",
        "model3.add(Conv2D(12, (5, 5), activation='relu', input_shape=(391, 257, 1), padding='same'))\n",
        "\n",
        "# Average pooling layer 1\n",
        "model3.add(AveragePooling2D(pool_size=(2, 2), strides=(2, 2), padding='valid'))\n",
        "\n",
        "# Convolutional layer 2\n",
        "model3.add(Conv2D(32, (5, 5), activation='relu', padding='same'))\n",
        "\n",
        "# Average pooling layer 2\n",
        "model3.add(AveragePooling2D(pool_size=(2, 2), strides=(2, 2), padding='valid'))\n",
        "\n",
        "# Flatten layer\n",
        "model3.add(Flatten())\n",
        "\n",
        "# Fully connected layer 1\n",
        "model3.add(Dense(120, activation='relu'))\n",
        "\n",
        "# Fully connected layer 2\n",
        "model3.add(Dense(84, activation='relu'))\n",
        "\n",
        "# Output layer\n",
        "model3.add(Dense(10, activation='softmax'))\n",
        "\n",
        "\n",
        "model3.summary() \n"
      ],
      "metadata": {
        "colab": {
          "base_uri": "https://localhost:8080/"
        },
        "id": "-7BapM9xM5xz",
        "outputId": "af977a06-4a2a-43c9-ef33-089e72561e1b"
      },
      "execution_count": 91,
      "outputs": [
        {
          "output_type": "stream",
          "name": "stdout",
          "text": [
            "Model: \"sequential_14\"\n",
            "_________________________________________________________________\n",
            " Layer (type)                Output Shape              Param #   \n",
            "=================================================================\n",
            " conv2d_28 (Conv2D)          (None, 391, 257, 12)      312       \n",
            "                                                                 \n",
            " average_pooling2d_28 (Avera  (None, 195, 128, 12)     0         \n",
            " gePooling2D)                                                    \n",
            "                                                                 \n",
            " conv2d_29 (Conv2D)          (None, 195, 128, 32)      9632      \n",
            "                                                                 \n",
            " average_pooling2d_29 (Avera  (None, 97, 64, 32)       0         \n",
            " gePooling2D)                                                    \n",
            "                                                                 \n",
            " flatten_14 (Flatten)        (None, 198656)            0         \n",
            "                                                                 \n",
            " dense_42 (Dense)            (None, 120)               23838840  \n",
            "                                                                 \n",
            " dense_43 (Dense)            (None, 84)                10164     \n",
            "                                                                 \n",
            " dense_44 (Dense)            (None, 10)                850       \n",
            "                                                                 \n",
            "=================================================================\n",
            "Total params: 23,859,798\n",
            "Trainable params: 23,859,798\n",
            "Non-trainable params: 0\n",
            "_________________________________________________________________\n"
          ]
        }
      ]
    },
    {
      "cell_type": "code",
      "source": [
        "\n",
        "#Early Stopping to avoid fitting issues\n",
        "early_stopping = EarlyStopping(monitor='accuracy', patience=5)\n",
        "\n",
        "model3.compile(loss=keras.losses.CategoricalCrossentropy(), optimizer='adam', metrics=['accuracy'])\n",
        "\n",
        "\n",
        "# Train the model\n",
        "tic=time.time()\n",
        "model3.fit(x_train, epochs=80, batch_size=32, callbacks=[early_stopping])\n",
        "toc=time.time()\n",
        "training_time=toc-tic\n",
        "\n",
        "\n"
      ],
      "metadata": {
        "colab": {
          "base_uri": "https://localhost:8080/"
        },
        "id": "S0Ceg9eqVa2x",
        "outputId": "87dc590b-b7d0-43f8-a721-7e83278798f6"
      },
      "execution_count": 92,
      "outputs": [
        {
          "output_type": "stream",
          "name": "stdout",
          "text": [
            "Epoch 1/80\n",
            "75/75 [==============================] - 4s 28ms/step - loss: 1.3406 - accuracy: 0.6283\n",
            "Epoch 2/80\n",
            "75/75 [==============================] - 2s 25ms/step - loss: 0.2879 - accuracy: 0.9225\n",
            "Epoch 3/80\n",
            "75/75 [==============================] - 2s 24ms/step - loss: 0.2405 - accuracy: 0.9417\n",
            "Epoch 4/80\n",
            "75/75 [==============================] - 2s 24ms/step - loss: 0.1124 - accuracy: 0.9717\n",
            "Epoch 5/80\n",
            "75/75 [==============================] - 2s 24ms/step - loss: 0.1616 - accuracy: 0.9700\n",
            "Epoch 6/80\n",
            "75/75 [==============================] - 2s 25ms/step - loss: 0.0184 - accuracy: 0.9967\n",
            "Epoch 7/80\n",
            "75/75 [==============================] - 2s 26ms/step - loss: 0.0040 - accuracy: 1.0000\n",
            "Epoch 8/80\n",
            "75/75 [==============================] - 2s 30ms/step - loss: 0.0016 - accuracy: 1.0000\n",
            "Epoch 9/80\n",
            "75/75 [==============================] - 2s 28ms/step - loss: 9.5883e-04 - accuracy: 1.0000\n",
            "Epoch 10/80\n",
            "75/75 [==============================] - 2s 24ms/step - loss: 6.4324e-04 - accuracy: 1.0000\n",
            "Epoch 11/80\n",
            "75/75 [==============================] - 2s 24ms/step - loss: 4.5650e-04 - accuracy: 1.0000\n",
            "Epoch 12/80\n",
            "75/75 [==============================] - 2s 24ms/step - loss: 3.5766e-04 - accuracy: 1.0000\n"
          ]
        }
      ]
    },
    {
      "cell_type": "code",
      "source": [
        "# Evaluate the model on the test data\n",
        "tic=time.time()\n",
        "test_loss, test_acc = model3.evaluate(x_test)\n",
        "toc=time.time()\n",
        "test_time=toc-tic\n",
        "\n",
        "\n",
        "print(\"----- #3 - the 3rd model-----\\n\")\n",
        "print(\"Training Time = {} s\".format(np.round(training_time, 1)))\n",
        "print(\"Testing Time = {} ms\".format(np.round(test_time*1000, 1)))\n",
        "print('Test Accuracy = {:.2f} %:'.format(np.round(test_acc, 3)*100))"
      ],
      "metadata": {
        "colab": {
          "base_uri": "https://localhost:8080/"
        },
        "id": "gGVhq-N1Vfro",
        "outputId": "1ffd31d4-6d7e-4cc0-fea2-1d4c2f0dad63"
      },
      "execution_count": 93,
      "outputs": [
        {
          "output_type": "stream",
          "name": "stdout",
          "text": [
            "19/19 [==============================] - 0s 8ms/step - loss: 1.0015 - accuracy: 0.9100\n",
            "----- #3 - the 3rd model-----\n",
            "\n",
            "Training Time = 27.5 s\n",
            "Testing Time = 439.6 ms\n",
            "Test Accuracy = 91.00 %:\n"
          ]
        }
      ]
    },
    {
      "cell_type": "markdown",
      "source": [
        "the 4th model"
      ],
      "metadata": {
        "id": "zxLUqxXCWEkC"
      }
    },
    {
      "cell_type": "code",
      "source": [
        "\n",
        "model4 = Sequential()\n",
        "\n",
        "# Convolutional layer 1\n",
        "model4.add(Conv2D(12, (5, 5), activation='tanh', input_shape=(391, 257, 1), padding='valid'))\n",
        "\n",
        "# Average pooling layer 1\n",
        "model4.add(AveragePooling2D(pool_size=(2, 2), strides=(2, 2), padding='valid'))\n",
        "\n",
        "# Convolutional layer 2\n",
        "model4.add(Conv2D(32, (5, 5), activation='tanh', padding='valid'))\n",
        "\n",
        "# Average pooling layer 2\n",
        "model4.add(AveragePooling2D(pool_size=(2, 2), strides=(2, 2), padding='valid'))\n",
        "\n",
        "# Flatten layer\n",
        "model4.add(Flatten())\n",
        "\n",
        "# Fully connected layer 1\n",
        "model4.add(Dense(120, activation='tanh'))\n",
        "\n",
        "# Fully connected layer 2\n",
        "model4.add(Dense(84, activation='tanh'))\n",
        "\n",
        "# Output layer\n",
        "model4.add(Dense(10, activation='softmax'))\n",
        "\n",
        "model4.summary() \n",
        "\n"
      ],
      "metadata": {
        "colab": {
          "base_uri": "https://localhost:8080/"
        },
        "id": "sgDPQ-x6PbSS",
        "outputId": "eb34f933-e6b1-474b-998f-dd907eb93837"
      },
      "execution_count": 94,
      "outputs": [
        {
          "output_type": "stream",
          "name": "stdout",
          "text": [
            "Model: \"sequential_15\"\n",
            "_________________________________________________________________\n",
            " Layer (type)                Output Shape              Param #   \n",
            "=================================================================\n",
            " conv2d_30 (Conv2D)          (None, 387, 253, 12)      312       \n",
            "                                                                 \n",
            " average_pooling2d_30 (Avera  (None, 193, 126, 12)     0         \n",
            " gePooling2D)                                                    \n",
            "                                                                 \n",
            " conv2d_31 (Conv2D)          (None, 189, 122, 32)      9632      \n",
            "                                                                 \n",
            " average_pooling2d_31 (Avera  (None, 94, 61, 32)       0         \n",
            " gePooling2D)                                                    \n",
            "                                                                 \n",
            " flatten_15 (Flatten)        (None, 183488)            0         \n",
            "                                                                 \n",
            " dense_45 (Dense)            (None, 120)               22018680  \n",
            "                                                                 \n",
            " dense_46 (Dense)            (None, 84)                10164     \n",
            "                                                                 \n",
            " dense_47 (Dense)            (None, 10)                850       \n",
            "                                                                 \n",
            "=================================================================\n",
            "Total params: 22,039,638\n",
            "Trainable params: 22,039,638\n",
            "Non-trainable params: 0\n",
            "_________________________________________________________________\n"
          ]
        }
      ]
    },
    {
      "cell_type": "code",
      "source": [
        "early_stopping = EarlyStopping(monitor='accuracy', patience=5)\n",
        "\n",
        "model4.compile(loss = keras.losses.CategoricalCrossentropy(), optimizer='adam', metrics=['accuracy'])\n",
        "\n",
        "# Train the model\n",
        "tic=time.time()\n",
        "model4.fit(x_train, epochs=80, batch_size=32, callbacks=[early_stopping])\n",
        "toc=time.time()\n",
        "training_time=toc-tic\n"
      ],
      "metadata": {
        "colab": {
          "base_uri": "https://localhost:8080/"
        },
        "id": "JNr1S7GiV3kD",
        "outputId": "83ca365d-bb7d-464a-8dde-04bab7b9d892"
      },
      "execution_count": 95,
      "outputs": [
        {
          "output_type": "stream",
          "name": "stdout",
          "text": [
            "Epoch 1/80\n",
            "75/75 [==============================] - 5s 27ms/step - loss: 1.2450 - accuracy: 0.6425\n",
            "Epoch 2/80\n",
            "75/75 [==============================] - 2s 26ms/step - loss: 0.2714 - accuracy: 0.9442\n",
            "Epoch 3/80\n",
            "75/75 [==============================] - 2s 26ms/step - loss: 0.0994 - accuracy: 0.9850\n",
            "Epoch 4/80\n",
            "75/75 [==============================] - 2s 26ms/step - loss: 0.0397 - accuracy: 0.9983\n",
            "Epoch 5/80\n",
            "75/75 [==============================] - 2s 26ms/step - loss: 0.0149 - accuracy: 1.0000\n",
            "Epoch 6/80\n",
            "75/75 [==============================] - 2s 27ms/step - loss: 0.0085 - accuracy: 1.0000\n",
            "Epoch 7/80\n",
            "75/75 [==============================] - 2s 28ms/step - loss: 0.0063 - accuracy: 1.0000\n",
            "Epoch 8/80\n",
            "75/75 [==============================] - 2s 26ms/step - loss: 0.0050 - accuracy: 1.0000\n",
            "Epoch 9/80\n",
            "75/75 [==============================] - 2s 26ms/step - loss: 0.0042 - accuracy: 1.0000\n",
            "Epoch 10/80\n",
            "75/75 [==============================] - 2s 26ms/step - loss: 0.0035 - accuracy: 1.0000\n"
          ]
        }
      ]
    },
    {
      "cell_type": "code",
      "source": [
        "\n",
        "# Evaluate the model on the test data\n",
        "tic=time.time()\n",
        "test_loss, test_acc = model4.evaluate(x_test)\n",
        "toc=time.time()\n",
        "test_time=toc-tic\n",
        "\n",
        "print(\"----- #4 - the 4th model -----\\n\")\n",
        "print(\"Training Time = {} s\".format(np.round(training_time, 1)))\n",
        "print(\"Testing Time = {} ms\".format(np.round(test_time*1000, 1)))\n",
        "print('Test Accuracy = {:.2f} %:'.format(np.round(test_acc, 3)*100))"
      ],
      "metadata": {
        "colab": {
          "base_uri": "https://localhost:8080/"
        },
        "id": "5dT3SZYSV58X",
        "outputId": "eb2fbe2d-fea4-4ff8-9eb3-ff19401f57ce"
      },
      "execution_count": 96,
      "outputs": [
        {
          "output_type": "stream",
          "name": "stdout",
          "text": [
            "19/19 [==============================] - 0s 11ms/step - loss: 0.3012 - accuracy: 0.9067\n",
            "----- #4 - the 4th model -----\n",
            "\n",
            "Training Time = 23.6 s\n",
            "Testing Time = 440.5 ms\n",
            "Test Accuracy = 90.70 %:\n"
          ]
        }
      ]
    }
  ],
  "metadata": {
    "accelerator": "GPU",
    "colab": {
      "provenance": []
    },
    "gpuClass": "standard",
    "kernelspec": {
      "display_name": "Python 3",
      "language": "python",
      "name": "python3"
    },
    "language_info": {
      "codemirror_mode": {
        "name": "ipython",
        "version": 3
      },
      "file_extension": ".py",
      "mimetype": "text/x-python",
      "name": "python",
      "nbconvert_exporter": "python",
      "pygments_lexer": "ipython3",
      "version": "3.11.2"
    },
    "orig_nbformat": 4
  },
  "nbformat": 4,
  "nbformat_minor": 0
}