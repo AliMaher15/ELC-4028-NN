{
  "cells": [
    {
      "cell_type": "markdown",
      "metadata": {
        "id": "ITaSzDbZvD_3"
      },
      "source": [
        "Import Libraries"
      ]
    },
    {
      "cell_type": "code",
      "execution_count": 81,
      "metadata": {
        "id": "xagm99P8BsB6"
      },
      "outputs": [],
      "source": [
        "#from google.colab import drive\n",
        "#drive.mount('/content/drive')"
      ]
    },
    {
      "cell_type": "code",
      "execution_count": 82,
      "metadata": {
        "id": "qGiZAJeKGyV7"
      },
      "outputs": [],
      "source": [
        "#!pip install tensorflow-io"
      ]
    },
    {
      "cell_type": "code",
      "execution_count": 83,
      "metadata": {
        "id": "6jlUf8k3vD_6"
      },
      "outputs": [],
      "source": [
        "import os\n",
        "import numpy as np\n",
        "from matplotlib import pyplot as plt\n",
        "import tensorflow as tf \n",
        "import tensorflow_io as tfio\n",
        "from tensorflow import keras\n",
        "from keras import backend as k"
      ]
    },
    {
      "cell_type": "markdown",
      "metadata": {
        "id": "8B9Gh9PaIawq"
      },
      "source": [
        "# 1. Process Audio into Spectogram"
      ]
    },
    {
      "cell_type": "markdown",
      "metadata": {
        "id": "WB9bSgGvvD_9"
      },
      "source": [
        "Variables:\n",
        "batch: the process of splitting the training dataset in n batches (mini-batches),\n",
        "classes: number of classifications (labels) of the data,\n",
        "epochs: variations, one epoch is one forward pass + one backward pass on training"
      ]
    },
    {
      "cell_type": "code",
      "execution_count": 84,
      "metadata": {
        "id": "xkOeJPRnvD_9"
      },
      "outputs": [],
      "source": [
        "#batch_size = 20\n",
        "num_classes = 10\n",
        "epochs = 4"
      ]
    },
    {
      "cell_type": "markdown",
      "metadata": {
        "id": "J3liWIk8vD_-"
      },
      "source": [
        "a function that returns audio in numeric representation"
      ]
    },
    {
      "cell_type": "code",
      "execution_count": 85,
      "metadata": {
        "id": "z3iDkeOvvD__"
      },
      "outputs": [],
      "source": [
        "def load_wav_16k_mono(filename):\n",
        "    # Load encoded wav file\n",
        "    file_contents = tf.io.read_file(filename)\n",
        "    # Decode wav (tensors by channels) \n",
        "    wav, sample_rate = tf.audio.decode_wav(file_contents, desired_channels=1)\n",
        "    # Removes trailing axis\n",
        "    wav = tf.squeeze(wav, axis=-1)\n",
        "    sample_rate = tf.cast(sample_rate, dtype=tf.int64)\n",
        "    # Goes from 44100Hz to 16000hz - amplitude of the audio signal\n",
        "    #wav = tfio.audio.resample(wav, rate_in=sample_rate, rate_out=16000)\n",
        "    return wav"
      ]
    },
    {
      "cell_type": "markdown",
      "metadata": {
        "id": "PtALjtjyvD__"
      },
      "source": [
        "Check a sample of audio"
      ]
    },
    {
      "cell_type": "code",
      "execution_count": 86,
      "metadata": {
        "colab": {
          "base_uri": "https://localhost:8080/",
          "height": 0
        },
        "id": "9S2SYAnWBklN",
        "outputId": "58e46d3a-302d-4172-cd86-051db5bb9de5"
      },
      "outputs": [
        {
          "data": {
            "image/png": "[encoded data removed]",
            "text/plain": [
              "<Figure size 640x480 with 1 Axes>"
            ]
          },
          "metadata": {},
          "output_type": "display_data"
        }
      ],
      "source": [
        "TRAIN_FILE = os.path.join('/content','drive','MyDrive','audio-data','Train','C03n_0.wav')\n",
        "TEST_FILE = os.path.join('/content','drive','MyDrive','audio-data','Test','C04n_2.wav')\n",
        "wave = load_wav_16k_mono(TRAIN_FILE)\n",
        "nwave = load_wav_16k_mono(TEST_FILE)\n",
        "plt.plot(wave)\n",
        "plt.plot(nwave)\n",
        "plt.show()"
      ]
    },
    {
      "cell_type": "code",
      "execution_count": 87,
      "metadata": {
        "id": "TAYZ_TrEvEAF"
      },
      "outputs": [],
      "source": [
        "TRAIN = os.path.join('/content','drive','MyDrive','audio-data', 'Train')\n",
        "TEST = os.path.join('/content','drive','MyDrive','audio-data', 'Test')"
      ]
    },
    {
      "cell_type": "markdown",
      "metadata": {
        "id": "MhqouUe-BklP"
      },
      "source": [
        "Read all audio files and sort"
      ]
    },
    {
      "cell_type": "code",
      "execution_count": 88,
      "metadata": {
        "id": "1f14-Y5NBklQ"
      },
      "outputs": [],
      "source": [
        "train = tf.data.Dataset.list_files(TRAIN+'/*.wav')\n",
        "train = sorted(list(train.as_numpy_iterator()))\n",
        "train = tf.data.Dataset.from_tensor_slices(train)\n",
        "test = tf.data.Dataset.list_files(TEST+'/*.wav')\n",
        "test = sorted(list(test.as_numpy_iterator()))\n",
        "test = tf.data.Dataset.from_tensor_slices(test)"
      ]
    },
    {
      "cell_type": "markdown",
      "metadata": {
        "id": "oL6VGLrKBklQ"
      },
      "source": [
        "Add Labels"
      ]
    },
    {
      "cell_type": "code",
      "execution_count": 89,
      "metadata": {
        "id": "FqnvMBIgBklR"
      },
      "outputs": [],
      "source": [
        "iterations = 0\n",
        "i = 0\n",
        "train_label = []\n",
        "while iterations!=len(train):\n",
        "    iterations +=1\n",
        "    train_label.append(i)\n",
        "    i += 1\n",
        "    if i == 10 :\n",
        "        i = 0\n",
        "train_label=keras.utils.to_categorical(train_label,num_classes)\n",
        "trainings = tf.data.Dataset.zip((train, tf.data.Dataset.from_tensor_slices(train_label)))\n",
        "#---------------------------------------------------------------#\n",
        "iterations = 0\n",
        "i = 0\n",
        "test_label=[]\n",
        "while iterations!=len(test):\n",
        "    iterations +=1\n",
        "    test_label.append(i)\n",
        "    i += 1\n",
        "    if i == 10 :\n",
        "        i = 0\n",
        "test_label=keras.utils.to_categorical(test_label,num_classes)\n",
        "testings = tf.data.Dataset.zip((test, tf.data.Dataset.from_tensor_slices(test_label)))"
      ]
    },
    {
      "cell_type": "markdown",
      "metadata": {
        "id": "Z9wucjBYBklR"
      },
      "source": [
        "Build Preprocessing Function to get spectogram"
      ]
    },
    {
      "cell_type": "code",
      "execution_count": 90,
      "metadata": {
        "id": "H1Uxr80iBklS"
      },
      "outputs": [],
      "source": [
        "def preprocess(file_path, label): \n",
        "    wav = load_wav_16k_mono(file_path)\n",
        "    #wav = wav[:48000]\n",
        "    #zero_padding = tf.zeros([48000] - tf.shape(wav), dtype=tf.float32)\n",
        "    #wav = tf.concat([zero_padding, wav],0)\n",
        "    spectrogram = tf.signal.stft(wav, frame_length=320, frame_step=32)\n",
        "    spectrogram = tf.abs(spectrogram)\n",
        "    spectrogram = tf.expand_dims(spectrogram, axis=2)\n",
        "    return spectrogram, label"
      ]
    },
    {
      "cell_type": "markdown",
      "metadata": {
        "id": "iVEx3Y2cBklS"
      },
      "source": [
        "Draw examples of spectogram"
      ]
    },
    {
      "cell_type": "code",
      "execution_count": 91,
      "metadata": {
        "colab": {
          "base_uri": "https://localhost:8080/",
          "height": 0
        },
        "id": "MsGPKUwPBklT",
        "outputId": "ada7e544-4f65-4fa8-e695-2c9bd76a0df6"
      },
      "outputs": [
        {
          "name": "stderr",
          "output_type": "stream",
          "text": [
            "/usr/local/lib/python3.9/dist-packages/matplotlib/text.py:1279: FutureWarning: elementwise comparison failed; returning scalar instead, but in the future will perform elementwise comparison\n",
            "  if s != self._text:\n"
          ]
        },
        {
          "data": {
            "image/png": "[encoded data removed]",
            "text/plain": [
              "<Figure size 640x480 with 4 Axes>"
            ]
          },
          "metadata": {},
          "output_type": "display_data"
        }
      ],
      "source": [
        "for i in range(4):\n",
        "    filepath, label = trainings.shuffle(buffer_size=10000).as_numpy_iterator().next()\n",
        "    spectrogram, label = preprocess(filepath, label)\n",
        "    plt.subplot(2,2,i+1)\n",
        "    plt.imshow(tf.transpose(spectrogram)[0])\n",
        "    plt.xlabel(label)\n",
        "plt.show()"
      ]
    },
    {
      "cell_type": "markdown",
      "metadata": {
        "id": "cq3zzxCPBklT"
      },
      "source": [
        "Convert all to Spectogram"
      ]
    },
    {
      "cell_type": "code",
      "execution_count": 92,
      "metadata": {
        "id": "iKKWiuGDBklT"
      },
      "outputs": [],
      "source": [
        "# train data\n",
        "x_train = trainings.map(preprocess)\n",
        "x_train = x_train.cache()\n",
        "x_train = x_train.shuffle(buffer_size=1000)\n",
        "x_train = x_train.batch(16) # 16 at a time\n",
        "x_train = x_train.prefetch(8)\n",
        "# test data\n",
        "x_test = testings.map(preprocess)\n",
        "x_test = x_test.cache()\n",
        "x_test = x_test.shuffle(buffer_size=1000)\n",
        "x_test = x_test.batch(16) # 16 at a time\n",
        "x_test = x_test.prefetch(8)"
      ]
    },
    {
      "cell_type": "code",
      "execution_count": 93,
      "metadata": {
        "colab": {
          "base_uri": "https://localhost:8080/"
        },
        "id": "NhvPPp2_BklU",
        "outputId": "851478a2-efd3-4185-bdcf-2333524784b7"
      },
      "outputs": [
        {
          "name": "stdout",
          "output_type": "stream",
          "text": [
            "(16, 391, 257, 1)\n",
            "\n",
            " [[0. 0. 0. 1. 0. 0. 0. 0. 0. 0.]\n",
            " [0. 0. 1. 0. 0. 0. 0. 0. 0. 0.]\n",
            " [0. 1. 0. 0. 0. 0. 0. 0. 0. 0.]\n",
            " [0. 0. 1. 0. 0. 0. 0. 0. 0. 0.]\n",
            " [1. 0. 0. 0. 0. 0. 0. 0. 0. 0.]\n",
            " [0. 1. 0. 0. 0. 0. 0. 0. 0. 0.]\n",
            " [0. 0. 0. 0. 0. 0. 1. 0. 0. 0.]\n",
            " [1. 0. 0. 0. 0. 0. 0. 0. 0. 0.]\n",
            " [0. 0. 0. 0. 0. 1. 0. 0. 0. 0.]\n",
            " [0. 0. 1. 0. 0. 0. 0. 0. 0. 0.]\n",
            " [0. 0. 0. 0. 1. 0. 0. 0. 0. 0.]\n",
            " [0. 0. 0. 1. 0. 0. 0. 0. 0. 0.]\n",
            " [0. 0. 0. 0. 0. 0. 1. 0. 0. 0.]\n",
            " [0. 0. 1. 0. 0. 0. 0. 0. 0. 0.]\n",
            " [0. 0. 0. 0. 0. 0. 0. 0. 0. 1.]\n",
            " [0. 0. 0. 0. 0. 0. 0. 0. 1. 0.]]\n"
          ]
        }
      ],
      "source": [
        "# test one batch\n",
        "samples, labels = x_train.as_numpy_iterator().next()\n",
        "print(samples.shape)\n",
        "print('\\n',labels)"
      ]
    },
    {
      "cell_type": "markdown",
      "metadata": {
        "id": "pX1ZVQVBHtjW"
      },
      "source": [
        "# 2. CNN no Attention"
      ]
    },
    {
      "cell_type": "markdown",
      "metadata": {
        "id": "8zGyNu1XvEAG"
      },
      "source": [
        "Design the CNN architecture"
      ]
    },
    {
      "cell_type": "code",
      "execution_count": 94,
      "metadata": {
        "id": "VDmx4mx8BklV"
      },
      "outputs": [],
      "source": [
        "from keras.models import Sequential\n",
        "from keras import layers"
      ]
    },
    {
      "cell_type": "code",
      "execution_count": 95,
      "metadata": {
        "colab": {
          "base_uri": "https://localhost:8080/"
        },
        "id": "dgaH6t_XvEAG",
        "outputId": "93172aba-d723-42ad-d844-afa5e9b5c418"
      },
      "outputs": [
        {
          "name": "stdout",
          "output_type": "stream",
          "text": [
            "Model: \"sequential_3\"\n",
            "_________________________________________________________________\n",
            " Layer (type)                Output Shape              Param #   \n",
            "=================================================================\n",
            " conv2d_10 (Conv2D)          (None, 389, 255, 32)      320       \n",
            "                                                                 \n",
            " max_pooling2d_10 (MaxPoolin  (None, 194, 127, 32)     0         \n",
            " g2D)                                                            \n",
            "                                                                 \n",
            " conv2d_11 (Conv2D)          (None, 192, 125, 64)      18496     \n",
            "                                                                 \n",
            " max_pooling2d_11 (MaxPoolin  (None, 96, 62, 64)       0         \n",
            " g2D)                                                            \n",
            "                                                                 \n",
            " flatten_4 (Flatten)         (None, 380928)            0         \n",
            "                                                                 \n",
            " dense_8 (Dense)             (None, 32)                12189728  \n",
            "                                                                 \n",
            " dense_9 (Dense)             (None, 10)                330       \n",
            "                                                                 \n",
            "=================================================================\n",
            "Total params: 12,208,874\n",
            "Trainable params: 12,208,874\n",
            "Non-trainable params: 0\n",
            "_________________________________________________________________\n"
          ]
        }
      ],
      "source": [
        "model=Sequential()\n",
        "input_shape = (391, 257, 1)\n",
        "model.add( layers.Conv2D(32,kernel_size=(3,3),activation='relu',input_shape=input_shape) )\n",
        "model.add( layers.MaxPooling2D(pool_size=(2,2)) )\n",
        "model.add( layers.Dropout(0.2) )\n",
        "model.add( layers.Flatten() )\n",
        "model.add( layers.Dense(32,activation='relu') )\n",
        "model.add( layers.Dense(num_classes,activation='softmax') )\n",
        "model.summary()"
      ]
    },
    {
      "cell_type": "markdown",
      "metadata": {
        "id": "1HR8V-FSvEAH"
      },
      "source": [
        "Training"
      ]
    },
    {
      "cell_type": "code",
      "execution_count": 96,
      "metadata": {
        "id": "4CRJsl0rBklW"
      },
      "outputs": [],
      "source": [
        "model.compile(optimizer=keras.optimizers.Adam(),\n",
        "              loss=keras.losses.categorical_crossentropy,\n",
        "              metrics=['accuracy']\n",
        "             )"
      ]
    },
    {
      "cell_type": "code",
      "execution_count": 97,
      "metadata": {
        "colab": {
          "base_uri": "https://localhost:8080/"
        },
        "id": "fil5Jz7zvEAI",
        "outputId": "ab164576-b2c5-451e-c89a-46cc7a0242e8"
      },
      "outputs": [
        {
          "name": "stdout",
          "output_type": "stream",
          "text": [
            "Epoch 1/4\n",
            "75/75 [==============================] - 13s 72ms/step - loss: 1.6801 - accuracy: 0.4983 - val_loss: 1.0176 - val_accuracy: 0.6967\n",
            "Epoch 2/4\n",
            "75/75 [==============================] - 3s 40ms/step - loss: 0.4932 - accuracy: 0.8600 - val_loss: 1.0462 - val_accuracy: 0.7667\n",
            "Epoch 3/4\n",
            "75/75 [==============================] - 3s 39ms/step - loss: 0.2516 - accuracy: 0.9408 - val_loss: 1.0525 - val_accuracy: 0.7800\n",
            "Epoch 4/4\n",
            "75/75 [==============================] - 3s 38ms/step - loss: 0.1798 - accuracy: 0.9625 - val_loss: 1.2533 - val_accuracy: 0.7633\n"
          ]
        },
        {
          "data": {
            "text/plain": [
              "<keras.callbacks.History at 0x7f9556ff2e20>"
            ]
          },
          "execution_count": 97,
          "metadata": {},
          "output_type": "execute_result"
        }
      ],
      "source": [
        "model.fit(x_train,\n",
        "          epochs=epochs,\n",
        "          verbose=1,\n",
        "          validation_data=x_test\n",
        "          )"
      ]
    },
    {
      "cell_type": "code",
      "execution_count": 98,
      "metadata": {
        "colab": {
          "base_uri": "https://localhost:8080/"
        },
        "id": "_6puCERJJVqY",
        "outputId": "2ed1e4a9-6d66-46d6-c38e-618cb9d3ef15"
      },
      "outputs": [
        {
          "name": "stdout",
          "output_type": "stream",
          "text": [
            "19/19 [==============================] - 0s 15ms/step - loss: 1.2533 - accuracy: 0.7633\n",
            "Test Accuracy = 76.30 %:\n"
          ]
        }
      ],
      "source": [
        "test_loss, test_acc = model.evaluate(x_test)\n",
        "print('Test Accuracy = {:.2f} %:'.format(np.round(test_acc, 3)*100))"
      ]
    },
    {
      "cell_type": "markdown",
      "metadata": {
        "id": "NnjGStQcHorX"
      },
      "source": [
        "# 3. CNN with Attention"
      ]
    },
    {
      "cell_type": "markdown",
      "metadata": {
        "id": "X9ryVXwXH7au"
      },
      "source": [
        "Design the CNN architecture"
      ]
    },
    {
      "cell_type": "code",
      "execution_count": 99,
      "metadata": {
        "colab": {
          "base_uri": "https://localhost:8080/"
        },
        "id": "7J2O7FcDH6d7",
        "outputId": "f9695769-81bc-41bd-fac4-e199c712440b"
      },
      "outputs": [
        {
          "name": "stdout",
          "output_type": "stream",
          "text": [
            "Model: \"model_1\"\n",
            "__________________________________________________________________________________________________\n",
            " Layer (type)                   Output Shape         Param #     Connected to                     \n",
            "==================================================================================================\n",
            " input_2 (InputLayer)           [(None, 391, 257, 1  0           []                               \n",
            "                                )]                                                                \n",
            "                                                                                                  \n",
            " conv2d_12 (Conv2D)             (None, 389, 255, 32  320         ['input_2[0][0]']                \n",
            "                                )                                                                 \n",
            "                                                                                                  \n",
            " max_pooling2d_12 (MaxPooling2D  (None, 194, 127, 32  0          ['conv2d_12[0][0]']              \n",
            " )                              )                                                                 \n",
            "                                                                                                  \n",
            " conv2d_13 (Conv2D)             (None, 194, 127, 1)  33          ['max_pooling2d_12[0][0]']       \n",
            "                                                                                                  \n",
            " multiply_2 (Multiply)          (None, 194, 127, 32  0           ['max_pooling2d_12[0][0]',       \n",
            "                                )                                 'conv2d_13[0][0]']              \n",
            "                                                                                                  \n",
            " max_pooling2d_13 (MaxPooling2D  (None, 97, 63, 32)  0           ['multiply_2[0][0]']             \n",
            " )                                                                                                \n",
            "                                                                                                  \n",
            " conv2d_14 (Conv2D)             (None, 95, 61, 64)   18496       ['max_pooling2d_13[0][0]']       \n",
            "                                                                                                  \n",
            " max_pooling2d_14 (MaxPooling2D  (None, 47, 30, 64)  0           ['conv2d_14[0][0]']              \n",
            " )                                                                                                \n",
            "                                                                                                  \n",
            " conv2d_15 (Conv2D)             (None, 47, 30, 1)    65          ['max_pooling2d_14[0][0]']       \n",
            "                                                                                                  \n",
            " multiply_3 (Multiply)          (None, 47, 30, 64)   0           ['max_pooling2d_14[0][0]',       \n",
            "                                                                  'conv2d_15[0][0]']              \n",
            "                                                                                                  \n",
            " max_pooling2d_15 (MaxPooling2D  (None, 23, 15, 64)  0           ['multiply_3[0][0]']             \n",
            " )                                                                                                \n",
            "                                                                                                  \n",
            " flatten_5 (Flatten)            (None, 22080)        0           ['max_pooling2d_15[0][0]']       \n",
            "                                                                                                  \n",
            " dense_10 (Dense)               (None, 32)           706592      ['flatten_5[0][0]']              \n",
            "                                                                                                  \n",
            " dense_11 (Dense)               (None, 10)           330         ['dense_10[0][0]']               \n",
            "                                                                                                  \n",
            "==================================================================================================\n",
            "Total params: 725,836\n",
            "Trainable params: 725,836\n",
            "Non-trainable params: 0\n",
            "__________________________________________________________________________________________________\n"
          ]
        }
      ],
      "source": [
        "inputs = layers.Input(shape=input_shape)\n",
        "\n",
        "conv1 = layers.Conv2D(32,kernel_size=(3,3),activation='relu')(inputs)\n",
        "pool1 = layers.MaxPool2D(pool_size=(2,2))(conv1)\n",
        "#Attention1\n",
        "attention_conv1 = layers.Conv2D(1, (3,3), padding='same', activation='sigmoid')(pool1)\n",
        "attention_mul1 = layers.Multiply()([pool1, attention_conv1])\n",
        "pool2 = layers.MaxPool2D(pool_size=(2,2))(attention_mul1)\n",
        "##########\n",
        "drop1 = layers.Dropout(0.2)(pool2)\n",
        "flatten2 = layers.Flatten()(drop1)\n",
        "dense2 = layers.Dense(32,activation='relu')(flatten2)\n",
        "dense3 = layers.Dense(num_classes,activation='softmax')(dense2)\n",
        "\n",
        "modelAtt = keras.Model(inputs=inputs, outputs=dense3)\n",
        "\n",
        "modelAtt.summary()"
      ]
    },
    {
      "cell_type": "markdown",
      "metadata": {
        "id": "dwXMnyAiIG1T"
      },
      "source": [
        "Training"
      ]
    },
    {
      "cell_type": "code",
      "execution_count": 100,
      "metadata": {
        "id": "8ejqCmZ1IIKk"
      },
      "outputs": [],
      "source": [
        "modelAtt.compile(optimizer=keras.optimizers.Adam(),\n",
        "              loss= keras.losses.CategoricalCrossentropy(),\n",
        "              metrics=['accuracy']\n",
        "             )"
      ]
    },
    {
      "cell_type": "code",
      "execution_count": 101,
      "metadata": {
        "colab": {
          "base_uri": "https://localhost:8080/"
        },
        "id": "p4hEzys7IKNS",
        "outputId": "1c9b3e6a-a25c-43c0-a64a-fcb267093071"
      },
      "outputs": [
        {
          "name": "stdout",
          "output_type": "stream",
          "text": [
            "Epoch 1/4\n",
            "75/75 [==============================] - 5s 33ms/step - loss: 1.5404 - accuracy: 0.5317 - val_loss: 1.1173 - val_accuracy: 0.7000\n",
            "Epoch 2/4\n",
            "75/75 [==============================] - 2s 31ms/step - loss: 0.6520 - accuracy: 0.8275 - val_loss: 1.2581 - val_accuracy: 0.6967\n",
            "Epoch 3/4\n",
            "75/75 [==============================] - 2s 33ms/step - loss: 0.3326 - accuracy: 0.9000 - val_loss: 1.0731 - val_accuracy: 0.7567\n",
            "Epoch 4/4\n",
            "75/75 [==============================] - 2s 33ms/step - loss: 0.2562 - accuracy: 0.9342 - val_loss: 1.0809 - val_accuracy: 0.8433\n"
          ]
        },
        {
          "data": {
            "text/plain": [
              "<keras.callbacks.History at 0x7f95724d1970>"
            ]
          },
          "execution_count": 101,
          "metadata": {},
          "output_type": "execute_result"
        }
      ],
      "source": [
        "modelAtt.fit(x_train,\n",
        "          epochs=epochs,\n",
        "          verbose=1,\n",
        "          validation_data=x_test\n",
        "          )"
      ]
    },
    {
      "cell_type": "code",
      "execution_count": 102,
      "metadata": {
        "colab": {
          "base_uri": "https://localhost:8080/"
        },
        "id": "GXj-H100JpsN",
        "outputId": "9a1c62c1-1c27-4313-ba25-6d21d1e983ba"
      },
      "outputs": [
        {
          "name": "stdout",
          "output_type": "stream",
          "text": [
            "19/19 [==============================] - 0s 12ms/step - loss: 1.0809 - accuracy: 0.8433\n",
            "Test Accuracy = 84.30 %:\n"
          ]
        }
      ],
      "source": [
        "test_loss, test_acc = modelAtt.evaluate(x_test)\n",
        "print('Test Accuracy = {:.2f} %:'.format(np.round(test_acc, 3)*100))"
      ]
    }
  ],
  "metadata": {
    "accelerator": "GPU",
    "colab": {
      "provenance": []
    },
    "gpuClass": "standard",
    "kernelspec": {
      "display_name": "Python 3",
      "language": "python",
      "name": "python3"
    },
    "language_info": {
      "codemirror_mode": {
        "name": "ipython",
        "version": 3
      },
      "file_extension": ".py",
      "mimetype": "text/x-python",
      "name": "python",
      "nbconvert_exporter": "python",
      "pygments_lexer": "ipython3",
      "version": "3.10.6"
    },
    "orig_nbformat": 4
  },
  "nbformat": 4,
  "nbformat_minor": 0
}
