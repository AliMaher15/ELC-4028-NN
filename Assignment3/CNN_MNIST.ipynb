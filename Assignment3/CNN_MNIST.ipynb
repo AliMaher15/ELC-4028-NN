{
 "cells": [
  {
   "attachments": {},
   "cell_type": "markdown",
   "metadata": {},
   "source": [
    "Import Libraries"
   ]
  },
  {
   "cell_type": "code",
   "execution_count": 1,
   "metadata": {},
   "outputs": [],
   "source": [
    "import tensorflow as tf\n",
    "import tensorflow.experimental.numpy as tnp\n",
    "import matplotlib.pyplot as plt\n",
    "from tensorflow import keras\n",
    "from __future__ import print_function\n",
    "from keras.datasets import mnist\n",
    "from keras.models import Sequential\n",
    "from keras.layers import Dense,Dropout,Flatten\n",
    "from keras.layers import Conv2D,MaxPool2D\n",
    "from keras import backend as k"
   ]
  },
  {
   "attachments": {},
   "cell_type": "markdown",
   "metadata": {},
   "source": [
    "Variables:\n",
    "batch: the process of splitting the training dataset in n batches (mini-batches)\n",
    "classes: number of classifications (labels) of the data\n",
    "epochs: variations, one epoch is one forward pass + one backward pass on training"
   ]
  },
  {
   "cell_type": "code",
   "execution_count": 2,
   "metadata": {},
   "outputs": [],
   "source": [
    "batch_size = 128\n",
    "num_classes = 10\n",
    "epochs = 12"
   ]
  },
  {
   "attachments": {},
   "cell_type": "markdown",
   "metadata": {},
   "source": [
    "Assign training and test data"
   ]
  },
  {
   "cell_type": "code",
   "execution_count": 3,
   "metadata": {},
   "outputs": [],
   "source": [
    "img_rows, img_cols = 28,28\n",
    "(x_train,y_train),(x_test,y_test) =   mnist.load_data()"
   ]
  },
  {
   "attachments": {},
   "cell_type": "markdown",
   "metadata": {},
   "source": [
    "Reshape the images"
   ]
  },
  {
   "cell_type": "code",
   "execution_count": 4,
   "metadata": {},
   "outputs": [
    {
     "name": "stdout",
     "output_type": "stream",
     "text": [
      "x_train shape: (60000, 28, 28, 1) \n",
      "x_test shape: (10000, 28, 28, 1)\n"
     ]
    }
   ],
   "source": [
    "if k.image_data_format()=='channels_first':\n",
    "    x_train=x_train.reshape(x_train.shape[0],img_rows,img_cols,1)\n",
    "    x_test=x_test.reshape(x_test.shape[0],img_rows,img_cols,1)\n",
    "else:\n",
    "    x_train=x_train.reshape(x_train.shape[0],img_rows,img_cols,1)\n",
    "    x_test=x_test.reshape(x_test.shape[0],img_rows,img_cols,1)\n",
    "\n",
    "input_shape=(img_rows,img_cols,1)\n",
    "x_train = x_train/255.0\n",
    "x_test=x_test/255.0\n",
    "print('x_train shape:',x_train.shape,'\\nx_test shape:',x_test.shape)"
   ]
  },
  {
   "attachments": {},
   "cell_type": "markdown",
   "metadata": {},
   "source": [
    "Convert class vectors to binary class matrices"
   ]
  },
  {
   "cell_type": "code",
   "execution_count": 5,
   "metadata": {},
   "outputs": [],
   "source": [
    "y_train=keras.utils.to_categorical(y_train,num_classes)\n",
    "y_test=keras.utils.to_categorical(y_test,num_classes)"
   ]
  },
  {
   "attachments": {},
   "cell_type": "markdown",
   "metadata": {},
   "source": [
    "Design the CNN architecture"
   ]
  },
  {
   "cell_type": "code",
   "execution_count": 6,
   "metadata": {},
   "outputs": [
    {
     "name": "stdout",
     "output_type": "stream",
     "text": [
      "Model: \"sequential\"\n",
      "_________________________________________________________________\n",
      " Layer (type)                Output Shape              Param #   \n",
      "=================================================================\n",
      " conv2d (Conv2D)             (None, 26, 26, 32)        320       \n",
      "                                                                 \n",
      " conv2d_1 (Conv2D)           (None, 24, 24, 64)        18496     \n",
      "                                                                 \n",
      " max_pooling2d (MaxPooling2D  (None, 12, 12, 64)       0         \n",
      " )                                                               \n",
      "                                                                 \n",
      " flatten (Flatten)           (None, 9216)              0         \n",
      "                                                                 \n",
      " dense (Dense)               (None, 128)               1179776   \n",
      "                                                                 \n",
      " dense_1 (Dense)             (None, 10)                1290      \n",
      "                                                                 \n",
      "=================================================================\n",
      "Total params: 1,199,882\n",
      "Trainable params: 1,199,882\n",
      "Non-trainable params: 0\n",
      "_________________________________________________________________\n"
     ]
    }
   ],
   "source": [
    "model=Sequential()\n",
    "\n",
    "model.add( Conv2D(32,kernel_size=(3,3),activation='relu',input_shape=input_shape) )\n",
    "#model.add(MaxPool2D(pool_size=(2,2)))\n",
    "model.add( Conv2D(64,kernel_size=(3,3),activation='relu') )\n",
    "model.add( MaxPool2D(pool_size=(2,2)) )\n",
    "model.add( Flatten() )\n",
    "model.add( Dense(128,activation='relu') )\n",
    "model.add( Dense(num_classes,activation='softmax') )\n",
    "model.summary()"
   ]
  },
  {
   "attachments": {},
   "cell_type": "markdown",
   "metadata": {},
   "source": [
    "Compile the model"
   ]
  },
  {
   "cell_type": "code",
   "execution_count": 7,
   "metadata": {},
   "outputs": [
    {
     "name": "stdout",
     "output_type": "stream",
     "text": [
      "Epoch 1/12\n",
      "469/469 [==============================] - 111s 234ms/step - loss: 2.2641 - accuracy: 0.2641 - val_loss: 2.2058 - val_accuracy: 0.4212\n",
      "Epoch 2/12\n",
      "469/469 [==============================] - 113s 240ms/step - loss: 2.1400 - accuracy: 0.5143 - val_loss: 2.0570 - val_accuracy: 0.5666\n",
      "Epoch 3/12\n",
      "469/469 [==============================] - 109s 233ms/step - loss: 1.9518 - accuracy: 0.5999 - val_loss: 1.8121 - val_accuracy: 0.6475\n",
      "Epoch 4/12\n",
      "469/469 [==============================] - 109s 231ms/step - loss: 1.6558 - accuracy: 0.6738 - val_loss: 1.4594 - val_accuracy: 0.7234\n",
      "Epoch 5/12\n",
      "469/469 [==============================] - 98s 209ms/step - loss: 1.2956 - accuracy: 0.7422 - val_loss: 1.1013 - val_accuracy: 0.7917\n",
      "Epoch 6/12\n",
      "469/469 [==============================] - 96s 205ms/step - loss: 0.9873 - accuracy: 0.7932 - val_loss: 0.8406 - val_accuracy: 0.8281\n",
      "Epoch 7/12\n",
      "469/469 [==============================] - 97s 206ms/step - loss: 0.7794 - accuracy: 0.8240 - val_loss: 0.6772 - val_accuracy: 0.8468\n",
      "Epoch 8/12\n",
      "469/469 [==============================] - 95s 203ms/step - loss: 0.6492 - accuracy: 0.8445 - val_loss: 0.5755 - val_accuracy: 0.8642\n",
      "Epoch 9/12\n",
      "469/469 [==============================] - 96s 204ms/step - loss: 0.5659 - accuracy: 0.8585 - val_loss: 0.5088 - val_accuracy: 0.8749\n",
      "Epoch 10/12\n",
      "469/469 [==============================] - 94s 200ms/step - loss: 0.5094 - accuracy: 0.8686 - val_loss: 0.4631 - val_accuracy: 0.8833\n",
      "Epoch 11/12\n",
      "469/469 [==============================] - 93s 198ms/step - loss: 0.4693 - accuracy: 0.8758 - val_loss: 0.4299 - val_accuracy: 0.8890\n",
      "Epoch 12/12\n",
      "469/469 [==============================] - 93s 199ms/step - loss: 0.4393 - accuracy: 0.8821 - val_loss: 0.4048 - val_accuracy: 0.8937\n"
     ]
    },
    {
     "data": {
      "text/plain": [
       "<keras.callbacks.History at 0x1ef9370fc40>"
      ]
     },
     "execution_count": 7,
     "metadata": {},
     "output_type": "execute_result"
    }
   ],
   "source": [
    "model.compile(optimizer=keras.optimizers.Adadelta(),\n",
    "              loss=keras.losses.categorical_crossentropy,\n",
    "              metrics=['accuracy']\n",
    "             )\n",
    "model.fit(x_train,y_train,\n",
    "          batch_size=batch_size,\n",
    "          epochs=epochs,\n",
    "          verbose=1,\n",
    "          validation_data=(x_test,y_test)\n",
    "          )"
   ]
  },
  {
   "attachments": {},
   "cell_type": "markdown",
   "metadata": {},
   "source": [
    "Evaluate the model on test data"
   ]
  },
  {
   "cell_type": "code",
   "execution_count": null,
   "metadata": {},
   "outputs": [],
   "source": [
    "test_loss,test_acc=model.evaluate(test_imgs,test_labels,verbose=2)\n",
    "print('\\nTest accuracy',test_acc*100,'%')"
   ]
  }
 ],
 "metadata": {
  "kernelspec": {
   "display_name": "Python 3",
   "language": "python",
   "name": "python3"
  },
  "language_info": {
   "codemirror_mode": {
    "name": "ipython",
    "version": 3
   },
   "file_extension": ".py",
   "mimetype": "text/x-python",
   "name": "python",
   "nbconvert_exporter": "python",
   "pygments_lexer": "ipython3",
   "version": "3.10.6"
  },
  "orig_nbformat": 4
 },
 "nbformat": 4,
 "nbformat_minor": 2
}
