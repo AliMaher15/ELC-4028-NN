{
  "cells": [
    {
      "cell_type": "markdown",
      "metadata": {
        "id": "ITaSzDbZvD_3"
      },
      "source": [
        "Import Libraries"
      ]
    },
    {
      "cell_type": "code",
      "source": [
        "!pip install tensorflow-io"
      ],
      "metadata": {
        "id": "jO8PJYQIKycK",
        "outputId": "52530616-ccdc-4867-9032-fcae985c834e",
        "colab": {
          "base_uri": "https://localhost:8080/"
        }
      },
      "execution_count": 1,
      "outputs": [
        {
          "output_type": "stream",
          "name": "stdout",
          "text": [
            "Looking in indexes: https://pypi.org/simple, https://us-python.pkg.dev/colab-wheels/public/simple/\n",
            "Collecting tensorflow-io\n",
            "  Downloading tensorflow_io-0.32.0-cp39-cp39-manylinux_2_12_x86_64.manylinux2010_x86_64.whl (28.0 MB)\n",
            "\u001b[2K     \u001b[90m━━━━━━━━━━━━━━━━━━━━━━━━━━━━━━━━━━━━━━━━\u001b[0m \u001b[32m28.0/28.0 MB\u001b[0m \u001b[31m54.6 MB/s\u001b[0m eta \u001b[36m0:00:00\u001b[0m\n",
            "\u001b[?25hRequirement already satisfied: tensorflow-io-gcs-filesystem==0.32.0 in /usr/local/lib/python3.9/dist-packages (from tensorflow-io) (0.32.0)\n",
            "Installing collected packages: tensorflow-io\n",
            "Successfully installed tensorflow-io-0.32.0\n"
          ]
        }
      ]
    },
    {
      "cell_type": "code",
      "execution_count": 2,
      "metadata": {
        "id": "6jlUf8k3vD_6"
      },
      "outputs": [],
      "source": [
        "import tensorflow as tf\n",
        "import numpy as np\n",
        "import matplotlib.pyplot as plt\n",
        "from tensorflow import keras\n",
        "from keras.datasets import mnist\n",
        "from keras import backend as k"
      ]
    },
    {
      "cell_type": "markdown",
      "source": [
        "# 1. Process MNIST dataset"
      ],
      "metadata": {
        "id": "AB_EbkmDK8vQ"
      }
    },
    {
      "cell_type": "markdown",
      "metadata": {
        "id": "WB9bSgGvvD_9"
      },
      "source": [
        "Variables:\n",
        "batch: the process of splitting the training dataset in n batches (mini-batches),\n",
        "classes: number of classifications (labels) of the data,\n",
        "epochs: variations, one epoch is one forward pass + one backward pass on training"
      ]
    },
    {
      "cell_type": "code",
      "execution_count": 3,
      "metadata": {
        "id": "xkOeJPRnvD_9"
      },
      "outputs": [],
      "source": [
        "batch_size = 128\n",
        "num_classes = 10\n",
        "epochs = 4"
      ]
    },
    {
      "cell_type": "markdown",
      "metadata": {
        "id": "J3liWIk8vD_-"
      },
      "source": [
        "Assign training and test data"
      ]
    },
    {
      "cell_type": "code",
      "execution_count": 4,
      "metadata": {
        "id": "z3iDkeOvvD__",
        "outputId": "16f822ef-264a-410a-e8f9-dbe4646eb9ec",
        "colab": {
          "base_uri": "https://localhost:8080/"
        }
      },
      "outputs": [
        {
          "output_type": "stream",
          "name": "stdout",
          "text": [
            "Downloading data from https://storage.googleapis.com/tensorflow/tf-keras-datasets/mnist.npz\n",
            "11490434/11490434 [==============================] - 0s 0us/step\n"
          ]
        }
      ],
      "source": [
        "img_rows, img_cols = 28,28\n",
        "(x_train,y_train),(x_test,y_test) =   mnist.load_data()"
      ]
    },
    {
      "cell_type": "markdown",
      "metadata": {
        "id": "PtALjtjyvD__"
      },
      "source": [
        "Reshape the images"
      ]
    },
    {
      "cell_type": "code",
      "execution_count": 5,
      "metadata": {
        "colab": {
          "base_uri": "https://localhost:8080/"
        },
        "id": "1cFLpxMyvEAA",
        "outputId": "c11ffaab-8478-490a-c47b-47c59fc79ef0"
      },
      "outputs": [
        {
          "output_type": "stream",
          "name": "stdout",
          "text": [
            "x_train shape: (60000, 28, 28, 1) \n",
            "x_test shape: (10000, 28, 28, 1)\n"
          ]
        }
      ],
      "source": [
        "if k.image_data_format()=='channels_first':\n",
        "    x_train=x_train.reshape(x_train.shape[0],img_rows,img_cols,1)\n",
        "    x_test=x_test.reshape(x_test.shape[0],img_rows,img_cols,1)\n",
        "else:\n",
        "    x_train=x_train.reshape(x_train.shape[0],img_rows,img_cols,1)\n",
        "    x_test=x_test.reshape(x_test.shape[0],img_rows,img_cols,1)\n",
        "\n",
        "input_shape=(img_rows,img_cols,1)\n",
        "x_train = x_train/255.0\n",
        "x_test=x_test/255.0\n",
        "print('x_train shape:',x_train.shape,'\\nx_test shape:',x_test.shape)"
      ]
    },
    {
      "cell_type": "markdown",
      "metadata": {
        "id": "sTYB1sIFvEAE"
      },
      "source": [
        "Convert class vectors to binary class matrices"
      ]
    },
    {
      "cell_type": "code",
      "execution_count": 6,
      "metadata": {
        "id": "TAYZ_TrEvEAF"
      },
      "outputs": [],
      "source": [
        "y_train=keras.utils.to_categorical(y_train,num_classes)\n",
        "y_test=keras.utils.to_categorical(y_test,num_classes)"
      ]
    },
    {
      "cell_type": "markdown",
      "source": [
        "# 2. CNN no Attention"
      ],
      "metadata": {
        "id": "DmJf9jtVLC8N"
      }
    },
    {
      "cell_type": "markdown",
      "metadata": {
        "id": "8zGyNu1XvEAG"
      },
      "source": [
        "Design the CNN architecture"
      ]
    },
    {
      "cell_type": "code",
      "execution_count": 7,
      "metadata": {
        "id": "uYJPbQDqKWiy"
      },
      "outputs": [],
      "source": [
        "from keras.models import Sequential\n",
        "from keras.layers import Dense,Flatten,Input\n",
        "from keras.layers import Conv2D,MaxPool2D,Multiply"
      ]
    },
    {
      "cell_type": "code",
      "execution_count": 8,
      "metadata": {
        "colab": {
          "base_uri": "https://localhost:8080/"
        },
        "id": "dgaH6t_XvEAG",
        "outputId": "362a31e3-9623-4653-c133-9791fbbf40d9"
      },
      "outputs": [
        {
          "output_type": "stream",
          "name": "stdout",
          "text": [
            "Model: \"sequential\"\n",
            "_________________________________________________________________\n",
            " Layer (type)                Output Shape              Param #   \n",
            "=================================================================\n",
            " conv2d (Conv2D)             (None, 26, 26, 32)        320       \n",
            "                                                                 \n",
            " max_pooling2d (MaxPooling2D  (None, 13, 13, 32)       0         \n",
            " )                                                               \n",
            "                                                                 \n",
            " conv2d_1 (Conv2D)           (None, 11, 11, 64)        18496     \n",
            "                                                                 \n",
            " max_pooling2d_1 (MaxPooling  (None, 5, 5, 64)         0         \n",
            " 2D)                                                             \n",
            "                                                                 \n",
            " flatten (Flatten)           (None, 1600)              0         \n",
            "                                                                 \n",
            " dense (Dense)               (None, 32)                51232     \n",
            "                                                                 \n",
            " dense_1 (Dense)             (None, 10)                330       \n",
            "                                                                 \n",
            "=================================================================\n",
            "Total params: 70,378\n",
            "Trainable params: 70,378\n",
            "Non-trainable params: 0\n",
            "_________________________________________________________________\n"
          ]
        }
      ],
      "source": [
        "model=Sequential()\n",
        "\n",
        "model.add( Conv2D(32,kernel_size=(3,3),activation='relu',input_shape=input_shape) )\n",
        "model.add( MaxPool2D(pool_size=(2,2)) )\n",
        "model.add( Conv2D(64,kernel_size=(3,3),activation='relu') )\n",
        "model.add( MaxPool2D(pool_size=(2,2)) )\n",
        "model.add( Flatten() )\n",
        "model.add( Dense(32,activation='relu') )\n",
        "model.add( Dense(num_classes,activation='softmax') )\n",
        "model.summary()"
      ]
    },
    {
      "cell_type": "code",
      "execution_count": 9,
      "metadata": {
        "colab": {
          "base_uri": "https://localhost:8080/"
        },
        "id": "fil5Jz7zvEAI",
        "outputId": "8305edef-51ca-4045-f662-e033c00e815d"
      },
      "outputs": [
        {
          "output_type": "stream",
          "name": "stdout",
          "text": [
            "Epoch 1/4\n",
            "469/469 [==============================] - 21s 6ms/step - loss: 0.2862 - accuracy: 0.9122 - val_loss: 0.0758 - val_accuracy: 0.9765\n",
            "Epoch 2/4\n",
            "469/469 [==============================] - 2s 5ms/step - loss: 0.0760 - accuracy: 0.9772 - val_loss: 0.0603 - val_accuracy: 0.9807\n",
            "Epoch 3/4\n",
            "469/469 [==============================] - 2s 5ms/step - loss: 0.0539 - accuracy: 0.9830 - val_loss: 0.0446 - val_accuracy: 0.9864\n",
            "Epoch 4/4\n",
            "469/469 [==============================] - 2s 5ms/step - loss: 0.0423 - accuracy: 0.9869 - val_loss: 0.0386 - val_accuracy: 0.9878\n"
          ]
        },
        {
          "output_type": "execute_result",
          "data": {
            "text/plain": [
              "<keras.callbacks.History at 0x7f4023c0d430>"
            ]
          },
          "metadata": {},
          "execution_count": 9
        }
      ],
      "source": [
        "model.compile(optimizer=keras.optimizers.Adam(),\n",
        "              loss=keras.losses.categorical_crossentropy,\n",
        "              metrics=['accuracy']\n",
        "             )\n",
        "model.fit(x_train,y_train,\n",
        "          batch_size=batch_size,\n",
        "          epochs=epochs,\n",
        "          verbose=1,\n",
        "          validation_data=(x_test,y_test)\n",
        "          )"
      ]
    },
    {
      "cell_type": "code",
      "source": [
        "test_loss, test_acc = model.evaluate(x_test,y_test)\n",
        "print('Test Accuracy = {:.2f} %:'.format(np.round(test_acc, 3)*100))"
      ],
      "metadata": {
        "id": "RdWeCmhnLUES",
        "outputId": "3122d2fb-9ace-47e9-d41e-b66621b73006",
        "colab": {
          "base_uri": "https://localhost:8080/"
        }
      },
      "execution_count": 16,
      "outputs": [
        {
          "output_type": "stream",
          "name": "stdout",
          "text": [
            "313/313 [==============================] - 1s 2ms/step - loss: 0.0386 - accuracy: 0.9878\n",
            "Test Accuracy = 98.80 %:\n"
          ]
        }
      ]
    },
    {
      "cell_type": "markdown",
      "source": [
        "# 3. CNN with Attention"
      ],
      "metadata": {
        "id": "kO-MoC3rLWLM"
      }
    },
    {
      "cell_type": "markdown",
      "source": [
        "Design the CNN architecture"
      ],
      "metadata": {
        "id": "n0aHUqv9LY9f"
      }
    },
    {
      "cell_type": "code",
      "source": [
        "inputs = Input(shape=input_shape)\n",
        "\n",
        "conv1 = Conv2D(32,kernel_size=(3,3),activation='relu')(inputs)\n",
        "pool1 = MaxPool2D(pool_size=(2,2))(conv1)\n",
        "#Attention1\n",
        "attention_conv1 = Conv2D(1, (1,1), padding='same', activation='sigmoid')(pool1)\n",
        "attention_mul1 = Multiply()([pool1, attention_conv1])\n",
        "pool2 = MaxPool2D(pool_size=(2,2))(attention_mul1)\n",
        "##########\n",
        "\n",
        "conv2 = Conv2D(64,kernel_size=(3,3),activation='relu')(pool2)\n",
        "pool3 = MaxPool2D(pool_size=(2,2))(conv2)\n",
        "#Attention2\n",
        "attention_conv2 = Conv2D(1, (1,1), padding='same', activation='sigmoid')(pool3)\n",
        "attention_mul2 = Multiply()([pool3, attention_conv2])\n",
        "pool4 = MaxPool2D(pool_size=(2,2))(attention_mul2)\n",
        "##########\n",
        "\n",
        "flatten2 = Flatten()(pool4)\n",
        "dense2 = Dense(32,activation='relu')(flatten2)\n",
        "dense3 = Dense(num_classes,activation='softmax')(dense2)\n",
        "\n",
        "modelAtt = keras.Model(inputs=inputs, outputs=dense3)\n",
        "\n",
        "modelAtt.summary()"
      ],
      "metadata": {
        "id": "N-llTRzmLa-U",
        "outputId": "655df7fe-21b0-487f-ac3f-88ef40f0e6e8",
        "colab": {
          "base_uri": "https://localhost:8080/"
        }
      },
      "execution_count": 11,
      "outputs": [
        {
          "output_type": "stream",
          "name": "stdout",
          "text": [
            "Model: \"model\"\n",
            "__________________________________________________________________________________________________\n",
            " Layer (type)                   Output Shape         Param #     Connected to                     \n",
            "==================================================================================================\n",
            " input_1 (InputLayer)           [(None, 28, 28, 1)]  0           []                               \n",
            "                                                                                                  \n",
            " conv2d_2 (Conv2D)              (None, 26, 26, 32)   320         ['input_1[0][0]']                \n",
            "                                                                                                  \n",
            " max_pooling2d_2 (MaxPooling2D)  (None, 13, 13, 32)  0           ['conv2d_2[0][0]']               \n",
            "                                                                                                  \n",
            " conv2d_3 (Conv2D)              (None, 13, 13, 1)    33          ['max_pooling2d_2[0][0]']        \n",
            "                                                                                                  \n",
            " multiply (Multiply)            (None, 13, 13, 32)   0           ['max_pooling2d_2[0][0]',        \n",
            "                                                                  'conv2d_3[0][0]']               \n",
            "                                                                                                  \n",
            " max_pooling2d_3 (MaxPooling2D)  (None, 6, 6, 32)    0           ['multiply[0][0]']               \n",
            "                                                                                                  \n",
            " conv2d_4 (Conv2D)              (None, 4, 4, 64)     18496       ['max_pooling2d_3[0][0]']        \n",
            "                                                                                                  \n",
            " max_pooling2d_4 (MaxPooling2D)  (None, 2, 2, 64)    0           ['conv2d_4[0][0]']               \n",
            "                                                                                                  \n",
            " conv2d_5 (Conv2D)              (None, 2, 2, 1)      65          ['max_pooling2d_4[0][0]']        \n",
            "                                                                                                  \n",
            " multiply_1 (Multiply)          (None, 2, 2, 64)     0           ['max_pooling2d_4[0][0]',        \n",
            "                                                                  'conv2d_5[0][0]']               \n",
            "                                                                                                  \n",
            " max_pooling2d_5 (MaxPooling2D)  (None, 1, 1, 64)    0           ['multiply_1[0][0]']             \n",
            "                                                                                                  \n",
            " flatten_1 (Flatten)            (None, 64)           0           ['max_pooling2d_5[0][0]']        \n",
            "                                                                                                  \n",
            " dense_2 (Dense)                (None, 32)           2080        ['flatten_1[0][0]']              \n",
            "                                                                                                  \n",
            " dense_3 (Dense)                (None, 10)           330         ['dense_2[0][0]']                \n",
            "                                                                                                  \n",
            "==================================================================================================\n",
            "Total params: 21,324\n",
            "Trainable params: 21,324\n",
            "Non-trainable params: 0\n",
            "__________________________________________________________________________________________________\n"
          ]
        }
      ]
    },
    {
      "cell_type": "code",
      "source": [
        "modelAtt.compile(optimizer=keras.optimizers.Adam(),\n",
        "              loss= keras.losses.CategoricalCrossentropy(),\n",
        "              metrics=['accuracy']\n",
        "             )\n",
        "modelAtt.fit(x_train,y_train,\n",
        "          batch_size=batch_size,\n",
        "          epochs=epochs,\n",
        "          verbose=1,\n",
        "          validation_data=(x_test,y_test)\n",
        "          )"
      ],
      "metadata": {
        "id": "TZoRvEPPLf-Y",
        "outputId": "062be00b-1a2f-4457-dcbb-51218aa72303",
        "colab": {
          "base_uri": "https://localhost:8080/"
        }
      },
      "execution_count": 12,
      "outputs": [
        {
          "output_type": "stream",
          "name": "stdout",
          "text": [
            "Epoch 1/4\n",
            "469/469 [==============================] - 5s 6ms/step - loss: 0.6068 - accuracy: 0.8218 - val_loss: 0.1601 - val_accuracy: 0.9534\n",
            "Epoch 2/4\n",
            "469/469 [==============================] - 2s 5ms/step - loss: 0.1413 - accuracy: 0.9588 - val_loss: 0.1090 - val_accuracy: 0.9685\n",
            "Epoch 3/4\n",
            "469/469 [==============================] - 5s 10ms/step - loss: 0.1012 - accuracy: 0.9698 - val_loss: 0.0805 - val_accuracy: 0.9745\n",
            "Epoch 4/4\n",
            "469/469 [==============================] - 4s 9ms/step - loss: 0.0813 - accuracy: 0.9756 - val_loss: 0.0698 - val_accuracy: 0.9780\n"
          ]
        },
        {
          "output_type": "execute_result",
          "data": {
            "text/plain": [
              "<keras.callbacks.History at 0x7f402375f1f0>"
            ]
          },
          "metadata": {},
          "execution_count": 12
        }
      ]
    },
    {
      "cell_type": "code",
      "source": [
        "test_loss, test_acc = modelAtt.evaluate(x_test,y_test)\n",
        "print('Test Accuracy = {:.2f} %:'.format(np.round(test_acc, 3)*100))"
      ],
      "metadata": {
        "id": "OSyHgpUlLlgh",
        "outputId": "8a62ee35-fa70-49b5-e638-90e62827bde9",
        "colab": {
          "base_uri": "https://localhost:8080/"
        }
      },
      "execution_count": 15,
      "outputs": [
        {
          "output_type": "stream",
          "name": "stdout",
          "text": [
            "313/313 [==============================] - 2s 6ms/step - loss: 0.0698 - accuracy: 0.9780\n",
            "Test Accuracy = 97.80 %:\n"
          ]
        }
      ]
    }
  ],
  "metadata": {
    "accelerator": "GPU",
    "colab": {
      "provenance": []
    },
    "gpuClass": "standard",
    "kernelspec": {
      "display_name": "Python 3",
      "language": "python",
      "name": "python3"
    },
    "language_info": {
      "codemirror_mode": {
        "name": "ipython",
        "version": 3
      },
      "file_extension": ".py",
      "mimetype": "text/x-python",
      "name": "python",
      "nbconvert_exporter": "python",
      "pygments_lexer": "ipython3",
      "version": "3.10.6"
    },
    "orig_nbformat": 4
  },
  "nbformat": 4,
  "nbformat_minor": 0
}